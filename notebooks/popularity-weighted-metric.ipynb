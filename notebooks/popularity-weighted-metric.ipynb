{
 "cells": [
  {
   "cell_type": "code",
   "execution_count": 1,
   "metadata": {
    "id": "S3N2chY4wgUn"
   },
   "outputs": [],
   "source": [
    "import requests\n",
    "from bs4 import BeautifulSoup\n",
    "# !pip install pycountry\n",
    "# import pycountry\n",
    "import pandas as pd\n",
    "import numpy as np\n",
    "import json"
   ]
  },
  {
   "cell_type": "code",
   "execution_count": 2,
   "metadata": {
    "id": "Wm8F9KYf0jWu"
   },
   "outputs": [],
   "source": [
    "import matplotlib.pyplot as plt\n",
    "from matplotlib import *\n",
    "import seaborn as sns"
   ]
  },
  {
   "cell_type": "code",
   "execution_count": null,
   "metadata": {
    "id": "2EgOhu4TWuHn"
   },
   "outputs": [],
   "source": [
    "# !pip install matplotlib-venn"
   ]
  },
  {
   "cell_type": "code",
   "execution_count": null,
   "metadata": {
    "id": "XzET889gmegr"
   },
   "outputs": [],
   "source": [
    "# !pip install upsetplot"
   ]
  },
  {
   "cell_type": "code",
   "execution_count": 3,
   "metadata": {
    "id": "Qi187MQ2WzYz"
   },
   "outputs": [],
   "source": [
    "# from matplotlib_venn import venn2, venn2_circles, venn2_unweighted\n",
    "# from matplotlib_venn import venn3, venn3_circles\n",
    "from matplotlib import pyplot as plt\n",
    "%matplotlib inline"
   ]
  },
  {
   "cell_type": "markdown",
   "metadata": {
    "id": "8TFS15sCMIlE"
   },
   "source": [
    "# Popularity-weighted blocking metric.\n",
    "\n",
    "Our goal here is to produce a *directed* measure of country-to-country website blocking.\n",
    "\n",
    "To illustrate our point,\n",
    "here's a thought experiment: if a Norwegian goes to Indonesia, would they\n",
    "actually notice that anything is blocked? If Indonesia blocks mostly Indonesian-language content, perhaps not. What if an American goes to China? Since China blocks most popular US websites, they probably will!\n",
    "\n",
    "We measure this X-to-Y country-to-country comparison here. Our initial goal, upon starting, is to suss out international conflict points.\n",
    "\n",
    "We'll do this measurement by finding the most *popular* websites in each country, according to Alexa.\n",
    "Then, for each country, we see which other countries block those popular sites. The intuition here is that blocking Wikipedia is a bigger deal than blocking some tiny political website, since the former is more popular (i.e., widely-visited) than the latter.\n"
   ]
  },
  {
   "cell_type": "markdown",
   "metadata": {
    "id": "JMMv8PlWcQhe"
   },
   "source": [
    "## Website blocking data\n",
    "You'll need to [download iclab-clean-fortiguard.csv here](https://berkeley.box.com/s/je4ld219m7somvqmb9bqu2v7z3il3n48).\n",
    "\n",
    "Alternatively, if you want to produce this file yourself (i.e., to replicate our work), just run `bloging-pattern-similarity-metric.ipynb` in this repository.\n"
   ]
  },
  {
   "cell_type": "code",
   "execution_count": 4,
   "metadata": {
    "colab": {
     "base_uri": "https://localhost:8080/"
    },
    "executionInfo": {
     "elapsed": 145021,
     "status": "ok",
     "timestamp": 1602532417686,
     "user": {
      "displayName": "Akhilesh Pandita",
      "photoUrl": "https://lh3.googleusercontent.com/a-/AOh14Gioyn_psFpyNg1ossFRn4t734eeAtpzs4SpsYHoamU=s64",
      "userId": "08765423750383672411"
     },
     "user_tz": 420
    },
    "id": "B0pNeq9wMIlG",
    "outputId": "2136480e-6014-47c2-fa64-1e384fc5811c"
   },
   "outputs": [
    {
     "name": "stderr",
     "output_type": "stream",
     "text": [
      "/home/ffff/.local/lib/python3.6/site-packages/IPython/core/interactiveshell.py:2785: DtypeWarning: Columns (5,6,10) have mixed types.Specify dtype option on import or set low_memory=False.\n",
      "  interactivity=interactivity, compiler=compiler, result=result)\n"
     ]
    }
   ],
   "source": [
    "iclabClean1 = pd.read_csv('../data/iclab_cleaned_data/iclab-cleaned-fortiguard.csv')"
   ]
  },
  {
   "cell_type": "markdown",
   "metadata": {
    "id": "JMMv8PlWcQhe"
   },
   "source": [
    "## Alexa data"
   ]
  },
  {
   "cell_type": "code",
   "execution_count": 5,
   "metadata": {
    "id": "Cf6CRJjQilCi"
   },
   "outputs": [
    {
     "data": {
      "text/html": [
       "<div>\n",
       "<style scoped>\n",
       "    .dataframe tbody tr th:only-of-type {\n",
       "        vertical-align: middle;\n",
       "    }\n",
       "\n",
       "    .dataframe tbody tr th {\n",
       "        vertical-align: top;\n",
       "    }\n",
       "\n",
       "    .dataframe thead th {\n",
       "        text-align: right;\n",
       "    }\n",
       "</style>\n",
       "<table border=\"1\" class=\"dataframe\">\n",
       "  <thead>\n",
       "    <tr style=\"text-align: right;\">\n",
       "      <th></th>\n",
       "      <th>rank</th>\n",
       "      <th>url</th>\n",
       "      <th>daily_time_on_site_per_visitor</th>\n",
       "      <th>daily_pageviews_per_visitor</th>\n",
       "      <th>perc_traffic_from_search</th>\n",
       "      <th>total_sites_linking_in</th>\n",
       "    </tr>\n",
       "  </thead>\n",
       "  <tbody>\n",
       "    <tr>\n",
       "      <th>0</th>\n",
       "      <td>1</td>\n",
       "      <td>google.com</td>\n",
       "      <td>15:43</td>\n",
       "      <td>17.09</td>\n",
       "      <td>0.004</td>\n",
       "      <td>1300441</td>\n",
       "    </tr>\n",
       "    <tr>\n",
       "      <th>1</th>\n",
       "      <td>2</td>\n",
       "      <td>youtube.com</td>\n",
       "      <td>16:54</td>\n",
       "      <td>9.68</td>\n",
       "      <td>0.149</td>\n",
       "      <td>988820</td>\n",
       "    </tr>\n",
       "    <tr>\n",
       "      <th>2</th>\n",
       "      <td>3</td>\n",
       "      <td>amazon.com</td>\n",
       "      <td>10:26</td>\n",
       "      <td>9.73</td>\n",
       "      <td>0.195</td>\n",
       "      <td>363277</td>\n",
       "    </tr>\n",
       "    <tr>\n",
       "      <th>3</th>\n",
       "      <td>4</td>\n",
       "      <td>yahoo.com</td>\n",
       "      <td>5:02</td>\n",
       "      <td>4.65</td>\n",
       "      <td>0.081</td>\n",
       "      <td>319186</td>\n",
       "    </tr>\n",
       "    <tr>\n",
       "      <th>4</th>\n",
       "      <td>5</td>\n",
       "      <td>facebook.com</td>\n",
       "      <td>18:52</td>\n",
       "      <td>8.83</td>\n",
       "      <td>0.088</td>\n",
       "      <td>2181031</td>\n",
       "    </tr>\n",
       "    <tr>\n",
       "      <th>5</th>\n",
       "      <td>6</td>\n",
       "      <td>zoom.us</td>\n",
       "      <td>8:29</td>\n",
       "      <td>3.94</td>\n",
       "      <td>0.127</td>\n",
       "      <td>3009</td>\n",
       "    </tr>\n",
       "    <tr>\n",
       "      <th>6</th>\n",
       "      <td>7</td>\n",
       "      <td>reddit.com</td>\n",
       "      <td>5:33</td>\n",
       "      <td>4.38</td>\n",
       "      <td>0.320</td>\n",
       "      <td>163041</td>\n",
       "    </tr>\n",
       "    <tr>\n",
       "      <th>7</th>\n",
       "      <td>8</td>\n",
       "      <td>wikipedia.org</td>\n",
       "      <td>3:47</td>\n",
       "      <td>3.04</td>\n",
       "      <td>0.740</td>\n",
       "      <td>763999</td>\n",
       "    </tr>\n",
       "    <tr>\n",
       "      <th>8</th>\n",
       "      <td>9</td>\n",
       "      <td>myshopify.com</td>\n",
       "      <td>22:17</td>\n",
       "      <td>14.47</td>\n",
       "      <td>0.030</td>\n",
       "      <td>118</td>\n",
       "    </tr>\n",
       "    <tr>\n",
       "      <th>9</th>\n",
       "      <td>10</td>\n",
       "      <td>ebay.com</td>\n",
       "      <td>10:10</td>\n",
       "      <td>8.04</td>\n",
       "      <td>0.164</td>\n",
       "      <td>74970</td>\n",
       "    </tr>\n",
       "    <tr>\n",
       "      <th>10</th>\n",
       "      <td>11</td>\n",
       "      <td>office.com</td>\n",
       "      <td>9:50</td>\n",
       "      <td>9.34</td>\n",
       "      <td>0.072</td>\n",
       "      <td>5767</td>\n",
       "    </tr>\n",
       "    <tr>\n",
       "      <th>11</th>\n",
       "      <td>12</td>\n",
       "      <td>netflix.com</td>\n",
       "      <td>4:20</td>\n",
       "      <td>3.20</td>\n",
       "      <td>0.096</td>\n",
       "      <td>10865</td>\n",
       "    </tr>\n",
       "    <tr>\n",
       "      <th>12</th>\n",
       "      <td>13</td>\n",
       "      <td>bing.com</td>\n",
       "      <td>2:52</td>\n",
       "      <td>2.61</td>\n",
       "      <td>0.062</td>\n",
       "      <td>41693</td>\n",
       "    </tr>\n",
       "    <tr>\n",
       "      <th>13</th>\n",
       "      <td>14</td>\n",
       "      <td>walmart.com</td>\n",
       "      <td>5:19</td>\n",
       "      <td>5.00</td>\n",
       "      <td>0.277</td>\n",
       "      <td>18141</td>\n",
       "    </tr>\n",
       "    <tr>\n",
       "      <th>14</th>\n",
       "      <td>15</td>\n",
       "      <td>live.com</td>\n",
       "      <td>5:23</td>\n",
       "      <td>5.33</td>\n",
       "      <td>0.103</td>\n",
       "      <td>43223</td>\n",
       "    </tr>\n",
       "    <tr>\n",
       "      <th>15</th>\n",
       "      <td>16</td>\n",
       "      <td>instructure.com</td>\n",
       "      <td>13:11</td>\n",
       "      <td>10.77</td>\n",
       "      <td>0.063</td>\n",
       "      <td>1034</td>\n",
       "    </tr>\n",
       "    <tr>\n",
       "      <th>16</th>\n",
       "      <td>17</td>\n",
       "      <td>microsoft.com</td>\n",
       "      <td>4:40</td>\n",
       "      <td>3.41</td>\n",
       "      <td>0.241</td>\n",
       "      <td>235680</td>\n",
       "    </tr>\n",
       "    <tr>\n",
       "      <th>17</th>\n",
       "      <td>18</td>\n",
       "      <td>apple.com</td>\n",
       "      <td>4:02</td>\n",
       "      <td>4.00</td>\n",
       "      <td>0.373</td>\n",
       "      <td>174917</td>\n",
       "    </tr>\n",
       "    <tr>\n",
       "      <th>18</th>\n",
       "      <td>19</td>\n",
       "      <td>twitch.tv</td>\n",
       "      <td>6:54</td>\n",
       "      <td>3.53</td>\n",
       "      <td>0.070</td>\n",
       "      <td>9771</td>\n",
       "    </tr>\n",
       "    <tr>\n",
       "      <th>19</th>\n",
       "      <td>20</td>\n",
       "      <td>cnn.com</td>\n",
       "      <td>4:31</td>\n",
       "      <td>2.36</td>\n",
       "      <td>0.227</td>\n",
       "      <td>114281</td>\n",
       "    </tr>\n",
       "    <tr>\n",
       "      <th>20</th>\n",
       "      <td>21</td>\n",
       "      <td>instagram.com</td>\n",
       "      <td>8:47</td>\n",
       "      <td>9.71</td>\n",
       "      <td>0.138</td>\n",
       "      <td>622099</td>\n",
       "    </tr>\n",
       "    <tr>\n",
       "      <th>21</th>\n",
       "      <td>22</td>\n",
       "      <td>etsy.com</td>\n",
       "      <td>12:24</td>\n",
       "      <td>8.03</td>\n",
       "      <td>0.194</td>\n",
       "      <td>101832</td>\n",
       "    </tr>\n",
       "    <tr>\n",
       "      <th>22</th>\n",
       "      <td>23</td>\n",
       "      <td>chaturbate.com</td>\n",
       "      <td>11:46</td>\n",
       "      <td>8.53</td>\n",
       "      <td>0.094</td>\n",
       "      <td>156661</td>\n",
       "    </tr>\n",
       "    <tr>\n",
       "      <th>23</th>\n",
       "      <td>24</td>\n",
       "      <td>espn.com</td>\n",
       "      <td>5:52</td>\n",
       "      <td>4.08</td>\n",
       "      <td>0.135</td>\n",
       "      <td>9008</td>\n",
       "    </tr>\n",
       "    <tr>\n",
       "      <th>24</th>\n",
       "      <td>25</td>\n",
       "      <td>chase.com</td>\n",
       "      <td>5:16</td>\n",
       "      <td>7.35</td>\n",
       "      <td>0.086</td>\n",
       "      <td>1231</td>\n",
       "    </tr>\n",
       "    <tr>\n",
       "      <th>25</th>\n",
       "      <td>26</td>\n",
       "      <td>microsoftonline.com</td>\n",
       "      <td>1:13</td>\n",
       "      <td>1.92</td>\n",
       "      <td>0.027</td>\n",
       "      <td>677</td>\n",
       "    </tr>\n",
       "    <tr>\n",
       "      <th>26</th>\n",
       "      <td>27</td>\n",
       "      <td>nytimes.com</td>\n",
       "      <td>3:36</td>\n",
       "      <td>2.68</td>\n",
       "      <td>0.317</td>\n",
       "      <td>163756</td>\n",
       "    </tr>\n",
       "    <tr>\n",
       "      <th>27</th>\n",
       "      <td>28</td>\n",
       "      <td>bestbuy.com</td>\n",
       "      <td>3:60</td>\n",
       "      <td>4.26</td>\n",
       "      <td>0.276</td>\n",
       "      <td>7842</td>\n",
       "    </tr>\n",
       "    <tr>\n",
       "      <th>28</th>\n",
       "      <td>29</td>\n",
       "      <td>salesforce.com</td>\n",
       "      <td>11:17</td>\n",
       "      <td>8.86</td>\n",
       "      <td>0.059</td>\n",
       "      <td>4649</td>\n",
       "    </tr>\n",
       "    <tr>\n",
       "      <th>29</th>\n",
       "      <td>30</td>\n",
       "      <td>zillow.com</td>\n",
       "      <td>7:26</td>\n",
       "      <td>7.84</td>\n",
       "      <td>0.325</td>\n",
       "      <td>9152</td>\n",
       "    </tr>\n",
       "    <tr>\n",
       "      <th>30</th>\n",
       "      <td>31</td>\n",
       "      <td>dropbox.com</td>\n",
       "      <td>4:57</td>\n",
       "      <td>3.98</td>\n",
       "      <td>0.076</td>\n",
       "      <td>22306</td>\n",
       "    </tr>\n",
       "    <tr>\n",
       "      <th>31</th>\n",
       "      <td>32</td>\n",
       "      <td>linkedin.com</td>\n",
       "      <td>10:42</td>\n",
       "      <td>8.50</td>\n",
       "      <td>0.137</td>\n",
       "      <td>608654</td>\n",
       "    </tr>\n",
       "    <tr>\n",
       "      <th>32</th>\n",
       "      <td>33</td>\n",
       "      <td>adobe.com</td>\n",
       "      <td>3:56</td>\n",
       "      <td>3.78</td>\n",
       "      <td>0.244</td>\n",
       "      <td>244100</td>\n",
       "    </tr>\n",
       "    <tr>\n",
       "      <th>33</th>\n",
       "      <td>34</td>\n",
       "      <td>twitter.com</td>\n",
       "      <td>12:56</td>\n",
       "      <td>10.26</td>\n",
       "      <td>0.116</td>\n",
       "      <td>1578393</td>\n",
       "    </tr>\n",
       "    <tr>\n",
       "      <th>34</th>\n",
       "      <td>35</td>\n",
       "      <td>target.com</td>\n",
       "      <td>4:16</td>\n",
       "      <td>4.06</td>\n",
       "      <td>0.325</td>\n",
       "      <td>19846</td>\n",
       "    </tr>\n",
       "    <tr>\n",
       "      <th>35</th>\n",
       "      <td>36</td>\n",
       "      <td>force.com</td>\n",
       "      <td>24:35</td>\n",
       "      <td>19.20</td>\n",
       "      <td>0.025</td>\n",
       "      <td>3221</td>\n",
       "    </tr>\n",
       "    <tr>\n",
       "      <th>36</th>\n",
       "      <td>37</td>\n",
       "      <td>okta.com</td>\n",
       "      <td>1:10</td>\n",
       "      <td>3.64</td>\n",
       "      <td>0.031</td>\n",
       "      <td>255</td>\n",
       "    </tr>\n",
       "    <tr>\n",
       "      <th>37</th>\n",
       "      <td>38</td>\n",
       "      <td>aliexpress.com</td>\n",
       "      <td>10:40</td>\n",
       "      <td>9.14</td>\n",
       "      <td>0.145</td>\n",
       "      <td>18807</td>\n",
       "    </tr>\n",
       "    <tr>\n",
       "      <th>38</th>\n",
       "      <td>39</td>\n",
       "      <td>craigslist.org</td>\n",
       "      <td>8:15</td>\n",
       "      <td>8.52</td>\n",
       "      <td>0.210</td>\n",
       "      <td>14958</td>\n",
       "    </tr>\n",
       "    <tr>\n",
       "      <th>39</th>\n",
       "      <td>40</td>\n",
       "      <td>tmall.com</td>\n",
       "      <td>7:04</td>\n",
       "      <td>3.87</td>\n",
       "      <td>0.009</td>\n",
       "      <td>6212</td>\n",
       "    </tr>\n",
       "    <tr>\n",
       "      <th>40</th>\n",
       "      <td>41</td>\n",
       "      <td>hulu.com</td>\n",
       "      <td>3:49</td>\n",
       "      <td>4.56</td>\n",
       "      <td>0.102</td>\n",
       "      <td>11245</td>\n",
       "    </tr>\n",
       "    <tr>\n",
       "      <th>41</th>\n",
       "      <td>42</td>\n",
       "      <td>homedepot.com</td>\n",
       "      <td>5:09</td>\n",
       "      <td>5.07</td>\n",
       "      <td>0.433</td>\n",
       "      <td>11948</td>\n",
       "    </tr>\n",
       "    <tr>\n",
       "      <th>42</th>\n",
       "      <td>43</td>\n",
       "      <td>wellsfargo.com</td>\n",
       "      <td>5:35</td>\n",
       "      <td>7.40</td>\n",
       "      <td>0.112</td>\n",
       "      <td>2218</td>\n",
       "    </tr>\n",
       "    <tr>\n",
       "      <th>43</th>\n",
       "      <td>44</td>\n",
       "      <td>foxnews.com</td>\n",
       "      <td>5:23</td>\n",
       "      <td>2.63</td>\n",
       "      <td>0.184</td>\n",
       "      <td>42596</td>\n",
       "    </tr>\n",
       "    <tr>\n",
       "      <th>44</th>\n",
       "      <td>45</td>\n",
       "      <td>livejasmin.com</td>\n",
       "      <td>2:32</td>\n",
       "      <td>1.77</td>\n",
       "      <td>0.036</td>\n",
       "      <td>11556</td>\n",
       "    </tr>\n",
       "    <tr>\n",
       "      <th>45</th>\n",
       "      <td>46</td>\n",
       "      <td>imdb.com</td>\n",
       "      <td>3:42</td>\n",
       "      <td>4.85</td>\n",
       "      <td>0.478</td>\n",
       "      <td>137215</td>\n",
       "    </tr>\n",
       "    <tr>\n",
       "      <th>46</th>\n",
       "      <td>47</td>\n",
       "      <td>quizlet.com</td>\n",
       "      <td>6:06</td>\n",
       "      <td>4.23</td>\n",
       "      <td>0.519</td>\n",
       "      <td>3971</td>\n",
       "    </tr>\n",
       "    <tr>\n",
       "      <th>47</th>\n",
       "      <td>48</td>\n",
       "      <td>indeed.com</td>\n",
       "      <td>6:14</td>\n",
       "      <td>4.61</td>\n",
       "      <td>0.272</td>\n",
       "      <td>7630</td>\n",
       "    </tr>\n",
       "    <tr>\n",
       "      <th>48</th>\n",
       "      <td>49</td>\n",
       "      <td>spotify.com</td>\n",
       "      <td>3:36</td>\n",
       "      <td>4.66</td>\n",
       "      <td>0.176</td>\n",
       "      <td>12036</td>\n",
       "    </tr>\n",
       "    <tr>\n",
       "      <th>49</th>\n",
       "      <td>50</td>\n",
       "      <td>paypal.com</td>\n",
       "      <td>4:57</td>\n",
       "      <td>6.21</td>\n",
       "      <td>0.078</td>\n",
       "      <td>16257</td>\n",
       "    </tr>\n",
       "  </tbody>\n",
       "</table>\n",
       "</div>"
      ],
      "text/plain": [
       "    rank                  url daily_time_on_site_per_visitor  \\\n",
       "0      1           google.com                          15:43   \n",
       "1      2          youtube.com                          16:54   \n",
       "2      3           amazon.com                          10:26   \n",
       "3      4            yahoo.com                           5:02   \n",
       "4      5         facebook.com                          18:52   \n",
       "5      6              zoom.us                           8:29   \n",
       "6      7           reddit.com                           5:33   \n",
       "7      8        wikipedia.org                           3:47   \n",
       "8      9        myshopify.com                          22:17   \n",
       "9     10             ebay.com                          10:10   \n",
       "10    11           office.com                           9:50   \n",
       "11    12          netflix.com                           4:20   \n",
       "12    13             bing.com                           2:52   \n",
       "13    14          walmart.com                           5:19   \n",
       "14    15             live.com                           5:23   \n",
       "15    16      instructure.com                          13:11   \n",
       "16    17        microsoft.com                           4:40   \n",
       "17    18            apple.com                           4:02   \n",
       "18    19            twitch.tv                           6:54   \n",
       "19    20              cnn.com                           4:31   \n",
       "20    21        instagram.com                           8:47   \n",
       "21    22             etsy.com                          12:24   \n",
       "22    23       chaturbate.com                          11:46   \n",
       "23    24             espn.com                           5:52   \n",
       "24    25            chase.com                           5:16   \n",
       "25    26  microsoftonline.com                           1:13   \n",
       "26    27          nytimes.com                           3:36   \n",
       "27    28          bestbuy.com                           3:60   \n",
       "28    29       salesforce.com                          11:17   \n",
       "29    30           zillow.com                           7:26   \n",
       "30    31          dropbox.com                           4:57   \n",
       "31    32         linkedin.com                          10:42   \n",
       "32    33            adobe.com                           3:56   \n",
       "33    34          twitter.com                          12:56   \n",
       "34    35           target.com                           4:16   \n",
       "35    36            force.com                          24:35   \n",
       "36    37             okta.com                           1:10   \n",
       "37    38       aliexpress.com                          10:40   \n",
       "38    39       craigslist.org                           8:15   \n",
       "39    40            tmall.com                           7:04   \n",
       "40    41             hulu.com                           3:49   \n",
       "41    42        homedepot.com                           5:09   \n",
       "42    43       wellsfargo.com                           5:35   \n",
       "43    44          foxnews.com                           5:23   \n",
       "44    45       livejasmin.com                           2:32   \n",
       "45    46             imdb.com                           3:42   \n",
       "46    47          quizlet.com                           6:06   \n",
       "47    48           indeed.com                           6:14   \n",
       "48    49          spotify.com                           3:36   \n",
       "49    50           paypal.com                           4:57   \n",
       "\n",
       "    daily_pageviews_per_visitor  perc_traffic_from_search  \\\n",
       "0                         17.09                     0.004   \n",
       "1                          9.68                     0.149   \n",
       "2                          9.73                     0.195   \n",
       "3                          4.65                     0.081   \n",
       "4                          8.83                     0.088   \n",
       "5                          3.94                     0.127   \n",
       "6                          4.38                     0.320   \n",
       "7                          3.04                     0.740   \n",
       "8                         14.47                     0.030   \n",
       "9                          8.04                     0.164   \n",
       "10                         9.34                     0.072   \n",
       "11                         3.20                     0.096   \n",
       "12                         2.61                     0.062   \n",
       "13                         5.00                     0.277   \n",
       "14                         5.33                     0.103   \n",
       "15                        10.77                     0.063   \n",
       "16                         3.41                     0.241   \n",
       "17                         4.00                     0.373   \n",
       "18                         3.53                     0.070   \n",
       "19                         2.36                     0.227   \n",
       "20                         9.71                     0.138   \n",
       "21                         8.03                     0.194   \n",
       "22                         8.53                     0.094   \n",
       "23                         4.08                     0.135   \n",
       "24                         7.35                     0.086   \n",
       "25                         1.92                     0.027   \n",
       "26                         2.68                     0.317   \n",
       "27                         4.26                     0.276   \n",
       "28                         8.86                     0.059   \n",
       "29                         7.84                     0.325   \n",
       "30                         3.98                     0.076   \n",
       "31                         8.50                     0.137   \n",
       "32                         3.78                     0.244   \n",
       "33                        10.26                     0.116   \n",
       "34                         4.06                     0.325   \n",
       "35                        19.20                     0.025   \n",
       "36                         3.64                     0.031   \n",
       "37                         9.14                     0.145   \n",
       "38                         8.52                     0.210   \n",
       "39                         3.87                     0.009   \n",
       "40                         4.56                     0.102   \n",
       "41                         5.07                     0.433   \n",
       "42                         7.40                     0.112   \n",
       "43                         2.63                     0.184   \n",
       "44                         1.77                     0.036   \n",
       "45                         4.85                     0.478   \n",
       "46                         4.23                     0.519   \n",
       "47                         4.61                     0.272   \n",
       "48                         4.66                     0.176   \n",
       "49                         6.21                     0.078   \n",
       "\n",
       "    total_sites_linking_in  \n",
       "0                  1300441  \n",
       "1                   988820  \n",
       "2                   363277  \n",
       "3                   319186  \n",
       "4                  2181031  \n",
       "5                     3009  \n",
       "6                   163041  \n",
       "7                   763999  \n",
       "8                      118  \n",
       "9                    74970  \n",
       "10                    5767  \n",
       "11                   10865  \n",
       "12                   41693  \n",
       "13                   18141  \n",
       "14                   43223  \n",
       "15                    1034  \n",
       "16                  235680  \n",
       "17                  174917  \n",
       "18                    9771  \n",
       "19                  114281  \n",
       "20                  622099  \n",
       "21                  101832  \n",
       "22                  156661  \n",
       "23                    9008  \n",
       "24                    1231  \n",
       "25                     677  \n",
       "26                  163756  \n",
       "27                    7842  \n",
       "28                    4649  \n",
       "29                    9152  \n",
       "30                   22306  \n",
       "31                  608654  \n",
       "32                  244100  \n",
       "33                 1578393  \n",
       "34                   19846  \n",
       "35                    3221  \n",
       "36                     255  \n",
       "37                   18807  \n",
       "38                   14958  \n",
       "39                    6212  \n",
       "40                   11245  \n",
       "41                   11948  \n",
       "42                    2218  \n",
       "43                   42596  \n",
       "44                   11556  \n",
       "45                  137215  \n",
       "46                    3971  \n",
       "47                    7630  \n",
       "48                   12036  \n",
       "49                   16257  "
      ]
     },
     "execution_count": 5,
     "metadata": {},
     "output_type": "execute_result"
    }
   ],
   "source": [
    "def top_sites_in (country_code):\n",
    "    \"\"\"\n",
    "    Finds the top Alex sites by Alexa ranking in a given country.\n",
    "    Parameter:\n",
    "        country_code - country whose top sites we are finding based on Alexa ratings\n",
    "    Returns:\n",
    "        List of Top Websites in the country \n",
    "    \"\"\"\n",
    "    \n",
    "    def process_row (tds):\n",
    "        rank = int(tds[0].get_text())\n",
    "        url = tds[1].find('a').get_text('siteinfo').lower()\n",
    "        daily_time =  tds[2].get_text()\n",
    "        daily_pageviews_per_visitor =  float(tds[3].get_text())\n",
    "        perc_traffic_from_search =  float(tds[4].get_text().replace('%', ''))/100\n",
    "        total_sites_linking_in =  int(tds[5].get_text().replace(',', ''))\n",
    "        return [rank, url, daily_time, daily_pageviews_per_visitor, perc_traffic_from_search, total_sites_linking_in]\n",
    "    \n",
    "    # Scraping Top Sites list from Alexa for country \n",
    "    url = \"https://www.alexa.com/topsites/countries/\" + country_code\n",
    "    page = requests.get(url)\n",
    "    soup = BeautifulSoup(page.content, 'html.parser')\n",
    "    divs = soup.find_all('div', class_='tr site-listing')\n",
    "    \n",
    "    rankings = []\n",
    "    for div in divs:\n",
    "        tds = div.find_all('div', class_='td')\n",
    "        rankings.append(process_row(tds))\n",
    "    return pd.DataFrame(\n",
    "        rankings,\n",
    "        columns = [\n",
    "            'rank',\n",
    "            'url',\n",
    "            'daily_time_on_site_per_visitor',\n",
    "            'daily_pageviews_per_visitor',\n",
    "            'perc_traffic_from_search',\n",
    "            'total_sites_linking_in'\n",
    "        ])\n",
    "\n",
    "top_sites_in('US')"
   ]
  },
  {
   "cell_type": "markdown",
   "metadata": {},
   "source": [
    "## Compute metric"
   ]
  },
  {
   "cell_type": "code",
   "execution_count": 6,
   "metadata": {
    "id": "dx-fHavIcJ6W",
    "scrolled": true
   },
   "outputs": [
    {
     "data": {
      "text/plain": [
       "{'163.com',\n",
       " '17ok.com',\n",
       " '1905.com',\n",
       " '360.cn',\n",
       " '39.net',\n",
       " '3dmgame.com',\n",
       " 'address.com',\n",
       " 'allegro.pl',\n",
       " 'amazon.co.jp',\n",
       " 'anonymouse.org',\n",
       " 'archive.org',\n",
       " 'bing.com',\n",
       " 'bittornado.com',\n",
       " 'blogspot.com',\n",
       " 'byte.co',\n",
       " 'cameolingerieonline.com',\n",
       " 'cctv.com',\n",
       " 'cefc.org',\n",
       " 'chinaz.com',\n",
       " 'crunchyroll.com',\n",
       " 'douyu.com',\n",
       " 'facebook.com',\n",
       " 'fanpage.gr',\n",
       " 'globalvoicesonline.org',\n",
       " 'google.com',\n",
       " 'guildwars.com',\n",
       " 'hbo.com',\n",
       " 'hgtv.com',\n",
       " 'hrcr.org',\n",
       " 'imgur.com',\n",
       " 'implantinfo.com',\n",
       " 'indeed.com',\n",
       " 'instagram.com',\n",
       " 'jalb.de',\n",
       " 'kdnet.net',\n",
       " 'lanacion.com.ar',\n",
       " 'lineriderfun.com',\n",
       " 'live.com',\n",
       " 'nbc.com',\n",
       " 'netflix.com',\n",
       " 'nytimes.com',\n",
       " 'office.com',\n",
       " 'ohmynews.com',\n",
       " 'oovoo.com',\n",
       " 'paypal.com',\n",
       " 'people.com.cn',\n",
       " 'pinterest.com',\n",
       " 'pornhub.com',\n",
       " 'rarbg.to',\n",
       " 'rim.net',\n",
       " 'schwarzreport.org',\n",
       " 'sectsco.org',\n",
       " 'sourceforge.net',\n",
       " 'southwest.com',\n",
       " 'sozcu.com.tr',\n",
       " 'tumblr.com',\n",
       " 'twitch.tv',\n",
       " 'twitter.com',\n",
       " 'webtoons.com',\n",
       " 'weebly.com',\n",
       " 'whitepages.com',\n",
       " 'wikipedia.org',\n",
       " 'wikiwiki.jp',\n",
       " 'wionews.com',\n",
       " 'worldsingles.com',\n",
       " 'wp.pl',\n",
       " 'xhamster.com',\n",
       " 'yahoo.co.jp',\n",
       " 'youtube.com'}"
      ]
     },
     "execution_count": 6,
     "metadata": {},
     "output_type": "execute_result"
    }
   ],
   "source": [
    "def blocked_sites_in (country_code: str) -> set:\n",
    "    \"\"\"\n",
    "    Finds list of unique Blocked websites in a country\n",
    "    Parameter:\n",
    "          Country Code\n",
    "    Returns:\n",
    "          Set of Blocked Websites in the Country\n",
    "    \"\"\"\n",
    "    \n",
    "    # Country Specific blocked sites list\n",
    "    CC_blocked_list = iclabClean1[(iclabClean1['country']==country_code)&(iclabClean1['censored_updated']==True)]['site'].tolist()\n",
    "    CC_blocked_set = set(CC_blocked_list) # set of blocked sites in the country\n",
    "    # HACK: manually remove blocked websites in countries known to block nothing\n",
    "    if country_code in ['US', 'CA']:\n",
    "        return set([])\n",
    "    # HACK: manually add websites known to be blocked in CN\n",
    "    # https://en.wikipedia.org/wiki/List_of_websites_blocked_in_mainland_China\n",
    "    if country_code=='CN':\n",
    "        CC_blocked_set = CC_blocked_set.union(set([\n",
    "            'google.com',\n",
    "            'youtube.com',\n",
    "            'byte.co',\n",
    "            'facebook.com',\n",
    "            'webtoons.com',\n",
    "            'crunchyroll.com',\n",
    "            'wikipedia.org',\n",
    "            'live.com',\n",
    "            'netflix.com',\n",
    "            'blogspot.com',\n",
    "            'yahoo.co.jp',\n",
    "            'bing.com',\n",
    "            'twitch.tv',\n",
    "            'twitter.com',\n",
    "            'tumblr.com',\n",
    "            'pinterest.com',\n",
    "            'amazon.co.jp',\n",
    "            'pornhub.com',\n",
    "            'wionews.com',\n",
    "            'imgur.com',\n",
    "            'nytimes.com',\n",
    "            'archive.org',\n",
    "            'nbc.com',\n",
    "            'hbo.com',\n",
    "        ]))\n",
    "    \n",
    "    return CC_blocked_set\n",
    "\n",
    "blocked_sites_in('CN')"
   ]
  },
  {
   "cell_type": "code",
   "execution_count": null,
   "metadata": {
    "scrolled": true
   },
   "outputs": [],
   "source": [
    "from time import sleep\n",
    "\n",
    "# cache for our top websites\n",
    "# removes need for duplicate queries\n",
    "top_sites_cache = {}\n",
    "\n",
    "def blocked_top_sites (countryA: str, countryB: str) -> pd.DataFrame:\n",
    "    '''\n",
    "    If a person from Country A goes to Country B, what will be blocked?\n",
    "    \n",
    "    Phrased differently, which of country A's top sites are blocked in country B?\n",
    "    \n",
    "    Takes:\n",
    "    - CountryA country code\n",
    "    - Country B country code\n",
    "    \n",
    "    Returns:\n",
    "    - DataFrame of top sites in country A that are blocked in country B.\n",
    "    '''\n",
    "    if countryA in top_sites_cache:\n",
    "        top = top_sites_cache[countryA]\n",
    "    else:\n",
    "        # wait a second to prevent 500\n",
    "        sleep(1)\n",
    "        top = top_sites_in(countryA)\n",
    "    blocked = blocked_sites_in(countryB)\n",
    "    return top[top['url'].isin(blocked)]\n",
    "\n",
    "blocked_top_sites('US', 'CN')"
   ]
  },
  {
   "cell_type": "code",
   "execution_count": null,
   "metadata": {},
   "outputs": [],
   "source": [
    "blocked_top_sites('US', 'UK')"
   ]
  },
  {
   "cell_type": "code",
   "execution_count": 8,
   "metadata": {},
   "outputs": [
    {
     "data": {
      "text/plain": [
       "0.28"
      ]
     },
     "execution_count": 8,
     "metadata": {},
     "output_type": "execute_result"
    }
   ],
   "source": [
    "# TODO A to B metric\n",
    "def directed_metric (countryA, countryB):\n",
    "    '''\n",
    "    If a person from Country A goes to Country B, what will be blocked?\n",
    "    This method answers this question with a single number.\n",
    "    '''\n",
    "    # TODO 50 is the number of top sites.\n",
    "    # - set dynamically?\n",
    "    # - why 50 in the first place?\n",
    "    # - weight each website diff based on rank, pageviews, etc?\n",
    "    return blocked_top_sites(countryA, countryB).count().url/50\n",
    "\n",
    "directed_metric('US', 'CN')"
   ]
  },
  {
   "cell_type": "markdown",
   "metadata": {},
   "source": [
    "## Computing metric for all countries"
   ]
  },
  {
   "cell_type": "code",
   "execution_count": 9,
   "metadata": {},
   "outputs": [],
   "source": [
    "country_names = iclabClean1['country'].unique().tolist()"
   ]
  },
  {
   "cell_type": "code",
   "execution_count": null,
   "metadata": {
    "scrolled": true
   },
   "outputs": [
    {
     "name": "stdout",
     "output_type": "stream",
     "text": [
      "UA CO\n",
      "UA KR\n",
      "UA US\n",
      "UA BG\n",
      "UA BZ\n",
      "UA AU\n",
      "UA JP\n",
      "UA NL\n",
      "UA HK\n",
      "UA LT\n",
      "UA RO\n",
      "UA KE\n",
      "UA ES\n",
      "UA VN\n",
      "UA MX\n",
      "UA PE\n",
      "UA SE\n",
      "UA NZ\n",
      "UA FR\n",
      "UA ID\n",
      "UA ZA\n",
      "UA HU\n",
      "UA SK\n",
      "UA CL\n",
      "UA CN\n",
      "UA LU\n",
      "UA IN\n",
      "UA SG\n",
      "UA TW\n",
      "UA MD\n",
      "UA NO\n",
      "UA RU\n",
      "UA AD\n",
      "UA CA\n",
      "UA RS\n",
      "UA FI\n",
      "UA MY\n",
      "UA BE\n",
      "UA IS\n",
      "UA VE\n",
      "UA PT\n",
      "UA DK\n",
      "UA CZ\n",
      "UA IL\n",
      "UA TR\n",
      "Couldn't do UA TR\n",
      "UA PL\n",
      "UA DZ\n",
      "UA BR\n",
      "UA SC\n",
      "UA SA\n",
      "UA AT\n",
      "UA GR\n",
      "UA CR\n",
      "UA LI\n",
      "CO KR\n",
      "CO US\n",
      "CO BG\n",
      "CO BZ\n",
      "CO AU\n",
      "CO JP\n",
      "CO NL\n",
      "CO HK\n",
      "CO LT\n",
      "CO RO\n",
      "CO KE\n",
      "CO ES\n",
      "CO VN\n",
      "CO MX\n"
     ]
    }
   ],
   "source": [
    "from time import sleep\n",
    "\n",
    "from itertools import combinations\n",
    "pairs = combinations(country_names, 2)\n",
    "\n",
    "metrics = []\n",
    "for pair in pairs:\n",
    "    [countryA, countryB] = pair\n",
    "    print(countryA, countryB)\n",
    "    try:\n",
    "        metric = directed_metric(countryA, countryB)\n",
    "        metrics.append([\n",
    "            countryA,\n",
    "            countryB,\n",
    "            metric\n",
    "        ])\n",
    "    except:\n",
    "        print(\"Couldn't do\", countryA, countryB)\n",
    "    sleep(1)"
   ]
  },
  {
   "cell_type": "code",
   "execution_count": 103,
   "metadata": {},
   "outputs": [
    {
     "name": "stdout",
     "output_type": "stream",
     "text": [
      "('UA', 'BG')\n"
     ]
    },
    {
     "ename": "RuntimeError",
     "evalue": "No active exception to reraise",
     "output_type": "error",
     "traceback": [
      "\u001b[0;31m---------------------------------------------------------------------------\u001b[0m",
      "\u001b[0;31mRuntimeError\u001b[0m                              Traceback (most recent call last)",
      "\u001b[0;32m<ipython-input-103-f4cf298a3aff>\u001b[0m in \u001b[0;36m<module>\u001b[0;34m()\u001b[0m\n\u001b[1;32m      1\u001b[0m \u001b[0;32mfor\u001b[0m \u001b[0mpair\u001b[0m \u001b[0;32min\u001b[0m \u001b[0mpairs\u001b[0m\u001b[0;34m:\u001b[0m\u001b[0;34m\u001b[0m\u001b[0;34m\u001b[0m\u001b[0m\n\u001b[1;32m      2\u001b[0m     \u001b[0mprint\u001b[0m\u001b[0;34m(\u001b[0m\u001b[0mpair\u001b[0m\u001b[0;34m)\u001b[0m\u001b[0;34m\u001b[0m\u001b[0;34m\u001b[0m\u001b[0m\n\u001b[0;32m----> 3\u001b[0;31m     \u001b[0;32mraise\u001b[0m\u001b[0;34m\u001b[0m\u001b[0;34m\u001b[0m\u001b[0m\n\u001b[0m",
      "\u001b[0;31mRuntimeError\u001b[0m: No active exception to reraise"
     ]
    }
   ],
   "source": [
    "metrics = pd.DataFrame(metrics, \n",
    "                      columns=[\n",
    "                          'countryA_alpha2',\n",
    "                          'countryB_alpha2',\n",
    "                          'metric',\n",
    "                      ])"
   ]
  },
  {
   "cell_type": "code",
   "execution_count": null,
   "metadata": {
    "id": "3L2_o7n2ySrK"
   },
   "outputs": [],
   "source": [
    "allCountries = iclabClean1['country'].unique().tolist()"
   ]
  },
  {
   "cell_type": "code",
   "execution_count": null,
   "metadata": {
    "id": "TDZ99CiHmap9"
   },
   "outputs": [],
   "source": [
    "BlockDict = {}\n",
    "for cc in allCountries:\n",
    "  BlockDict[cc] = BlockedSites(cc)\n",
    "\n",
    "TopDict = {}\n",
    "for cc in allCountries:\n",
    "  TopDict[cc] = TopSites(cc)"
   ]
  },
  {
   "cell_type": "code",
   "execution_count": null,
   "metadata": {
    "id": "X1Ct3L-ROUVp"
   },
   "outputs": [],
   "source": [
    "from itertools import combinations\n",
    "newPairs = [comb for comb in sorted(combinations(allCountries, 2))]"
   ]
  },
  {
   "cell_type": "code",
   "execution_count": null,
   "metadata": {
    "id": "H70SqZIvRjew"
   },
   "outputs": [],
   "source": [
    "X2YBlocking={}\n",
    "for item in newPairs:\n",
    "  X2YBlocking[item] = BlockedTopSites(TopDict[item[0]],BlockDict[item[1]])"
   ]
  },
  {
   "cell_type": "code",
   "execution_count": null,
   "metadata": {
    "id": "-fxHodg6SGJ9"
   },
   "outputs": [],
   "source": [
    "Y2XBlocking={}\n",
    "for item in newPairs:\n",
    "  Y2XBlocking[item] = BlockedTopSites(TopDict[item[1]],BlockDict[item[0]])"
   ]
  },
  {
   "cell_type": "markdown",
   "metadata": {
    "id": "H89YHcVly3rj"
   },
   "source": [
    "### New Proxy DF "
   ]
  },
  {
   "cell_type": "code",
   "execution_count": null,
   "metadata": {
    "id": "6EiIFbdlLf1N"
   },
   "outputs": [],
   "source": [
    "countries = {}\n",
    "for country in pycountry.countries:\n",
    "    countries[country.alpha_2] = country.alpha_3"
   ]
  },
  {
   "cell_type": "code",
   "execution_count": null,
   "metadata": {
    "id": "hEK1vy2OuG-q"
   },
   "outputs": [],
   "source": [
    "ImpactDF = pd.DataFrame(index = newPairs ,columns=['country_code_alpha2_X','country_code_alpha2_Y', 'X2Y_Similarity', 'Y2X_Similarity'\t, 'Edge_Asymmetry','Average_Similarity',\t'country_code_alpha3_X',\t'country_code_alpha3_Y'])\n",
    "ImpactDF = ImpactDF.reset_index().rename(columns={'index':'pair'})"
   ]
  },
  {
   "cell_type": "code",
   "execution_count": null,
   "metadata": {
    "id": "MtTLhsg3upRV"
   },
   "outputs": [],
   "source": [
    "ImpactDF['country_code_alpha2_X'] =  ImpactDF['pair'].apply(lambda x: x[0])\n",
    "ImpactDF['country_code_alpha2_Y'] =  ImpactDF['pair'].apply(lambda x: x[1])\n",
    "ImpactDF['country_code_alpha3_X'] =  ImpactDF['pair'].apply(lambda x: countries[x[0]])\n",
    "ImpactDF['country_code_alpha3_Y'] =  ImpactDF['pair'].apply(lambda x: countries[x[1]])"
   ]
  },
  {
   "cell_type": "code",
   "execution_count": null,
   "metadata": {
    "id": "vmu9tGQt6MOq"
   },
   "outputs": [],
   "source": [
    "ImpactDF['X2Y_Similarity'] = ImpactDF['pair'].apply( lambda x : topBlockSimilarity( X2YBlocking[x], Y2XBlocking[x])[0] )\n",
    "ImpactDF['Y2X_Similarity'] = ImpactDF['pair'].apply( lambda x : topBlockSimilarity(X2YBlocking[x], Y2XBlocking[x])[1] )\n",
    "ImpactDF['Edge_Asymmetry'] = ImpactDF['pair'].apply( lambda x : topBlockSimilarity(X2YBlocking[x], Y2XBlocking[x])[2] )\n",
    "ImpactDF['Average_Similarity'] = ImpactDF['pair'].apply( lambda x : topBlockSimilarity(X2YBlocking[x], Y2XBlocking[x])[3] )"
   ]
  },
  {
   "cell_type": "code",
   "execution_count": null,
   "metadata": {
    "colab": {
     "base_uri": "https://localhost:8080/"
    },
    "executionInfo": {
     "elapsed": 338,
     "status": "ok",
     "timestamp": 1602534430301,
     "user": {
      "displayName": "Akhilesh Pandita",
      "photoUrl": "https://lh3.googleusercontent.com/a-/AOh14Gioyn_psFpyNg1ossFRn4t734eeAtpzs4SpsYHoamU=s64",
      "userId": "08765423750383672411"
     },
     "user_tz": 420
    },
    "id": "9OhwL1PI02iT",
    "outputId": "cd447b4e-8587-4121-8d74-598b7c028d77"
   },
   "outputs": [],
   "source": [
    "ImpactDF.head()"
   ]
  },
  {
   "cell_type": "code",
   "execution_count": null,
   "metadata": {
    "id": "3l91Y0GwfuH7"
   },
   "outputs": [],
   "source": [
    "ImpactDF.to_csv(\"ImpactDF.csv\")"
   ]
  },
  {
   "cell_type": "markdown",
   "metadata": {
    "id": "2jxLsVaydOGF"
   },
   "source": [
    "## 4.3 Directed Asymmetry Viz\n",
    "\n",
    "X2YBlocking - Set of top sites from Country X which are blocked in Country Y\n",
    "\n",
    "Y2XBlocking - Set of top sites from Country Y which are blocked in Country X"
   ]
  },
  {
   "cell_type": "markdown",
   "metadata": {
    "id": "jFYIbROSdNL8"
   },
   "source": [
    "### Global Comparison"
   ]
  },
  {
   "cell_type": "code",
   "execution_count": null,
   "metadata": {
    "id": "2pQSfbVYdSyp"
   },
   "outputs": [],
   "source": [
    "SourceX = (ImpactDF.groupby('country_code_alpha2_X').mean()).reset_index().drop(columns=['Average_Similarity','Edge_Asymmetry']).rename(columns={'country_code_alpha2_X':'CC','X2Y_Similarity':'VICTIM','Y2X_Similarity':'CULPRIT'})\n",
    "SourceX.head(2)"
   ]
  },
  {
   "cell_type": "code",
   "execution_count": null,
   "metadata": {
    "id": "Gxuv-t_neSYf"
   },
   "outputs": [],
   "source": [
    "TargetY = (ImpactDF.groupby('country_code_alpha2_Y').mean()).reset_index().drop(columns=['Average_Similarity','Edge_Asymmetry']).rename(columns={'country_code_alpha2_Y':'CC','X2Y_Similarity':'CULPRIT','Y2X_Similarity':'VICTIM'})\n",
    "TargetY.head(2)"
   ]
  },
  {
   "cell_type": "code",
   "execution_count": null,
   "metadata": {
    "id": "Bt2YkO01xvet"
   },
   "outputs": [],
   "source": [
    "Cumulative = pd.concat([SourceX,TargetY]).groupby('CC').mean()\n",
    "Cumulative['AbsDiff'] = abs(Cumulative['VICTIM']-Cumulative['CULPRIT'])\n",
    "Cumulative['Diff'] = (Cumulative['VICTIM']-Cumulative['CULPRIT'])"
   ]
  },
  {
   "cell_type": "code",
   "execution_count": null,
   "metadata": {
    "colab": {
     "base_uri": "https://localhost:8080/",
     "height": 611
    },
    "executionInfo": {
     "elapsed": 1275,
     "status": "ok",
     "timestamp": 1602539973029,
     "user": {
      "displayName": "Akhilesh Pandita",
      "photoUrl": "https://lh3.googleusercontent.com/a-/AOh14Gioyn_psFpyNg1ossFRn4t734eeAtpzs4SpsYHoamU=s64",
      "userId": "08765423750383672411"
     },
     "user_tz": 420
    },
    "id": "g7uiO72U1Ocl",
    "outputId": "85525b8a-3455-4c06-f96f-1d2b60f999c2"
   },
   "outputs": [],
   "source": [
    "#VICTIM GRAPH\n",
    "plt.figure(figsize=(30,8))\n",
    "values = Cumulative['VICTIM'].sort_values() \n",
    "idx = Cumulative['VICTIM'].sort_values().index \n",
    "plt.title('\\n Average similarity when blockED in other countries \\n \\n (High values indicate that people from THIS country will find the average internet in ALL OTHER countries more similar to their native country \\n', size= 20)\n",
    "\n",
    "ax = sns.barplot(x=idx, y=values, color = 'seagreen') \n",
    "plt.xticks(size=15)\n",
    "plt.show()"
   ]
  },
  {
   "cell_type": "code",
   "execution_count": null,
   "metadata": {
    "colab": {
     "base_uri": "https://localhost:8080/",
     "height": 611
    },
    "executionInfo": {
     "elapsed": 1125,
     "status": "ok",
     "timestamp": 1602539976424,
     "user": {
      "displayName": "Akhilesh Pandita",
      "photoUrl": "https://lh3.googleusercontent.com/a-/AOh14Gioyn_psFpyNg1ossFRn4t734eeAtpzs4SpsYHoamU=s64",
      "userId": "08765423750383672411"
     },
     "user_tz": 420
    },
    "id": "6PzirGYd1Q8e",
    "outputId": "c3ad71a9-996f-43df-b093-4c17a62dc487"
   },
   "outputs": [],
   "source": [
    "#CULPRIT GRAPH\n",
    "plt.figure(figsize=(30,8))\n",
    "values = Cumulative['CULPRIT'].sort_values() \n",
    "idx = Cumulative['CULPRIT'].sort_values().index \n",
    "plt.title('\\n Average similarity when blockING other countries \\n \\n (Green --> High values indicate that people from OTHER countries will find the average internet in THIS country more similar to their native country \\n', size= 20)\n",
    "plt.xticks(size=15)\n",
    "ax = sns.barplot(x=idx, y=values,color ='brown') \n",
    "plt.show()"
   ]
  },
  {
   "cell_type": "code",
   "execution_count": null,
   "metadata": {
    "id": "y2C7afsTBXTS"
   },
   "outputs": [],
   "source": [
    "# ABSOLUTE DIFFERENCE GRAPH\n",
    "# DIFFERENCE = VICTIM - CULPRIT\n",
    "\n",
    "plt.figure(figsize=(30,8))\n",
    "values = Cumulative['AbsDiff'].sort_values() \n",
    "idx = Cumulative['AbsDiff'].sort_values().index \n",
    "plt.title('\\n Absolute asymmetry values \\n\\n Absolute ASYMMETRY = Absolute[Average Similarity(When BlockED In Other Countries) - Average Similarity(When BlockING Other Countries)]\\n \\n (Green --> Difference greater than global average \\n \\n', size= 20)\n",
    "plt.xticks(size=15)\n",
    "ax = sns.barplot(x=idx, y=values) \n",
    "\n",
    "for bar in ax.patches:\n",
    "    if bar.get_height() >= np.mean(values):\n",
    "        bar.set_color('green')    \n",
    "    else:\n",
    "        bar.set_color('red')"
   ]
  },
  {
   "cell_type": "code",
   "execution_count": null,
   "metadata": {
    "colab": {
     "base_uri": "https://localhost:8080/"
    },
    "executionInfo": {
     "elapsed": 1247,
     "status": "ok",
     "timestamp": 1602534550596,
     "user": {
      "displayName": "Akhilesh Pandita",
      "photoUrl": "https://lh3.googleusercontent.com/a-/AOh14Gioyn_psFpyNg1ossFRn4t734eeAtpzs4SpsYHoamU=s64",
      "userId": "08765423750383672411"
     },
     "user_tz": 420
    },
    "id": "x5ZKckpo-uUT",
    "outputId": "8a835d3f-1e60-4328-adc9-956090ad5fbe"
   },
   "outputs": [],
   "source": [
    "#DIFFERENCE GRAPH\n",
    "# DIFFERENCE = VICTIM - CULPRIT\n",
    "\n",
    "plt.figure(figsize=(30,8))\n",
    "values = Cumulative['Diff'].sort_values() \n",
    "idx = Cumulative['Diff'].sort_values().index \n",
    "plt.title('\\n ACTUAL ASYMMETRY VALUES \\n\\n Asymmetry = Average Similarity(When BlockED In Other Countries) - Average Similarity(When BlockING Other Countries)\\n \\n (GREEN --> Blocks more of other countries stuff than its stuff gets blocked ) \\n', size= 20)\n",
    "plt.xticks(size=15)\n",
    "ax = sns.barplot(x=idx, y=values) \n",
    "\n",
    "for bar in ax.patches:\n",
    "    if bar.get_height() >= 0:\n",
    "        bar.set_color('green')    \n",
    "    else:\n",
    "        bar.set_color('red')"
   ]
  },
  {
   "cell_type": "markdown",
   "metadata": {
    "id": "WUUWoP8c0_r4"
   },
   "source": [
    "### Country Specific Analysis"
   ]
  },
  {
   "cell_type": "code",
   "execution_count": null,
   "metadata": {
    "id": "1nSuVS9q-VX4"
   },
   "outputs": [],
   "source": [
    "def cc_analysis(cc):\n",
    "\n",
    "  \"\"\"Creates visualization for a country (cc) to show \n",
    "  its similarities with countries whose top websites it's blocking and where it's own top websites are being blocked\"\"\"\n",
    "\n",
    "  ccasX = ImpactDF[(ImpactDF[\"country_code_alpha2_X\"].str.contains(cc, na=False)) ][['country_code_alpha2_Y','X2Y_Similarity']].rename(columns={'country_code_alpha2_Y':'destination(Y)','X2Y_Similarity':'toYsim'})\n",
    "  #print(len(ccasX))\n",
    "  ccasY = ImpactDF[(ImpactDF[\"country_code_alpha2_Y\"].str.contains(cc, na=False)) ][['country_code_alpha2_X','Y2X_Similarity']].rename(columns={'country_code_alpha2_X':'destination(Y)','Y2X_Similarity':'toYsim'})\n",
    "  #print(len(ccasY))\n",
    "\n",
    "  ccDFX = pd.concat([ccasX,ccasY],axis=0)\n",
    "  ccDFX = ccDFX.sort_values(by='toYsim')\n",
    "\n",
    "  plt.figure(figsize=(30,8))\n",
    "  plt.title(\"Similarity of countries to \" + cc + \" when they block its top websites \\n OR \\n The internet for a person from \" + cc + \" when they visit these countries\" , size= 20)\n",
    "  plt.xticks(size=12)\n",
    "  Xax = sns.barplot(x='destination(Y)', y='toYsim', data = ccDFX)\n",
    "\n",
    "  for bar in Xax.patches:\n",
    "    if bar.get_height() >= 0.9:\n",
    "        bar.set_color('green')\n",
    "    elif bar.get_height() <= 0.6:   \n",
    "      bar.set_color('red')\n",
    "    else:\n",
    "        bar.set_color('slategrey')  \n",
    "\n",
    "  ccasYY = ImpactDF[(ImpactDF[\"country_code_alpha2_Y\"].str.contains(cc, na=False)) ][['country_code_alpha2_X','X2Y_Similarity']].rename(columns={'country_code_alpha2_X':'source(X)','X2Y_Similarity':'fromXsim'})\n",
    "  #print(len(ccasYY))\n",
    "\n",
    "  ccasXX = ImpactDF[(ImpactDF[\"country_code_alpha2_X\"].str.contains(cc, na=False)) ][['country_code_alpha2_Y','Y2X_Similarity']].rename(columns={'country_code_alpha2_Y':'source(X)','Y2X_Similarity':'fromXsim'})\n",
    "  #print(len(ccasXX))\n",
    "\n",
    "  ccDFY = pd.concat([ccasYY,ccasXX],axis=0)\n",
    "  ccDFY = ccDFY.sort_values(by='fromXsim')\n",
    "  \n",
    "  plt.figure(figsize=(30,8))\n",
    "  plt.title( cc + \"'s similarity to countries whose top websites it is blocking \\n OR \\n The internet for a person from these countries when they vist \" + cc , size= 20)\n",
    "  plt.xticks(size=12)\n",
    "  Yax = sns.barplot(x='source(X)', y='fromXsim', data = ccDFY)\n",
    "  \n",
    "  for bar in Yax.patches:\n",
    "    if bar.get_height() >= 0.9:\n",
    "        bar.set_color('green')\n",
    "    elif bar.get_height() <= 0.6:   \n",
    "      bar.set_color('red')\n",
    "    else:\n",
    "        bar.set_color('slategrey')"
   ]
  },
  {
   "cell_type": "code",
   "execution_count": null,
   "metadata": {
    "colab": {
     "base_uri": "https://localhost:8080/",
     "height": 1000
    },
    "executionInfo": {
     "elapsed": 2056,
     "status": "ok",
     "timestamp": 1602534573260,
     "user": {
      "displayName": "Akhilesh Pandita",
      "photoUrl": "https://lh3.googleusercontent.com/a-/AOh14Gioyn_psFpyNg1ossFRn4t734eeAtpzs4SpsYHoamU=s64",
      "userId": "08765423750383672411"
     },
     "user_tz": 420
    },
    "id": "TpfZfgb1DPnx",
    "outputId": "8a96f02c-f280-4d0c-a7ba-297023371bba"
   },
   "outputs": [],
   "source": [
    "cc_analysis('KR')"
   ]
  },
  {
   "cell_type": "code",
   "execution_count": null,
   "metadata": {
    "id": "gxWXPwAFLdRT"
   },
   "outputs": [],
   "source": [
    "cc_analysis('RU')"
   ]
  },
  {
   "cell_type": "code",
   "execution_count": null,
   "metadata": {
    "id": "TzAkL0B-LhBA"
   },
   "outputs": [],
   "source": [
    "cc_analysis('IN')"
   ]
  },
  {
   "cell_type": "code",
   "execution_count": null,
   "metadata": {
    "id": "7nlgvtP8LlG3"
   },
   "outputs": [],
   "source": [
    "cc_analysis('US')"
   ]
  },
  {
   "cell_type": "code",
   "execution_count": null,
   "metadata": {
    "id": "zFLbxxW0MYLM"
   },
   "outputs": [],
   "source": [
    "cc_analysis('JP')"
   ]
  },
  {
   "cell_type": "code",
   "execution_count": null,
   "metadata": {
    "id": "MWDP8A51MUX6"
   },
   "outputs": [],
   "source": [
    "cc_analysis('BG')"
   ]
  },
  {
   "cell_type": "markdown",
   "metadata": {
    "id": "6EPxtINtNdhv"
   },
   "source": [
    "## 4.4 Category level Asymmetry Viz\n",
    "\n",
    "-- Analyzing category overlap in directed blocking"
   ]
  },
  {
   "cell_type": "markdown",
   "metadata": {
    "id": "z_a17OuUwezO"
   },
   "source": [
    "### Function Setup"
   ]
  },
  {
   "cell_type": "code",
   "execution_count": null,
   "metadata": {
    "id": "Dmu9ZCIkNI3a"
   },
   "outputs": [],
   "source": [
    "def BlockedCategories(country_code):\n",
    "  \n",
    "  \"\"\"\n",
    "  Returns a set of Blocked categories in the Country\n",
    "  Parameter: Country Code\n",
    "  \"\"\"\n",
    "\n",
    "  # Country Specific blocked sites list\n",
    "  CC_blocked_cat = iclabClean1 [ (iclabClean1['country']==country_code) &(iclabClean1['censored_updated']==True)] [['site','category']]\n",
    "  CC_blocked_cat = CC_blocked_cat.groupby('category').count().sort_values(by='site',ascending=False)\n",
    "  CC_blocked_cat['site'] = CC_blocked_cat*100/np.sum(CC_blocked_cat['site'])\n",
    "  CC_blocked_cat = CC_blocked_cat.iloc[:9,:].reset_index()\n",
    "\n",
    "  otherVals  = 100-np.sum(CC_blocked_cat['site'])\n",
    "  lastRow ={'category':'REMAINING','site':otherVals}\n",
    "  CC_blocked_cat = CC_blocked_cat.append(lastRow, ignore_index=True)\n",
    "\n",
    "  CC_blocked_cat = CC_blocked_cat.sort_values(by='site',ascending=True)\n",
    "\n",
    "  return CC_blocked_cat"
   ]
  },
  {
   "cell_type": "code",
   "execution_count": null,
   "metadata": {
    "id": "3mBPbWkQRgcD"
   },
   "outputs": [],
   "source": [
    "def TopCategories(country_code):\n",
    "  \n",
    "  \"\"\"Returns Categories of Top Websites in the country \"\"\"\n",
    "\n",
    "  #Scraping Top Sites list from Alexa for country \n",
    "  url = \"https://www.alexa.com/topsites/countries/\" + country_code\n",
    "  page = requests.get(url)\n",
    "  soup = BeautifulSoup(page.content, 'html.parser')\n",
    "  div = soup.find_all('div', class_='td DescriptionCell')\n",
    "\n",
    "  CC_top_list = []\n",
    "  for link in div:\n",
    "    name = link.find('a')\n",
    "    CC_top_list.append((name.get_text('siteinfo')).lower())\n",
    "  topSites = set(CC_top_list) #Top sites in country \n",
    "\n",
    "  topSites  = pd.DataFrame(list(topSites)).rename(columns={0:'site'})\n",
    "  AllCats = iclabClean1 [(iclabClean1['country']==country_code)] [['site','category']]\n",
    "  topSiteCat = pd.merge(topSites,AllCats,on='site', how='left').groupby('site').first().replace(np.nan,'Undefined').reset_index()\n",
    "  topSiteCat = topSiteCat.groupby('category').count().sort_values(by='site',ascending=False)\n",
    "  topSiteCat['site'] = topSiteCat*100/np.sum(topSiteCat['site'])\n",
    "\n",
    "  topSiteCat = topSiteCat.iloc[:9,:].reset_index()\n",
    "  otherVals  = 100 - np.sum(topSiteCat['site'])\n",
    "  lastRow = {'category':'REMAINING','site':otherVals}\n",
    "  topSiteCat = topSiteCat.append(lastRow, ignore_index=True)\n",
    "  topSiteCat = topSiteCat.sort_values(by='site',ascending=True)\n",
    "\n",
    "  return topSiteCat"
   ]
  },
  {
   "cell_type": "code",
   "execution_count": null,
   "metadata": {
    "id": "Dj1BZWTjRKl2"
   },
   "outputs": [],
   "source": [
    "def blocked_pie(cc):\n",
    "  labels = BlockedCategories(cc)['category']\n",
    "  sizes = BlockedCategories(cc)['site']\n",
    "  explode = list(np.zeros(len(labels)-3))\n",
    "  explode.extend([0.1,0.1,0.1])   # \"explode\" the top 3 slices\n",
    "  fig1, ax1 = plt.subplots(figsize=(9,9))\n",
    "  wedges, texts, autotexts = ax1.pie(sizes, explode=explode, labels=labels, autopct='%1.0f%%', startangle=180, textprops=dict(color=\"black\"))\n",
    "  ax1.axis('equal')\n",
    "  #ax1.legend(wedges, labels, title=\"Blocked Categories\", loc=\"center left\",bbox_to_anchor=(1.15,.5,0,1))\n",
    "  plt.setp(autotexts, size=14, weight=\"bold\")\n",
    "  ax.set_title(\"Top blocked Categories in country\")\n",
    "  plt.show()"
   ]
  },
  {
   "cell_type": "code",
   "execution_count": null,
   "metadata": {
    "id": "zNXY51gUdbWX"
   },
   "outputs": [],
   "source": [
    "def top_pie(cc):\n",
    "  labels = TopCategories(cc)['category']\n",
    "  sizes = TopCategories(cc)['site']\n",
    "  explode = list(np.zeros(len(labels)-3))\n",
    "  explode.extend([0.1,0.1,0.1])   # \"explode\" the top 3 slices\n",
    "  fig1, ax1 = plt.subplots(figsize=(9,9))\n",
    "  wedges, texts, autotexts = ax1.pie(sizes, explode=explode, labels=labels, autopct='%1.0f%%', startangle=180, textprops=dict(color=\"black\"))\n",
    "  ax1.axis('equal')\n",
    "  #ax1.legend(wedges, labels, title=\"Top Categories\", loc=\"center left\",bbox_to_anchor=(1.15,.5,0,1))\n",
    "  plt.setp(autotexts, size=14, weight=\"bold\")\n",
    "  ax.set_title(\"Top visited Categories in country\")\n",
    "  plt.show()"
   ]
  },
  {
   "cell_type": "markdown",
   "metadata": {
    "id": "y6AH9CO3nvm-"
   },
   "source": [
    "### Pie Charts"
   ]
  },
  {
   "cell_type": "markdown",
   "metadata": {
    "id": "ggVfvNqp0Fwe"
   },
   "source": [
    "#### CN"
   ]
  },
  {
   "cell_type": "code",
   "execution_count": null,
   "metadata": {
    "colab": {
     "base_uri": "https://localhost:8080/",
     "height": 520
    },
    "executionInfo": {
     "elapsed": 6433,
     "status": "ok",
     "timestamp": 1602539852467,
     "user": {
      "displayName": "Akhilesh Pandita",
      "photoUrl": "https://lh3.googleusercontent.com/a-/AOh14Gioyn_psFpyNg1ossFRn4t734eeAtpzs4SpsYHoamU=s64",
      "userId": "08765423750383672411"
     },
     "user_tz": 420
    },
    "id": "kFRZP_eq0MqE",
    "outputId": "d25f9303-b978-4006-92a0-4d754f85f33b"
   },
   "outputs": [],
   "source": [
    "blocked_pie('CN')"
   ]
  },
  {
   "cell_type": "code",
   "execution_count": null,
   "metadata": {
    "id": "b3gXhY9V0qOT"
   },
   "outputs": [],
   "source": [
    "top_pie(cc)"
   ]
  },
  {
   "cell_type": "markdown",
   "metadata": {
    "id": "rH9VNT6NyfhR"
   },
   "source": [
    "#### KR"
   ]
  },
  {
   "cell_type": "code",
   "execution_count": null,
   "metadata": {
    "colab": {
     "base_uri": "https://localhost:8080/",
     "height": 520
    },
    "executionInfo": {
     "elapsed": 7297,
     "status": "ok",
     "timestamp": 1602539793770,
     "user": {
      "displayName": "Akhilesh Pandita",
      "photoUrl": "https://lh3.googleusercontent.com/a-/AOh14Gioyn_psFpyNg1ossFRn4t734eeAtpzs4SpsYHoamU=s64",
      "userId": "08765423750383672411"
     },
     "user_tz": 420
    },
    "id": "8ZlHR1NJpXVx",
    "outputId": "c037c1a3-cabf-49f9-b2a9-db2e67a55da1"
   },
   "outputs": [],
   "source": [
    "blocked_pie('KR')"
   ]
  },
  {
   "cell_type": "code",
   "execution_count": null,
   "metadata": {
    "colab": {
     "base_uri": "https://localhost:8080/",
     "height": 522
    },
    "executionInfo": {
     "elapsed": 39703,
     "status": "ok",
     "timestamp": 1602539826183,
     "user": {
      "displayName": "Akhilesh Pandita",
      "photoUrl": "https://lh3.googleusercontent.com/a-/AOh14Gioyn_psFpyNg1ossFRn4t734eeAtpzs4SpsYHoamU=s64",
      "userId": "08765423750383672411"
     },
     "user_tz": 420
    },
    "id": "vJFBXFsriAJC",
    "outputId": "58ecea99-2f57-4b30-cd9a-60cae96028c6"
   },
   "outputs": [],
   "source": [
    "top_pie('US')"
   ]
  },
  {
   "cell_type": "code",
   "execution_count": null,
   "metadata": {
    "colab": {
     "base_uri": "https://localhost:8080/",
     "height": 523
    },
    "executionInfo": {
     "elapsed": 50460,
     "status": "ok",
     "timestamp": 1602539836945,
     "user": {
      "displayName": "Akhilesh Pandita",
      "photoUrl": "https://lh3.googleusercontent.com/a-/AOh14Gioyn_psFpyNg1ossFRn4t734eeAtpzs4SpsYHoamU=s64",
      "userId": "08765423750383672411"
     },
     "user_tz": 420
    },
    "id": "029RFpjiwcmY",
    "outputId": "ef1c0ae0-3213-4654-e090-7bc1d80eb253"
   },
   "outputs": [],
   "source": [
    "top_pie('JP')"
   ]
  },
  {
   "cell_type": "code",
   "execution_count": null,
   "metadata": {
    "colab": {
     "base_uri": "https://localhost:8080/",
     "height": 527
    },
    "executionInfo": {
     "elapsed": 59202,
     "status": "ok",
     "timestamp": 1602539845693,
     "user": {
      "displayName": "Akhilesh Pandita",
      "photoUrl": "https://lh3.googleusercontent.com/a-/AOh14Gioyn_psFpyNg1ossFRn4t734eeAtpzs4SpsYHoamU=s64",
      "userId": "08765423750383672411"
     },
     "user_tz": 420
    },
    "id": "EySUt8Vnxrxl",
    "outputId": "ad47ddb1-778e-440e-b9fa-be6d7c5e9752"
   },
   "outputs": [],
   "source": [
    "top_pie('IN')"
   ]
  },
  {
   "cell_type": "markdown",
   "metadata": {
    "id": "JZG6u31Xybnq"
   },
   "source": [
    "#### US"
   ]
  },
  {
   "cell_type": "code",
   "execution_count": null,
   "metadata": {
    "colab": {
     "base_uri": "https://localhost:8080/"
    },
    "executionInfo": {
     "elapsed": 6818,
     "status": "ok",
     "timestamp": 1602455775993,
     "user": {
      "displayName": "Akhilesh Pandita",
      "photoUrl": "https://lh3.googleusercontent.com/a-/AOh14Gioyn_psFpyNg1ossFRn4t734eeAtpzs4SpsYHoamU=s64",
      "userId": "08765423750383672411"
     },
     "user_tz": 420
    },
    "id": "n_qqgLdsyidS",
    "outputId": "4e2e1dc1-eaae-4c66-d029-d5ff3fdc20ec"
   },
   "outputs": [],
   "source": [
    "blocked_pie('US')"
   ]
  },
  {
   "cell_type": "code",
   "execution_count": null,
   "metadata": {
    "colab": {
     "base_uri": "https://localhost:8080/"
    },
    "executionInfo": {
     "elapsed": 15205,
     "status": "ok",
     "timestamp": 1602455784398,
     "user": {
      "displayName": "Akhilesh Pandita",
      "photoUrl": "https://lh3.googleusercontent.com/a-/AOh14Gioyn_psFpyNg1ossFRn4t734eeAtpzs4SpsYHoamU=s64",
      "userId": "08765423750383672411"
     },
     "user_tz": 420
    },
    "id": "_S4Ps9gGyu_l",
    "outputId": "43516b88-92bb-44f6-9f34-96e7d937e04a"
   },
   "outputs": [],
   "source": [
    "top_pie('JP')"
   ]
  },
  {
   "cell_type": "code",
   "execution_count": null,
   "metadata": {
    "colab": {
     "base_uri": "https://localhost:8080/"
    },
    "executionInfo": {
     "elapsed": 25020,
     "status": "ok",
     "timestamp": 1602455794225,
     "user": {
      "displayName": "Akhilesh Pandita",
      "photoUrl": "https://lh3.googleusercontent.com/a-/AOh14Gioyn_psFpyNg1ossFRn4t734eeAtpzs4SpsYHoamU=s64",
      "userId": "08765423750383672411"
     },
     "user_tz": 420
    },
    "id": "38kDZHvIyzLm",
    "outputId": "f52b1098-4629-4bed-9b05-25c6ec237de0"
   },
   "outputs": [],
   "source": [
    "top_pie('NL')"
   ]
  },
  {
   "cell_type": "code",
   "execution_count": null,
   "metadata": {
    "colab": {
     "base_uri": "https://localhost:8080/"
    },
    "executionInfo": {
     "elapsed": 33483,
     "status": "ok",
     "timestamp": 1602455802701,
     "user": {
      "displayName": "Akhilesh Pandita",
      "photoUrl": "https://lh3.googleusercontent.com/a-/AOh14Gioyn_psFpyNg1ossFRn4t734eeAtpzs4SpsYHoamU=s64",
      "userId": "08765423750383672411"
     },
     "user_tz": 420
    },
    "id": "2hGx8yw-y1G7",
    "outputId": "392a0d6e-1a85-4977-ea67-15d1b05a5de4"
   },
   "outputs": [],
   "source": [
    "top_pie('CA')"
   ]
  },
  {
   "cell_type": "code",
   "execution_count": null,
   "metadata": {
    "colab": {
     "base_uri": "https://localhost:8080/"
    },
    "executionInfo": {
     "elapsed": 42480,
     "status": "ok",
     "timestamp": 1602455811711,
     "user": {
      "displayName": "Akhilesh Pandita",
      "photoUrl": "https://lh3.googleusercontent.com/a-/AOh14Gioyn_psFpyNg1ossFRn4t734eeAtpzs4SpsYHoamU=s64",
      "userId": "08765423750383672411"
     },
     "user_tz": 420
    },
    "id": "Evyu7-qCzAlM",
    "outputId": "b924e280-5367-4ea6-c7aa-9ddda43e9c49"
   },
   "outputs": [],
   "source": [
    "top_pie('FR')"
   ]
  },
  {
   "cell_type": "code",
   "execution_count": null,
   "metadata": {
    "id": "KMEdlnZ1WZJY"
   },
   "outputs": [],
   "source": []
  },
  {
   "cell_type": "markdown",
   "metadata": {
    "id": "M9t02A_aiDoP"
   },
   "source": [
    "### Intersection Plots"
   ]
  },
  {
   "cell_type": "code",
   "execution_count": null,
   "metadata": {
    "colab": {
     "base_uri": "https://localhost:8080/"
    },
    "executionInfo": {
     "elapsed": 3096,
     "status": "ok",
     "timestamp": 1602537064084,
     "user": {
      "displayName": "Akhilesh Pandita",
      "photoUrl": "https://lh3.googleusercontent.com/a-/AOh14Gioyn_psFpyNg1ossFRn4t734eeAtpzs4SpsYHoamU=s64",
      "userId": "08765423750383672411"
     },
     "user_tz": 420
    },
    "id": "CedalSTqXQ1a",
    "outputId": "859d69a7-4be6-452c-f00a-744020319b1c"
   },
   "outputs": [],
   "source": [
    "blockKR = BlockedCategories('KR').rename(columns={'site':'KR'})\n",
    "blockKR"
   ]
  },
  {
   "cell_type": "code",
   "execution_count": null,
   "metadata": {
    "id": "avE4a9t_k1hf"
   },
   "outputs": [],
   "source": [
    "topUS = TopCategories('US').rename(columns={'site':'US'})"
   ]
  },
  {
   "cell_type": "code",
   "execution_count": null,
   "metadata": {
    "id": "bxKI-kmylaD9"
   },
   "outputs": [],
   "source": [
    "topJP = TopCategories('JP').rename(columns={'site':'JP'})"
   ]
  },
  {
   "cell_type": "code",
   "execution_count": null,
   "metadata": {
    "id": "taHMewTSm80B"
   },
   "outputs": [],
   "source": [
    "topIN = TopCategories('IN').rename(columns={'site':'IN'})"
   ]
  },
  {
   "cell_type": "code",
   "execution_count": null,
   "metadata": {
    "colab": {
     "base_uri": "https://localhost:8080/"
    },
    "executionInfo": {
     "elapsed": 533,
     "status": "ok",
     "timestamp": 1602537350082,
     "user": {
      "displayName": "Akhilesh Pandita",
      "photoUrl": "https://lh3.googleusercontent.com/a-/AOh14Gioyn_psFpyNg1ossFRn4t734eeAtpzs4SpsYHoamU=s64",
      "userId": "08765423750383672411"
     },
     "user_tz": 420
    },
    "id": "eOxKf3Piq1js",
    "outputId": "e8add3b3-8ab0-4874-c56f-5def484d8d00"
   },
   "outputs": [],
   "source": [
    "from upsetplot import generate_data\n",
    "example = generate_data(aggregated=True)\n",
    "example"
   ]
  },
  {
   "cell_type": "code",
   "execution_count": null,
   "metadata": {
    "id": "RsjDeXdSpZ-x"
   },
   "outputs": [],
   "source": [
    "df1 = pd.merge(blockKR,topUS, on='category', how ='outer')\n",
    "df2 = pd.merge(df1,topIN, on='category', how ='outer')\n",
    "df3 = pd.merge(df2,topJP, on='category', how ='outer')"
   ]
  },
  {
   "cell_type": "code",
   "execution_count": null,
   "metadata": {
    "colab": {
     "base_uri": "https://localhost:8080/"
    },
    "executionInfo": {
     "elapsed": 347,
     "status": "ok",
     "timestamp": 1602537323145,
     "user": {
      "displayName": "Akhilesh Pandita",
      "photoUrl": "https://lh3.googleusercontent.com/a-/AOh14Gioyn_psFpyNg1ossFRn4t734eeAtpzs4SpsYHoamU=s64",
      "userId": "08765423750383672411"
     },
     "user_tz": 420
    },
    "id": "tDAuGx-iqWdG",
    "outputId": "9fdc25ed-8adf-465f-dcd9-6f9bf1c3e552"
   },
   "outputs": [],
   "source": [
    "# from upsetplot import plot\n",
    "# plot(df3)\n",
    "df3"
   ]
  },
  {
   "cell_type": "markdown",
   "metadata": {
    "id": "v0RB7yF50DDL"
   },
   "source": [
    "## 4.5 Output Files\n",
    "\n",
    "--JSON and CSV"
   ]
  },
  {
   "cell_type": "markdown",
   "metadata": {
    "id": "gvXf7xkjw5AZ"
   },
   "source": [
    "### JSON output"
   ]
  },
  {
   "cell_type": "code",
   "execution_count": null,
   "metadata": {
    "id": "btxwWyj0ebto"
   },
   "outputs": [],
   "source": [
    "impact_pairs_of_similarities = {}\n",
    "for _, row in ImpactDF.iterrows():\n",
    "    countryX = row['country_code_alpha3_X']\n",
    "    countryY = row['country_code_alpha3_Y']\n",
    "    country_pair = countryX +'->'+ countryY\n",
    "    impact_pairs_of_similarities[country_pair] = row.to_dict()"
   ]
  },
  {
   "cell_type": "code",
   "execution_count": null,
   "metadata": {
    "id": "nY45INl_kvcY"
   },
   "outputs": [],
   "source": [
    "impact_json = json.dumps(impact_pairs_of_similarities)"
   ]
  },
  {
   "cell_type": "code",
   "execution_count": null,
   "metadata": {
    "colab": {
     "base_uri": "https://localhost:8080/",
     "height": 124
    },
    "executionInfo": {
     "elapsed": 404,
     "status": "ok",
     "timestamp": 1600123910395,
     "user": {
      "displayName": "Akhilesh Pandita",
      "photoUrl": "https://lh3.googleusercontent.com/a-/AOh14Gioyn_psFpyNg1ossFRn4t734eeAtpzs4SpsYHoamU=s64",
      "userId": "08765423750383672411"
     },
     "user_tz": 420
    },
    "id": "pNz-_aR4nSmc",
    "outputId": "43952130-3b3f-4414-d6a6-e7327eb1234a"
   },
   "outputs": [],
   "source": [
    "impact_json"
   ]
  },
  {
   "cell_type": "code",
   "execution_count": null,
   "metadata": {
    "id": "YTicUB-cUxij"
   },
   "outputs": [],
   "source": [
    "with open('impact_json', 'w') as outfile:\n",
    "    json.dump(impact_json, outfile)"
   ]
  },
  {
   "cell_type": "markdown",
   "metadata": {
    "id": "8mfIgThjUH5g"
   },
   "source": [
    "### CSV Output"
   ]
  },
  {
   "cell_type": "code",
   "execution_count": null,
   "metadata": {
    "id": "REP03AdTUOSE"
   },
   "outputs": [],
   "source": [
    "ImpactDF.to_csv('NewProxy.csv')"
   ]
  },
  {
   "cell_type": "code",
   "execution_count": null,
   "metadata": {
    "id": "bY7NBQxsrpkA"
   },
   "outputs": [],
   "source": [
    "import pandas as pd\n",
    "from sklearn.datasets import load_boston\n",
    "from matplotlib import pyplot as plt\n",
    "from upsetplot import UpSet\n",
    "\n",
    "# Load the dataset into a DataFrame\n",
    "boston = load_boston()\n",
    "boston_df = pd.DataFrame(boston.data, columns=boston.feature_names)\n"
   ]
  },
  {
   "cell_type": "code",
   "execution_count": null,
   "metadata": {
    "colab": {
     "base_uri": "https://localhost:8080/",
     "height": 406
    },
    "executionInfo": {
     "elapsed": 382,
     "status": "ok",
     "timestamp": 1602537689216,
     "user": {
      "displayName": "Akhilesh Pandita",
      "photoUrl": "https://lh3.googleusercontent.com/a-/AOh14Gioyn_psFpyNg1ossFRn4t734eeAtpzs4SpsYHoamU=s64",
      "userId": "08765423750383672411"
     },
     "user_tz": 420
    },
    "id": "WTS3WEKMsIP6",
    "outputId": "17704f7c-aaaf-4191-f3ab-6c2bdd1db6fa"
   },
   "outputs": [],
   "source": [
    "boston_df"
   ]
  },
  {
   "cell_type": "code",
   "execution_count": null,
   "metadata": {
    "id": "bXAz68QWsDEB"
   },
   "outputs": [],
   "source": [
    "\n",
    "# Get five features most correlated with median house value\n",
    "correls = boston_df.corrwith(pd.Series(boston.target),\n",
    "                             method='spearman').sort_values()\n",
    "top_features = correls.index[-5:]\n"
   ]
  },
  {
   "cell_type": "code",
   "execution_count": null,
   "metadata": {
    "colab": {
     "base_uri": "https://localhost:8080/",
     "height": 34
    },
    "executionInfo": {
     "elapsed": 292,
     "status": "ok",
     "timestamp": 1602537714111,
     "user": {
      "displayName": "Akhilesh Pandita",
      "photoUrl": "https://lh3.googleusercontent.com/a-/AOh14Gioyn_psFpyNg1ossFRn4t734eeAtpzs4SpsYHoamU=s64",
      "userId": "08765423750383672411"
     },
     "user_tz": 420
    },
    "id": "lMzcbBkzsLHS",
    "outputId": "b7d9cbc8-488f-455d-9b16-dc89a60a8cc0"
   },
   "outputs": [],
   "source": [
    "top_features \n"
   ]
  },
  {
   "cell_type": "code",
   "execution_count": null,
   "metadata": {
    "id": "QFeeG6s9sDzz"
   },
   "outputs": [],
   "source": [
    "\n",
    "# Get a binary indicator of whether each top feature is above average\n",
    "boston_above_avg = boston_df > boston_df.median(axis=0)\n",
    "boston_above_avg = boston_above_avg[top_features]\n",
    "boston_above_avg = boston_above_avg.rename(columns=lambda x: x + '>')\n"
   ]
  },
  {
   "cell_type": "code",
   "execution_count": null,
   "metadata": {
    "id": "ZNeNmUoBsEiH"
   },
   "outputs": [],
   "source": [
    "\n",
    "# Make this indicator mask an index of boston_df\n",
    "boston_df = pd.concat([boston_df, boston_above_avg],\n",
    "                      axis=1)\n",
    "boston_df = boston_df.set_index(list(boston_above_avg.columns))\n"
   ]
  },
  {
   "cell_type": "code",
   "execution_count": null,
   "metadata": {
    "colab": {
     "base_uri": "https://localhost:8080/",
     "height": 436
    },
    "executionInfo": {
     "elapsed": 395,
     "status": "ok",
     "timestamp": 1602537835676,
     "user": {
      "displayName": "Akhilesh Pandita",
      "photoUrl": "https://lh3.googleusercontent.com/a-/AOh14Gioyn_psFpyNg1ossFRn4t734eeAtpzs4SpsYHoamU=s64",
      "userId": "08765423750383672411"
     },
     "user_tz": 420
    },
    "id": "my-qC_n9sqpv",
    "outputId": "bdbcd898-9a2d-44a6-a166-5d967974a527"
   },
   "outputs": [],
   "source": [
    "boston_df"
   ]
  },
  {
   "cell_type": "code",
   "execution_count": null,
   "metadata": {
    "id": "5OxZc0zzsFOH"
   },
   "outputs": [],
   "source": [
    "\n",
    "# Also give us access to the target (median house value)\n",
    "boston_df = boston_df.assign(median_value=boston.target)\n"
   ]
  },
  {
   "cell_type": "code",
   "execution_count": null,
   "metadata": {
    "colab": {
     "base_uri": "https://localhost:8080/",
     "height": 386
    },
    "executionInfo": {
     "elapsed": 1861,
     "status": "ok",
     "timestamp": 1602539447950,
     "user": {
      "displayName": "Akhilesh Pandita",
      "photoUrl": "https://lh3.googleusercontent.com/a-/AOh14Gioyn_psFpyNg1ossFRn4t734eeAtpzs4SpsYHoamU=s64",
      "userId": "08765423750383672411"
     },
     "user_tz": 420
    },
    "id": "kZpoiZ9JsGBn",
    "outputId": "5e1947da-2e3f-42bd-ad49-de541590ccc4"
   },
   "outputs": [],
   "source": [
    "\n",
    "# UpSet plot it!\n",
    "upset = UpSet(boston_df, subset_size='count', intersection_plot_elements=3)\n",
    "upset.add_catplot(value='median_value', kind='strip', color='blue')\n",
    "upset.add_catplot(value='AGE', kind='strip', color='black')\n",
    "upset.plot()\n",
    "plt.show()"
   ]
  }
 ],
 "metadata": {
  "accelerator": "TPU",
  "colab": {
   "collapsed_sections": [
    "9lyLU-8vLJBX",
    "0UcXBgj9MwJl",
    "nY8uVQYwJQzZ",
    "nHfBC3U_JQzy",
    "1fINWfo6JQ0b",
    "CNS4QqGkMIi3",
    "CHmStC83RD53",
    "Z-Iix1x_JQ0i",
    "U0IUy6TCJQ1D",
    "5SBW-hF_XIOv",
    "2vXjfJocMIjb",
    "6d5h4iT0MIjn",
    "de_HvRAAMIjy",
    "cqW0CImEJQ2M",
    "-tc8inbzMIkM",
    "TN50poI7bRp-",
    "k2KccZxOuhQg",
    "MgPK89cKXPj7",
    "TSl2v_JOLLig",
    "LRU1AaZNRov2",
    "g2esjFV4jbi9",
    "QAxFjUBtMIk0",
    "yJvpa_PVirs8",
    "IvijQ-Lxbusz",
    "V36DLT4yu6cj",
    "D6jzUxbwlQCz",
    "JMMv8PlWcQhe",
    "yQ37aOnrjybs",
    "wdbqkRYyAoYi",
    "1RAk4GBpgHtI",
    "Z-oPc-iHgBtn",
    "H89YHcVly3rj",
    "jFYIbROSdNL8",
    "WUUWoP8c0_r4",
    "6EPxtINtNdhv",
    "z_a17OuUwezO",
    "rH9VNT6NyfhR",
    "JZG6u31Xybnq",
    "M9t02A_aiDoP",
    "v0RB7yF50DDL",
    "gvXf7xkjw5AZ",
    "xGkjkDLQriwz"
   ],
   "machine_shape": "hm",
   "name": "ICLAB_Data_Cleaning_and_Analysis.ipynb",
   "provenance": []
  },
  "kernelspec": {
   "display_name": "Python 3",
   "language": "python",
   "name": "python3"
  },
  "language_info": {
   "codemirror_mode": {
    "name": "ipython",
    "version": 3
   },
   "file_extension": ".py",
   "mimetype": "text/x-python",
   "name": "python",
   "nbconvert_exporter": "python",
   "pygments_lexer": "ipython3",
   "version": "3.6.9"
  }
 },
 "nbformat": 4,
 "nbformat_minor": 1
}
