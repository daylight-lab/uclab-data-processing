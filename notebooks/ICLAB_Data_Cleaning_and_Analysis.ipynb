{
 "cells": [
  {
   "cell_type": "markdown",
   "metadata": {
    "colab_type": "text",
    "id": "9lyLU-8vLJBX"
   },
   "source": [
    "# How to use this notebook\n",
    "\n",
    "Sections 1 and 2 require data external to this repo to replicate. You can [download those data here](https://berkeley.box.com/s/je4ld219m7somvqmb9bqu2v7z3il3n48).\n",
    "\n",
    "**Section 1. Data import and cleaning**. This section marshals and cleans the source ICLab dataset. It takes as input `combined.csv` (download above) and produces `iclab-cleaned-fortiguard.csv`.\n",
    "\n",
    "**Section 2. Experiments**. This walks through the various experiments we undertook to produce our metric. It starts by loading `iclab-cleaned-fortiguard.csv` and finishes by producing `metrics.csv`.\n",
    "\n",
    "**Section 3. Hypothesis testing**. This does our directed hypothesis testing and correlation testing with other metrics. It starts by loading `metrics.csv` and does not produce any output to disk.\n",
    "\n",
    "Run the two cells below to install and import all the libraries you will need to run any section of this notebook.\n"
   ]
  },
  {
   "cell_type": "code",
   "execution_count": 1,
   "metadata": {
    "colab": {},
    "colab_type": "code",
    "id": "iBDP39jgMPms"
   },
   "outputs": [
    {
     "name": "stdout",
     "output_type": "stream",
     "text": [
      "Requirement already satisfied: tldextract in /usr/local/lib/python3.6/dist-packages (2.2.2)\n",
      "Requirement already satisfied: idna in /usr/lib/python3/dist-packages (from tldextract) (2.6)\n",
      "Requirement already satisfied: setuptools in /usr/local/lib/python3.6/dist-packages (from tldextract) (40.6.2)\n",
      "Requirement already satisfied: requests>=2.1.0 in /home/ffff/.local/lib/python3.6/site-packages (from tldextract) (2.20.1)\n",
      "Requirement already satisfied: requests-file>=1.4 in /usr/local/lib/python3.6/dist-packages (from tldextract) (1.5.1)\n",
      "Requirement already satisfied: certifi>=2017.4.17 in /home/ffff/.local/lib/python3.6/site-packages (from requests>=2.1.0->tldextract) (2018.10.15)\n",
      "Requirement already satisfied: urllib3<1.25,>=1.21.1 in /home/ffff/.local/lib/python3.6/site-packages (from requests>=2.1.0->tldextract) (1.24.1)\n",
      "Requirement already satisfied: chardet<3.1.0,>=3.0.2 in /home/ffff/.local/lib/python3.6/site-packages (from requests>=2.1.0->tldextract) (3.0.4)\n",
      "Requirement already satisfied: six in /usr/lib/python3/dist-packages (from requests-file>=1.4->tldextract) (1.11.0)\n",
      "\u001b[33mYou are using pip version 18.1, however version 20.2.2 is available.\n",
      "You should consider upgrading via the 'pip install --upgrade pip' command.\u001b[0m\n",
      "Requirement already satisfied: pycountry in /usr/local/lib/python3.6/dist-packages (19.8.18)\n",
      "\u001b[33mYou are using pip version 18.1, however version 20.2.2 is available.\n",
      "You should consider upgrading via the 'pip install --upgrade pip' command.\u001b[0m\n",
      "Requirement already satisfied: jupyterthemes in /usr/local/lib/python3.6/dist-packages (0.20.0)\n",
      "Requirement already satisfied: matplotlib>=1.4.3 in /home/ffff/.local/lib/python3.6/site-packages (from jupyterthemes) (3.0.2)\n",
      "Requirement already satisfied: ipython>=5.4.1 in /home/ffff/.local/lib/python3.6/site-packages (from jupyterthemes) (6.5.0)\n",
      "Requirement already satisfied: lesscpy>=0.11.2 in /usr/local/lib/python3.6/dist-packages (from jupyterthemes) (0.13.0)\n",
      "Requirement already satisfied: jupyter-core in /home/ffff/.local/lib/python3.6/site-packages (from jupyterthemes) (4.4.0)\n",
      "Requirement already satisfied: notebook>=5.6.0 in /home/ffff/.local/lib/python3.6/site-packages (from jupyterthemes) (5.6.0)\n",
      "Requirement already satisfied: pyparsing!=2.0.4,!=2.1.2,!=2.1.6,>=2.0.1 in /home/ffff/.local/lib/python3.6/site-packages (from matplotlib>=1.4.3->jupyterthemes) (2.3.0)\n",
      "Requirement already satisfied: cycler>=0.10 in /home/ffff/.local/lib/python3.6/site-packages (from matplotlib>=1.4.3->jupyterthemes) (0.10.0)\n",
      "Requirement already satisfied: python-dateutil>=2.1 in /home/ffff/.local/lib/python3.6/site-packages (from matplotlib>=1.4.3->jupyterthemes) (2.7.3)\n",
      "Requirement already satisfied: kiwisolver>=1.0.1 in /home/ffff/.local/lib/python3.6/site-packages (from matplotlib>=1.4.3->jupyterthemes) (1.0.1)\n",
      "Requirement already satisfied: numpy>=1.10.0 in /home/ffff/.local/lib/python3.6/site-packages (from matplotlib>=1.4.3->jupyterthemes) (1.15.4)\n",
      "Requirement already satisfied: simplegeneric>0.8 in /home/ffff/.local/lib/python3.6/site-packages (from ipython>=5.4.1->jupyterthemes) (0.8.1)\n",
      "Requirement already satisfied: traitlets>=4.2 in /home/ffff/.local/lib/python3.6/site-packages (from ipython>=5.4.1->jupyterthemes) (4.3.2)\n",
      "Requirement already satisfied: setuptools>=18.5 in /usr/local/lib/python3.6/dist-packages (from ipython>=5.4.1->jupyterthemes) (40.6.2)\n",
      "Requirement already satisfied: prompt-toolkit<2.0.0,>=1.0.15 in /home/ffff/.local/lib/python3.6/site-packages (from ipython>=5.4.1->jupyterthemes) (1.0.15)\n",
      "Requirement already satisfied: pexpect; sys_platform != \"win32\" in /home/ffff/.local/lib/python3.6/site-packages (from ipython>=5.4.1->jupyterthemes) (4.6.0)\n",
      "Requirement already satisfied: jedi>=0.10 in /home/ffff/.local/lib/python3.6/site-packages (from ipython>=5.4.1->jupyterthemes) (0.12.1)\n",
      "Requirement already satisfied: pygments in /home/ffff/.local/lib/python3.6/site-packages (from ipython>=5.4.1->jupyterthemes) (2.2.0)\n",
      "Requirement already satisfied: pickleshare in /home/ffff/.local/lib/python3.6/site-packages (from ipython>=5.4.1->jupyterthemes) (0.7.4)\n",
      "Requirement already satisfied: backcall in /home/ffff/.local/lib/python3.6/site-packages (from ipython>=5.4.1->jupyterthemes) (0.1.0)\n",
      "Requirement already satisfied: decorator in /home/ffff/.local/lib/python3.6/site-packages (from ipython>=5.4.1->jupyterthemes) (4.3.0)\n",
      "Requirement already satisfied: ply in /usr/local/lib/python3.6/dist-packages (from lesscpy>=0.11.2->jupyterthemes) (3.11)\n",
      "Requirement already satisfied: six in /usr/lib/python3/dist-packages (from lesscpy>=0.11.2->jupyterthemes) (1.11.0)\n",
      "Requirement already satisfied: terminado>=0.8.1 in /home/ffff/.local/lib/python3.6/site-packages (from notebook>=5.6.0->jupyterthemes) (0.8.1)\n",
      "Requirement already satisfied: ipykernel in /home/ffff/.local/lib/python3.6/site-packages (from notebook>=5.6.0->jupyterthemes) (4.9.0)\n",
      "Requirement already satisfied: prometheus-client in /home/ffff/.local/lib/python3.6/site-packages (from notebook>=5.6.0->jupyterthemes) (0.3.1)\n",
      "Requirement already satisfied: Send2Trash in /home/ffff/.local/lib/python3.6/site-packages (from notebook>=5.6.0->jupyterthemes) (1.5.0)\n",
      "Requirement already satisfied: nbconvert in /home/ffff/.local/lib/python3.6/site-packages (from notebook>=5.6.0->jupyterthemes) (5.3.1)\n",
      "Requirement already satisfied: jupyter-client>=5.2.0 in /home/ffff/.local/lib/python3.6/site-packages (from notebook>=5.6.0->jupyterthemes) (5.2.3)\n",
      "Requirement already satisfied: nbformat in /home/ffff/.local/lib/python3.6/site-packages (from notebook>=5.6.0->jupyterthemes) (4.4.0)\n",
      "Requirement already satisfied: ipython-genutils in /home/ffff/.local/lib/python3.6/site-packages (from notebook>=5.6.0->jupyterthemes) (0.2.0)\n",
      "Requirement already satisfied: tornado>=4 in /home/ffff/.local/lib/python3.6/site-packages (from notebook>=5.6.0->jupyterthemes) (5.1)\n",
      "Requirement already satisfied: pyzmq>=17 in /home/ffff/.local/lib/python3.6/site-packages (from notebook>=5.6.0->jupyterthemes) (17.1.2)\n",
      "Requirement already satisfied: jinja2 in /home/ffff/.local/lib/python3.6/site-packages (from notebook>=5.6.0->jupyterthemes) (2.10)\n",
      "Requirement already satisfied: wcwidth in /home/ffff/.local/lib/python3.6/site-packages (from prompt-toolkit<2.0.0,>=1.0.15->ipython>=5.4.1->jupyterthemes) (0.1.7)\n",
      "Requirement already satisfied: ptyprocess>=0.5 in /home/ffff/.local/lib/python3.6/site-packages (from pexpect; sys_platform != \"win32\"->ipython>=5.4.1->jupyterthemes) (0.6.0)\n",
      "Requirement already satisfied: parso>=0.3.0 in /home/ffff/.local/lib/python3.6/site-packages (from jedi>=0.10->ipython>=5.4.1->jupyterthemes) (0.3.1)\n",
      "Requirement already satisfied: mistune>=0.7.4 in /home/ffff/.local/lib/python3.6/site-packages (from nbconvert->notebook>=5.6.0->jupyterthemes) (0.8.3)\n",
      "Requirement already satisfied: bleach in /home/ffff/.local/lib/python3.6/site-packages (from nbconvert->notebook>=5.6.0->jupyterthemes) (2.1.4)\n",
      "Requirement already satisfied: entrypoints>=0.2.2 in /home/ffff/.local/lib/python3.6/site-packages (from nbconvert->notebook>=5.6.0->jupyterthemes) (0.2.3)\n",
      "Requirement already satisfied: pandocfilters>=1.4.1 in /home/ffff/.local/lib/python3.6/site-packages (from nbconvert->notebook>=5.6.0->jupyterthemes) (1.4.2)\n",
      "Requirement already satisfied: testpath in /home/ffff/.local/lib/python3.6/site-packages (from nbconvert->notebook>=5.6.0->jupyterthemes) (0.3.1)\n",
      "Requirement already satisfied: jsonschema!=2.5.0,>=2.4 in /home/ffff/.local/lib/python3.6/site-packages (from nbformat->notebook>=5.6.0->jupyterthemes) (2.6.0)\n",
      "Requirement already satisfied: MarkupSafe>=0.23 in /home/ffff/.local/lib/python3.6/site-packages (from jinja2->notebook>=5.6.0->jupyterthemes) (1.1.0)\n",
      "Requirement already satisfied: html5lib!=1.0b1,!=1.0b2,!=1.0b3,!=1.0b4,!=1.0b5,!=1.0b6,!=1.0b7,!=1.0b8,>=0.99999999pre in /home/ffff/.local/lib/python3.6/site-packages (from bleach->nbconvert->notebook>=5.6.0->jupyterthemes) (1.0.1)\n",
      "Requirement already satisfied: webencodings in /home/ffff/.local/lib/python3.6/site-packages (from html5lib!=1.0b1,!=1.0b2,!=1.0b3,!=1.0b4,!=1.0b5,!=1.0b6,!=1.0b7,!=1.0b8,>=0.99999999pre->bleach->nbconvert->notebook>=5.6.0->jupyterthemes) (0.5.1)\n",
      "\u001b[33mYou are using pip version 18.1, however version 20.2.2 is available.\n",
      "You should consider upgrading via the 'pip install --upgrade pip' command.\u001b[0m\n"
     ]
    }
   ],
   "source": [
    "!pip install tldextract\n",
    "!pip install pycountry\n",
    "!pip install jupyterthemes"
   ]
  },
  {
   "cell_type": "code",
   "execution_count": 2,
   "metadata": {
    "colab": {},
    "colab_type": "code",
    "id": "LtWHpSloJQzK"
   },
   "outputs": [
    {
     "name": "stdout",
     "output_type": "stream",
     "text": [
      "Populating the interactive namespace from numpy and matplotlib\n"
     ]
    }
   ],
   "source": [
    "import pandas as pd\n",
    "import os\n",
    "import re\n",
    "import tldextract\n",
    "import numpy as np\n",
    "import matplotlib.pyplot as plt\n",
    "import seaborn as sns\n",
    "from scipy import spatial\n",
    "import os, time, http.client\n",
    "from termcolor import colored\n",
    "import sys\n",
    "import json\n",
    "from pygments import highlight, lexers, formatters\n",
    "import pycountry\n",
    "import scipy\n",
    "from scipy import stats\n",
    "from scipy.stats import ttest_ind, ttest_ind_from_stats\n",
    "from scipy.special import stdtr\n",
    "import statistics\n",
    "\n",
    "# Tools for visualizing the data\n",
    "\n",
    "# requires jupytertehmes\n",
    "\n",
    "%pylab inline\n",
    "# import jtplot module in notebook\n",
    "from jupyterthemes import jtplot\n",
    "\n",
    "# choose which theme to inherit plotting style from\n",
    "# onedork | grade3 | oceans16 | chesterish | monokai | solarizedl | solarizedd\n",
    "jtplot.style(theme='grade3')\n",
    "\n",
    "# set \"context\" (paper, notebook, talk, poster)\n",
    "# scale font-size of ticklabels, legend, etc.\n",
    "# remove spines from x and y axes and make grid dashed\n",
    "jtplot.style(context='paper', fscale=1.4, spines=False, gridlines='--')\n",
    "\n",
    "# turn on X- and Y-axis tick marks (default=False)\n",
    "# turn off the axis grid lines (default=True)\n",
    "# and set the default figure size\n",
    "jtplot.style(ticks=True, grid=False, figsize=(6, 4.5))\n",
    "\n",
    "\n",
    "\n",
    "# utility functions\n",
    "\n",
    "def get_blocked_sites_indices (df): \n",
    "    return (\n",
    "        (df['dns_all']==True) | \n",
    "        (df['censored_updated']==True) | \n",
    "        (df['block']==True) | \n",
    "        (df['packet_updated']==True)\n",
    "    )\n"
   ]
  },
  {
   "cell_type": "markdown",
   "metadata": {
    "colab_type": "text",
    "id": "0UcXBgj9MwJl"
   },
   "source": [
    "# Section 1. Data import and cleaning\n",
    "\n",
    "This section imports and cleans  all the [ICLab data](https://iclab.org/post/iclab_data/) as of this writing, 2020-07-22. \n",
    "\n",
    "If you want to add new data, or clean our data differently, edit this section.\n",
    "\n",
    "**If you are interested in metric computation or hypothesis testing, SKIP THIS SECTION. You can load the cleaned data at the beginning of Sections 2 and 3**.\n",
    "\n",
    "If you would like to continue, you'll need to [download combined.csv here](https://berkeley.box.com/s/je4ld219m7somvqmb9bqu2v7z3il3n48). This is a large (8GB) file.\n",
    "It is created by concatenating all of the ICLab data (see link above)."
   ]
  },
  {
   "cell_type": "code",
   "execution_count": 3,
   "metadata": {
    "colab": {},
    "colab_type": "code",
    "id": "6-IkJRTtJQzR"
   },
   "outputs": [
    {
     "name": "stderr",
     "output_type": "stream",
     "text": [
      "/home/ffff/.local/lib/python3.6/site-packages/IPython/core/interactiveshell.py:2785: DtypeWarning: Columns (3,6,7,10,11,12,16) have mixed types.Specify dtype option on import or set low_memory=False.\n",
      "  interactivity=interactivity, compiler=compiler, result=result)\n"
     ]
    }
   ],
   "source": [
    "# make sure you've downloaded combined.csv - see link above.\n",
    "# WARNING - this is a large dataset and will produce some memory pressure.\n",
    "iclabcombined = pd.read_csv(\"../data/combined.csv\", dtype={'country' : str})"
   ]
  },
  {
   "cell_type": "markdown",
   "metadata": {
    "colab_type": "text",
    "id": "WYO-gMQKJQzT"
   },
   "source": [
    "## Clean ICLab dataset\n",
    "\n",
    "Drop the columns which were meant for internal use of ICLAB team and the header columns which have come into dataset via join."
   ]
  },
  {
   "cell_type": "code",
   "execution_count": 4,
   "metadata": {
    "colab": {},
    "colab_type": "code",
    "id": "4AibN_s5JQzU"
   },
   "outputs": [],
   "source": [
    "iclabcombined.drop(['filename', 'as_number'], axis=1, inplace= True)\n",
    "\n",
    "iclabcombined.drop([ 3078134,  4235577, 12411076, 18967078, 25041685, 26600938,\n",
    "            28192530, 29460039, 30795516, 32569776, 34391850, 36093972,\n",
    "            37793956, 39298313, 40934970, 42276914, 42976448, 44455181,\n",
    "            47068048, 49383978], inplace = True)"
   ]
  },
  {
   "cell_type": "markdown",
   "metadata": {
    "colab_type": "text",
    "id": "tH7sF96aJQzW"
   },
   "source": [
    "Correcting wrongly coded boolean values in the datasets"
   ]
  },
  {
   "cell_type": "code",
   "execution_count": 5,
   "metadata": {
    "colab": {},
    "colab_type": "code",
    "id": "YXcn1fvyJQzX"
   },
   "outputs": [],
   "source": [
    "iclabcombined['dns'].replace('false',False,inplace=True)\n",
    "iclabcombined['dns_all'].replace('false',False,inplace=True)\n",
    "iclabcombined['block'].replace('false',False,inplace=True)\n",
    "iclabcombined['packet_updated'].replace('false',False,inplace=True)\n",
    "iclabcombined['censored_updated'].replace('false',False,inplace=True)\n",
    "\n",
    "iclabcombined['dns'].replace('true',True,inplace=True)\n",
    "iclabcombined['dns_all'].replace('true',True,inplace=True)\n",
    "iclabcombined['block'].replace('true',True,inplace=True)\n",
    "iclabcombined['packet_updated'].replace('true',True,inplace=True)\n",
    "iclabcombined['censored_updated'].replace('true',True,inplace=True)"
   ]
  },
  {
   "cell_type": "markdown",
   "metadata": {
    "colab_type": "text",
    "id": "nY8uVQYwJQzZ"
   },
   "source": [
    "##  Merge ICLab dataset wtih Fortiguard categories\n",
    "\n",
    "We'll also be importing the Fortiguard categories for each URL blocked, and merging them into our dataset of blocking observations.\n",
    "\n",
    "The result will be a list of ICLab blocking observations, along with the Fortiguard category for each URL observed.\n",
    "\n",
    "We'll start with a list of domain mappings that comes with the ICLab dataset."
   ]
  },
  {
   "cell_type": "code",
   "execution_count": 6,
   "metadata": {
    "colab": {},
    "colab_type": "code",
    "id": "Yf1cPsGHJQzZ"
   },
   "outputs": [],
   "source": [
    "catDF = pd.read_fwf('../data/utils/type_domain_mapping.txt',header=None, names=[ \"Name\"], sep=\"\")"
   ]
  },
  {
   "cell_type": "code",
   "execution_count": 7,
   "metadata": {
    "colab": {},
    "colab_type": "code",
    "id": "b5D_8FilJQzc"
   },
   "outputs": [],
   "source": [
    "catDF = catDF.Name.apply(lambda x: pd.Series(str(x).split(\"|||\"))).rename(columns={0:'category',1:'site'})"
   ]
  },
  {
   "cell_type": "code",
   "execution_count": 8,
   "metadata": {
    "colab": {},
    "colab_type": "code",
    "id": "MEhS1aarJQze"
   },
   "outputs": [
    {
     "data": {
      "text/plain": [
       "80"
      ]
     },
     "execution_count": 8,
     "metadata": {},
     "output_type": "execute_result"
    }
   ],
   "source": [
    "allCategories = set(catDF['category'])\n",
    "len(allCategories)"
   ]
  },
  {
   "cell_type": "code",
   "execution_count": 9,
   "metadata": {
    "colab": {},
    "colab_type": "code",
    "id": "nM61s9ZhJQzg"
   },
   "outputs": [],
   "source": [
    "# ADDING CATEGORY AS A PERMANENT COLUMN\n",
    "urlListAll = iclabcombined['url'].tolist()\n",
    "sitesListAll = []\n",
    "for item in urlListAll:\n",
    "    domainAll = tldextract.extract(item)[1]\n",
    "    suffixAll = tldextract.extract(item)[2]\n",
    "    sitesListAll.append(domainAll + \".\" + suffixAll)"
   ]
  },
  {
   "cell_type": "code",
   "execution_count": 10,
   "metadata": {
    "colab": {},
    "colab_type": "code",
    "id": "19IFD5t4JQzi"
   },
   "outputs": [],
   "source": [
    "iclabcombined['site'] = sitesListAll\n",
    "iclabcombined = pd.merge(iclabcombined, catDF, on='site',how='left')"
   ]
  },
  {
   "cell_type": "code",
   "execution_count": 11,
   "metadata": {
    "colab": {},
    "colab_type": "code",
    "id": "uFOLYKIwPiKU"
   },
   "outputs": [
    {
     "data": {
      "text/html": [
       "<div>\n",
       "<style scoped>\n",
       "    .dataframe tbody tr th:only-of-type {\n",
       "        vertical-align: middle;\n",
       "    }\n",
       "\n",
       "    .dataframe tbody tr th {\n",
       "        vertical-align: top;\n",
       "    }\n",
       "\n",
       "    .dataframe thead th {\n",
       "        text-align: right;\n",
       "    }\n",
       "</style>\n",
       "<table border=\"1\" class=\"dataframe\">\n",
       "  <thead>\n",
       "    <tr style=\"text-align: right;\">\n",
       "      <th></th>\n",
       "      <th>server_t</th>\n",
       "      <th>country</th>\n",
       "      <th>schedule_name</th>\n",
       "      <th>url</th>\n",
       "      <th>dns</th>\n",
       "      <th>dns_reason</th>\n",
       "      <th>dns_all</th>\n",
       "      <th>dns_reason_all</th>\n",
       "      <th>http_status</th>\n",
       "      <th>block</th>\n",
       "      <th>body_len</th>\n",
       "      <th>http_reason</th>\n",
       "      <th>packet_updated</th>\n",
       "      <th>packet_reason</th>\n",
       "      <th>censored_updated</th>\n",
       "      <th>site</th>\n",
       "      <th>category</th>\n",
       "    </tr>\n",
       "  </thead>\n",
       "  <tbody>\n",
       "    <tr>\n",
       "      <th>0</th>\n",
       "      <td>2017-01-01T00:03:55.797Z</td>\n",
       "      <td>UA</td>\n",
       "      <td>alexa-global</td>\n",
       "      <td>4shared.com</td>\n",
       "      <td>False</td>\n",
       "      <td>sameip</td>\n",
       "      <td>False</td>\n",
       "      <td>NaN</td>\n",
       "      <td>200</td>\n",
       "      <td>False</td>\n",
       "      <td>89694</td>\n",
       "      <td>NaN</td>\n",
       "      <td>NaN</td>\n",
       "      <td>NaN</td>\n",
       "      <td>False</td>\n",
       "      <td>4shared.com</td>\n",
       "      <td>File Sharing and Storage</td>\n",
       "    </tr>\n",
       "    <tr>\n",
       "      <th>1</th>\n",
       "      <td>2017-01-01T00:03:55.797Z</td>\n",
       "      <td>UA</td>\n",
       "      <td>alexa-global</td>\n",
       "      <td>quora.com</td>\n",
       "      <td>-2</td>\n",
       "      <td>no_control_resp</td>\n",
       "      <td>False</td>\n",
       "      <td>NaN</td>\n",
       "      <td>200</td>\n",
       "      <td>False</td>\n",
       "      <td>99907</td>\n",
       "      <td>NaN</td>\n",
       "      <td>NaN</td>\n",
       "      <td>NaN</td>\n",
       "      <td>False</td>\n",
       "      <td>quora.com</td>\n",
       "      <td>Reference</td>\n",
       "    </tr>\n",
       "    <tr>\n",
       "      <th>2</th>\n",
       "      <td>2017-01-01T00:03:55.797Z</td>\n",
       "      <td>UA</td>\n",
       "      <td>alexa-global</td>\n",
       "      <td>stackexchange.com</td>\n",
       "      <td>-2</td>\n",
       "      <td>no_control_resp</td>\n",
       "      <td>False</td>\n",
       "      <td>NaN</td>\n",
       "      <td>200</td>\n",
       "      <td>False</td>\n",
       "      <td>83096</td>\n",
       "      <td>NaN</td>\n",
       "      <td>NaN</td>\n",
       "      <td>NaN</td>\n",
       "      <td>False</td>\n",
       "      <td>stackexchange.com</td>\n",
       "      <td>Information Technology</td>\n",
       "    </tr>\n",
       "    <tr>\n",
       "      <th>3</th>\n",
       "      <td>2017-01-01T00:03:55.797Z</td>\n",
       "      <td>UA</td>\n",
       "      <td>alexa-global</td>\n",
       "      <td>whatsapp.com</td>\n",
       "      <td>-2</td>\n",
       "      <td>no_control_resp</td>\n",
       "      <td>False</td>\n",
       "      <td>NaN</td>\n",
       "      <td>200</td>\n",
       "      <td>False</td>\n",
       "      <td>32799</td>\n",
       "      <td>NaN</td>\n",
       "      <td>NaN</td>\n",
       "      <td>NaN</td>\n",
       "      <td>False</td>\n",
       "      <td>whatsapp.com</td>\n",
       "      <td>Instant Messaging</td>\n",
       "    </tr>\n",
       "    <tr>\n",
       "      <th>4</th>\n",
       "      <td>2017-01-01T00:03:55.797Z</td>\n",
       "      <td>UA</td>\n",
       "      <td>alexa-global</td>\n",
       "      <td>atlassian.net</td>\n",
       "      <td>-2</td>\n",
       "      <td>no_control_resp</td>\n",
       "      <td>False</td>\n",
       "      <td>NaN</td>\n",
       "      <td>200</td>\n",
       "      <td>False</td>\n",
       "      <td>38180</td>\n",
       "      <td>NaN</td>\n",
       "      <td>NaN</td>\n",
       "      <td>NaN</td>\n",
       "      <td>False</td>\n",
       "      <td>atlassian.net</td>\n",
       "      <td>Information Technology</td>\n",
       "    </tr>\n",
       "  </tbody>\n",
       "</table>\n",
       "</div>"
      ],
      "text/plain": [
       "                   server_t country schedule_name                url    dns  \\\n",
       "0  2017-01-01T00:03:55.797Z      UA  alexa-global        4shared.com  False   \n",
       "1  2017-01-01T00:03:55.797Z      UA  alexa-global          quora.com     -2   \n",
       "2  2017-01-01T00:03:55.797Z      UA  alexa-global  stackexchange.com     -2   \n",
       "3  2017-01-01T00:03:55.797Z      UA  alexa-global       whatsapp.com     -2   \n",
       "4  2017-01-01T00:03:55.797Z      UA  alexa-global      atlassian.net     -2   \n",
       "\n",
       "        dns_reason dns_all dns_reason_all http_status  block body_len  \\\n",
       "0           sameip   False            NaN         200  False    89694   \n",
       "1  no_control_resp   False            NaN         200  False    99907   \n",
       "2  no_control_resp   False            NaN         200  False    83096   \n",
       "3  no_control_resp   False            NaN         200  False    32799   \n",
       "4  no_control_resp   False            NaN         200  False    38180   \n",
       "\n",
       "  http_reason packet_updated packet_reason  censored_updated  \\\n",
       "0         NaN            NaN           NaN             False   \n",
       "1         NaN            NaN           NaN             False   \n",
       "2         NaN            NaN           NaN             False   \n",
       "3         NaN            NaN           NaN             False   \n",
       "4         NaN            NaN           NaN             False   \n",
       "\n",
       "                site                  category  \n",
       "0        4shared.com  File Sharing and Storage  \n",
       "1          quora.com                 Reference  \n",
       "2  stackexchange.com    Information Technology  \n",
       "3       whatsapp.com         Instant Messaging  \n",
       "4      atlassian.net    Information Technology  "
      ]
     },
     "execution_count": 11,
     "metadata": {},
     "output_type": "execute_result"
    }
   ],
   "source": [
    "iclabcombined['category'] = iclabcombined['category'].fillna(0)\n",
    "iclabcombined['category']=iclabcombined['category'].replace(0,'Undefined')\n",
    "iclabcombined.head()"
   ]
  },
  {
   "cell_type": "code",
   "execution_count": null,
   "metadata": {},
   "outputs": [],
   "source": []
  },
  {
   "cell_type": "markdown",
   "metadata": {},
   "source": [
    "Now we're going to save this to CSV. This allows us to save time and memory."
   ]
  },
  {
   "cell_type": "code",
   "execution_count": 12,
   "metadata": {},
   "outputs": [],
   "source": [
    "iclabcombined.to_csv('../data/iclab_cleaned_data/iclab-cleaned.csv')"
   ]
  },
  {
   "cell_type": "markdown",
   "metadata": {
    "colab_type": "text",
    "id": "nHfBC3U_JQzy"
   },
   "source": [
    "## Adding missing Fortiguard categories\n",
    "Unfortunately, not all Fortiguard categories come shipped with ICLab. We have to augment this list, adding to it by scraping Fortiguard ourselves.\n",
    "\n",
    "I recommend restarting your Jupyter kernel now. That will clear your memory out. Then you can load this file again and do the remaining data cleaning steps.\n",
    "\n",
    "You could beenfit from access to our Fortiguard database to replicate this step. Please contact the research team if you would like to request access.  However, access is not absolutely required. See `config.example.py` for an example on how to point to your Postgres instance. Then use `create-tables.py` to set up your Postgres database to take this format. You can use this code to create your own cache of Fortiguard categories without access to our database."
   ]
  },
  {
   "cell_type": "code",
   "execution_count": 5,
   "metadata": {},
   "outputs": [
    {
     "name": "stderr",
     "output_type": "stream",
     "text": [
      "/home/ffff/.local/lib/python3.6/site-packages/IPython/core/interactiveshell.py:2785: DtypeWarning: Columns (5,6,10) have mixed types.Specify dtype option on import or set low_memory=False.\n",
      "  interactivity=interactivity, compiler=compiler, result=result)\n"
     ]
    }
   ],
   "source": [
    "iclabcombined = pd.read_csv('../data/iclab_cleaned_data/iclab-cleaned.csv').drop(columns=[\"Unnamed: 0\"])"
   ]
  },
  {
   "cell_type": "code",
   "execution_count": 6,
   "metadata": {
    "colab": {
     "base_uri": "https://localhost:8080/",
     "height": 35
    },
    "colab_type": "code",
    "id": "7Lg4gdjZJQzo",
    "outputId": "4a75b584-85bc-4004-9a6b-5f8cef071562"
   },
   "outputs": [
    {
     "name": "stdout",
     "output_type": "stream",
     "text": [
      "The number of observations in our original data set are 50436846 and the number of features/columns are 17 \n"
     ]
    }
   ],
   "source": [
    "print(\"The number of observations in our original data set are {0} and the number of features/columns are {1} \".format(iclabcombined.shape[0],iclabcombined.shape[1]))"
   ]
  },
  {
   "cell_type": "code",
   "execution_count": 14,
   "metadata": {},
   "outputs": [
    {
     "name": "stdout",
     "output_type": "stream",
     "text": [
      "232348 sites are blocked, or 0.4606711529900185% of the dataset\n"
     ]
    }
   ],
   "source": [
    "blocked_sites_indices =  get_blocked_sites_indices(iclabcombined)\n",
    "\n",
    "print(\"{0} sites are blocked, or {1}% of the dataset\".format(\n",
    "    len(iclabcombined[blocked_sites_indices]), \n",
    "    (len(blocked_sites[blocked_sites_indices])/len(iclabcombined))*100\n",
    "))"
   ]
  },
  {
   "cell_type": "code",
   "execution_count": 15,
   "metadata": {},
   "outputs": [],
   "source": [
    "import requests \n",
    "from time import sleep\n",
    "from bs4 import BeautifulSoup\n",
    "from typing import Optional\n",
    "\n",
    "from config import config\n",
    "\n",
    "# # Find Fortiguard categories\n",
    "#\n",
    "# We now want to get the Fortiguard categories for all the URLs. This tells us\n",
    "# (very roughly) what the websites are \"about.\"\n",
    "\n",
    "def query_fortiguard_category (url) -> str:\n",
    "    html_doc = requests.get('https://fortiguard.com/webfilter?q={!s}'.format(url)).text\n",
    "    soup = BeautifulSoup(html_doc, 'html.parser')\n",
    "    return soup.h4.get_text().split(': ')[1]\n",
    "\n",
    "def lookup_category (cursor, url) -> str:\n",
    "    cursor.execute(\"SELECT fortiguard_category FROM fortiguard_categories WHERE url='{!s}'\".format(url))\n",
    "    return cursor.fetchone()[0]\n",
    "\n",
    "def get_fortiguard_category (cursor, url) -> Optional[str]:\n",
    "    '''Get the Fortiguard category for a given URL. We'll check our database\n",
    "    first. If we can't find the category there, we will scrape Fortiguard's\n",
    "    webpage to get the category. '''\n",
    "    # try to retrieve the category from the database\n",
    "    try:\n",
    "        category = lookup_category(cursor, url)\n",
    "        return category\n",
    "    # if we can't find it,\n",
    "    except TypeError:\n",
    "#         print('querying', url)\n",
    "        try:\n",
    "            # sleep so as to not overwhelm the endpoint\n",
    "            sleep(config['sleep-times']['fortiguard'])\n",
    "            # now query it\n",
    "            category = query_fortiguard_category(url)\n",
    "            # add url/cateogry mapping to database\n",
    "            insert_fortiguard_category(cur, url, category)\n",
    "            conn.commit()\n",
    "            # return the category\n",
    "            return category\n",
    "        # if there's some other error,\n",
    "        except:\n",
    "            # return None\n",
    "            return None\n",
    "\n",
    "## Database stuff\n",
    "\n",
    "def insert_fortiguard_category (cursor, url, category):\n",
    "    cursor.execute(\"\"\"\n",
    "    INSERT INTO fortiguard_categories\n",
    "    (url, fortiguard_category)\n",
    "    VALUES\n",
    "    (%s, %s)\n",
    "    \"\"\", (\n",
    "        url,\n",
    "        category,\n",
    "    ))\n"
   ]
  },
  {
   "cell_type": "code",
   "execution_count": 39,
   "metadata": {},
   "outputs": [
    {
     "name": "stdout",
     "output_type": "stream",
     "text": [
      "Made connection to the database:\n",
      "Made database cursor.\n"
     ]
    }
   ],
   "source": [
    "import psycopg2\n",
    "\n",
    "conn = psycopg2.connect(**config['postgres'])\n",
    "print(\"Made connection to the database:\")\n",
    "cur = conn.cursor()\n",
    "print(\"Made database cursor.\")"
   ]
  },
  {
   "cell_type": "code",
   "execution_count": 36,
   "metadata": {},
   "outputs": [
    {
     "data": {
      "text/plain": [
       "(23, 'blocked websites with no known category')"
      ]
     },
     "execution_count": 36,
     "metadata": {},
     "output_type": "execute_result"
    }
   ],
   "source": [
    "undefined_sites_indices = iclabcombined['category']=='Undefined' \n",
    "# undefined_sites = undefined_sites[undefined_sites==True]\n",
    "# len(undefined_sites) #/ len(iclabcombined)\n",
    "blocked_and_undefined_category =  iclabcombined[(undefined_sites_indices & blocked_sites_indices)]\n",
    "num_to_process = len(blocked_and_undefined_category)\n",
    "num_to_process, \"blocked websites with no known category\""
   ]
  },
  {
   "cell_type": "code",
   "execution_count": 40,
   "metadata": {},
   "outputs": [],
   "source": [
    "records_processed = 1\n",
    "csv_out_path = '../data/iclab_cleaned_data/iclab-cleaned-fortiguard.csv'\n",
    "\n",
    "for i, _ in blocked_and_undefined_category.iterrows():\n",
    "    if records_processed % 1000 == 0:\n",
    "        percent_done = (records_processed / num_to_process)*100\n",
    "        print('{0}% done'.format(percent_do))\n",
    "    record = iclabcombined.iloc[i]\n",
    "    site = record['site']\n",
    "    # check db to see if we've dl'd category\n",
    "    # if not, scrape fortiguard for website & add category to db\n",
    "    category = get_fortiguard_category(cur, site)\n",
    "    # if we found a category, update it in iclabcombined\n",
    "    if category:\n",
    "        iclabcombined.at[i, 'category'] = category\n",
    "    else:\n",
    "        print(i, 'Some issue scraping category for', site)\n",
    "    # every few thousand items we scrape, we save\n",
    "    if records_processed % 5000 == 0:\n",
    "        print(records_processed, 'saving notebook')\n",
    "        iclabcombined.to_csv(csv_out_path)\n",
    "    records_processed+=1\n",
    "\n",
    "# save after everything a well        \n",
    "iclabcombined.to_csv(csv_out_path)"
   ]
  },
  {
   "cell_type": "code",
   "execution_count": 41,
   "metadata": {},
   "outputs": [],
   "source": [
    "conn.close()\n",
    "cur.close()"
   ]
  },
  {
   "cell_type": "markdown",
   "metadata": {
    "colab_type": "text",
    "id": "1fINWfo6JQ0b"
   },
   "source": [
    "# Section 2.  Running experiments\n",
    "\n",
    "In this section, we walk through the metrics with which we experimented in our paper.\n",
    "\n",
    "At the end of this section, we produce `data/MetricDF.csv`, which contains all of our final metrics and associated data.\n",
    "\n",
    "If you have NOT run Section 1, above, you'll need to [download iclab-clean-fortiguard.csv here](https://berkeley.box.com/s/je4ld219m7somvqmb9bqu2v7z3il3n48)."
   ]
  },
  {
   "cell_type": "code",
   "execution_count": 3,
   "metadata": {
    "colab": {},
    "colab_type": "code",
    "id": "cDReGC87JQ0X"
   },
   "outputs": [
    {
     "name": "stderr",
     "output_type": "stream",
     "text": [
      "/home/ffff/.local/lib/python3.6/site-packages/IPython/core/interactiveshell.py:2785: DtypeWarning: Columns (5,6,10) have mixed types.Specify dtype option on import or set low_memory=False.\n",
      "  interactivity=interactivity, compiler=compiler, result=result)\n"
     ]
    }
   ],
   "source": [
    "# WARNING - this is a pretty big file, and will prdouce some memory pessure\n",
    "iclabCLEAN = pd.read_csv('../data/iclab_cleaned_data/iclab-cleaned-fortiguard.csv').drop(columns=[\"Unnamed: 0\"])"
   ]
  },
  {
   "cell_type": "code",
   "execution_count": 4,
   "metadata": {},
   "outputs": [],
   "source": [
    "blocked_indices = get_blocked_sites_indices(iclabCLEAN)\n",
    "\n",
    "def blocked_in (cc2) -> set:\n",
    "    '''Get websites blocked in country by Country Code alpha 2'''\n",
    "    return set(iclabCLEAN[(iclabCLEAN['country']==cc2) & (blocked_indices)]['url'])"
   ]
  },
  {
   "cell_type": "markdown",
   "metadata": {},
   "source": [
    "## Dropping false positives\n",
    "\n",
    "Since the US and NL don't 't have any blocked websites (net neturality laws + no censorship), we'll assume these URLs represent false positives throughout the dataset.\n",
    "\n",
    "Whenever these URLs appear as blocked in the dataset, we'll drop them from the blocked indices, effectively ignoring them in future analysis.\n",
    "\n",
    "UPDATE: We don't do this anymore."
   ]
  },
  {
   "cell_type": "code",
   "execution_count": 26,
   "metadata": {},
   "outputs": [],
   "source": [
    "# # what's 'blocked' in canada but not in the US?\n",
    "# blocked_in('CA').difference(blocked_in('US'))\n",
    "# sears.com redirects to sears.ca"
   ]
  },
  {
   "cell_type": "code",
   "execution_count": 27,
   "metadata": {},
   "outputs": [],
   "source": [
    "# false_positives = blocked_in('US').union(blocked_in('NL'))\n",
    "# num_to_clean = len(false_positives)\n",
    "# num_to_clean"
   ]
  },
  {
   "cell_type": "code",
   "execution_count": 28,
   "metadata": {},
   "outputs": [],
   "source": [
    "# len(blocked_indices)"
   ]
  },
  {
   "cell_type": "code",
   "execution_count": 189,
   "metadata": {},
   "outputs": [],
   "source": [
    "# blocked_subset = iclabCLEAN[(blocked_indices)]"
   ]
  },
  {
   "cell_type": "code",
   "execution_count": 190,
   "metadata": {
    "scrolled": true
   },
   "outputs": [],
   "source": [
    "# indices_to_drop = []\n",
    "# for url in false_positives:\n",
    "#     matches = blocked_subset[blocked_subset['url']==url]\n",
    "#     indices_to_drop.append(matches.index)"
   ]
  },
  {
   "cell_type": "code",
   "execution_count": 29,
   "metadata": {},
   "outputs": [],
   "source": [
    "# def flatten (lst):\n",
    "#     return [item for sublist in lst for item in sublist]\n",
    "    \n",
    "# indices_to_drop = flatten([i.tolist() for i in indices_to_drop])\n",
    "# for i in indices_to_drop:\n",
    "#     # change from True to False\n",
    "#     blocked_indices.at[i] = False"
   ]
  },
  {
   "cell_type": "markdown",
   "metadata": {
    "colab_type": "text",
    "id": "CHmStC83RD53"
   },
   "source": [
    "## Experiment 1: Exact URL blocking"
   ]
  },
  {
   "cell_type": "code",
   "execution_count": 30,
   "metadata": {
    "colab": {},
    "colab_type": "code",
    "id": "xo4biKFxJQ0c"
   },
   "outputs": [
    {
     "data": {
      "text/plain": [
       "121"
      ]
     },
     "execution_count": 30,
     "metadata": {},
     "output_type": "execute_result"
    }
   ],
   "source": [
    "blockpageTR = blocked_in('TR')\n",
    "len(blockpageTR)"
   ]
  },
  {
   "cell_type": "code",
   "execution_count": 31,
   "metadata": {
    "colab": {},
    "colab_type": "code",
    "id": "_LDEBA4bJQ0d"
   },
   "outputs": [
    {
     "data": {
      "text/plain": [
       "340"
      ]
     },
     "execution_count": 31,
     "metadata": {},
     "output_type": "execute_result"
    }
   ],
   "source": [
    "blockpageRU = blocked_in('RU')\n",
    "len(blockpageRU)"
   ]
  },
  {
   "cell_type": "code",
   "execution_count": 33,
   "metadata": {
    "colab": {},
    "colab_type": "code",
    "id": "ETgi7L2uJQ0f"
   },
   "outputs": [
    {
     "data": {
      "text/plain": [
       "23"
      ]
     },
     "execution_count": 33,
     "metadata": {},
     "output_type": "execute_result"
    }
   ],
   "source": [
    "len(blockpageTR.intersection(blockpageRU))"
   ]
  },
  {
   "cell_type": "markdown",
   "metadata": {
    "colab_type": "text",
    "id": "Z-Iix1x_JQ0i"
   },
   "source": [
    "## Experiment 2: Fuzzy blocking"
   ]
  },
  {
   "cell_type": "markdown",
   "metadata": {
    "colab_type": "text",
    "id": "ar_uOb9zJQ08"
   },
   "source": [
    "As part of Experiment 2 : \n",
    "(a) A look at censored FB Pages in India"
   ]
  },
  {
   "cell_type": "markdown",
   "metadata": {
    "colab_type": "text",
    "id": "v3qpfma3JQ08"
   },
   "source": [
    "Looking at worldwide distribution of FB blocking"
   ]
  },
  {
   "cell_type": "markdown",
   "metadata": {
    "colab_type": "text",
    "id": "9ErdMJwtJQ1B"
   },
   "source": [
    "A look into religious censorship in the world"
   ]
  },
  {
   "cell_type": "code",
   "execution_count": 34,
   "metadata": {
    "colab": {},
    "colab_type": "code",
    "id": "Ola8uwaFJQ1B"
   },
   "outputs": [
    {
     "data": {
      "text/html": [
       "<div>\n",
       "<style scoped>\n",
       "    .dataframe tbody tr th:only-of-type {\n",
       "        vertical-align: middle;\n",
       "    }\n",
       "\n",
       "    .dataframe tbody tr th {\n",
       "        vertical-align: top;\n",
       "    }\n",
       "\n",
       "    .dataframe thead th {\n",
       "        text-align: right;\n",
       "    }\n",
       "</style>\n",
       "<table border=\"1\" class=\"dataframe\">\n",
       "  <thead>\n",
       "    <tr style=\"text-align: right;\">\n",
       "      <th></th>\n",
       "      <th></th>\n",
       "      <th>server_t</th>\n",
       "      <th>schedule_name</th>\n",
       "      <th>url</th>\n",
       "      <th>dns</th>\n",
       "      <th>dns_reason</th>\n",
       "      <th>dns_all</th>\n",
       "      <th>dns_reason_all</th>\n",
       "      <th>http_status</th>\n",
       "      <th>block</th>\n",
       "      <th>body_len</th>\n",
       "      <th>http_reason</th>\n",
       "      <th>packet_updated</th>\n",
       "      <th>packet_reason</th>\n",
       "      <th>censored_updated</th>\n",
       "      <th>category</th>\n",
       "    </tr>\n",
       "    <tr>\n",
       "      <th>country</th>\n",
       "      <th>site</th>\n",
       "      <th></th>\n",
       "      <th></th>\n",
       "      <th></th>\n",
       "      <th></th>\n",
       "      <th></th>\n",
       "      <th></th>\n",
       "      <th></th>\n",
       "      <th></th>\n",
       "      <th></th>\n",
       "      <th></th>\n",
       "      <th></th>\n",
       "      <th></th>\n",
       "      <th></th>\n",
       "      <th></th>\n",
       "      <th></th>\n",
       "    </tr>\n",
       "  </thead>\n",
       "  <tbody>\n",
       "    <tr>\n",
       "      <th rowspan=\"2\" valign=\"top\">AU</th>\n",
       "      <th>atheists.org</th>\n",
       "      <td>2017-05-13T05:26:59.337Z</td>\n",
       "      <td>citizenlab-global</td>\n",
       "      <td>http://www.atheists.org/</td>\n",
       "      <td>NaN</td>\n",
       "      <td>NaN</td>\n",
       "      <td>NaN</td>\n",
       "      <td>NaN</td>\n",
       "      <td>403.0</td>\n",
       "      <td>False</td>\n",
       "      <td>3293.0</td>\n",
       "      <td>{}</td>\n",
       "      <td>True</td>\n",
       "      <td>Data after RST</td>\n",
       "      <td>True</td>\n",
       "      <td>Global Religion</td>\n",
       "    </tr>\n",
       "    <tr>\n",
       "      <th>goarch.org</th>\n",
       "      <td>2017-07-15T20:13:06.090Z</td>\n",
       "      <td>citizenlab-global</td>\n",
       "      <td>http://www.goarch.org/</td>\n",
       "      <td>False</td>\n",
       "      <td>sameas</td>\n",
       "      <td>False</td>\n",
       "      <td>NaN</td>\n",
       "      <td>200.0</td>\n",
       "      <td>False</td>\n",
       "      <td>106762.0</td>\n",
       "      <td>{}</td>\n",
       "      <td>True</td>\n",
       "      <td>Data after RST</td>\n",
       "      <td>True</td>\n",
       "      <td>Global Religion</td>\n",
       "    </tr>\n",
       "    <tr>\n",
       "      <th>BG</th>\n",
       "      <th>buddhanet.net</th>\n",
       "      <td>2017-02-09T04:41:30.879Z</td>\n",
       "      <td>citizenlab-global</td>\n",
       "      <td>http://www.buddhanet.net</td>\n",
       "      <td>False</td>\n",
       "      <td>sameip</td>\n",
       "      <td>False</td>\n",
       "      <td>NaN</td>\n",
       "      <td>200.0</td>\n",
       "      <td>False</td>\n",
       "      <td>29280.0</td>\n",
       "      <td>{}</td>\n",
       "      <td>True</td>\n",
       "      <td>Data after RST</td>\n",
       "      <td>True</td>\n",
       "      <td>Global Religion</td>\n",
       "    </tr>\n",
       "    <tr>\n",
       "      <th>BR</th>\n",
       "      <th>jesussaves.cc</th>\n",
       "      <td>2017-03-25T11:35:12.374Z</td>\n",
       "      <td>citizenlab-global</td>\n",
       "      <td>http://www.jesussaves.cc/</td>\n",
       "      <td>True</td>\n",
       "      <td>ip_in_other_regions</td>\n",
       "      <td>True</td>\n",
       "      <td>ip_in_other_regions</td>\n",
       "      <td>-1.0</td>\n",
       "      <td>False</td>\n",
       "      <td>0.0</td>\n",
       "      <td>{}</td>\n",
       "      <td>NaN</td>\n",
       "      <td>NaN</td>\n",
       "      <td>True</td>\n",
       "      <td>Global Religion</td>\n",
       "    </tr>\n",
       "    <tr>\n",
       "      <th>BZ</th>\n",
       "      <th>buddhanet.net</th>\n",
       "      <td>2017-01-03T00:00:42.387Z</td>\n",
       "      <td>citizenlab-global</td>\n",
       "      <td>http://www.buddhanet.net</td>\n",
       "      <td>False</td>\n",
       "      <td>sameip</td>\n",
       "      <td>False</td>\n",
       "      <td>NaN</td>\n",
       "      <td>200.0</td>\n",
       "      <td>False</td>\n",
       "      <td>29280.0</td>\n",
       "      <td>NaN</td>\n",
       "      <td>True</td>\n",
       "      <td>Data after RST</td>\n",
       "      <td>True</td>\n",
       "      <td>Global Religion</td>\n",
       "    </tr>\n",
       "    <tr>\n",
       "      <th>...</th>\n",
       "      <th>...</th>\n",
       "      <td>...</td>\n",
       "      <td>...</td>\n",
       "      <td>...</td>\n",
       "      <td>...</td>\n",
       "      <td>...</td>\n",
       "      <td>...</td>\n",
       "      <td>...</td>\n",
       "      <td>...</td>\n",
       "      <td>...</td>\n",
       "      <td>...</td>\n",
       "      <td>...</td>\n",
       "      <td>...</td>\n",
       "      <td>...</td>\n",
       "      <td>...</td>\n",
       "      <td>...</td>\n",
       "    </tr>\n",
       "    <tr>\n",
       "      <th rowspan=\"4\" valign=\"top\">US</th>\n",
       "      <th>christianitytoday.com</th>\n",
       "      <td>2017-01-10T05:30:29.086Z</td>\n",
       "      <td>citizenlab-global</td>\n",
       "      <td>http://www.christianitytoday.com</td>\n",
       "      <td>False</td>\n",
       "      <td>sameip</td>\n",
       "      <td>False</td>\n",
       "      <td>NaN</td>\n",
       "      <td>-1.0</td>\n",
       "      <td>False</td>\n",
       "      <td>0.0</td>\n",
       "      <td>{}</td>\n",
       "      <td>True</td>\n",
       "      <td>Data after RST</td>\n",
       "      <td>True</td>\n",
       "      <td>Global Religion</td>\n",
       "    </tr>\n",
       "    <tr>\n",
       "      <th>jesussaves.cc</th>\n",
       "      <td>2017-03-25T01:58:48.819Z</td>\n",
       "      <td>citizenlab-global</td>\n",
       "      <td>http://www.jesussaves.cc/</td>\n",
       "      <td>False</td>\n",
       "      <td>ip_in_other_regions</td>\n",
       "      <td>True</td>\n",
       "      <td>ip_in_other_regions</td>\n",
       "      <td>200.0</td>\n",
       "      <td>False</td>\n",
       "      <td>53316.0</td>\n",
       "      <td>{}</td>\n",
       "      <td>NaN</td>\n",
       "      <td>NaN</td>\n",
       "      <td>True</td>\n",
       "      <td>Global Religion</td>\n",
       "    </tr>\n",
       "    <tr>\n",
       "      <th>pcusa.org</th>\n",
       "      <td>2017-01-16T19:12:09.571Z</td>\n",
       "      <td>citizenlab-global</td>\n",
       "      <td>http://www.pcusa.org</td>\n",
       "      <td>False</td>\n",
       "      <td>sameip</td>\n",
       "      <td>False</td>\n",
       "      <td>NaN</td>\n",
       "      <td>200.0</td>\n",
       "      <td>False</td>\n",
       "      <td>33796.0</td>\n",
       "      <td>NaN</td>\n",
       "      <td>True</td>\n",
       "      <td>Data after RST</td>\n",
       "      <td>True</td>\n",
       "      <td>Global Religion</td>\n",
       "    </tr>\n",
       "    <tr>\n",
       "      <th>wcicc.org</th>\n",
       "      <td>2018-02-20T17:12:15.660Z</td>\n",
       "      <td>citizenlab-global</td>\n",
       "      <td>http://www.wcicc.org/</td>\n",
       "      <td>NaN</td>\n",
       "      <td>NaN</td>\n",
       "      <td>-2</td>\n",
       "      <td>no_control_node</td>\n",
       "      <td>-1.0</td>\n",
       "      <td>False</td>\n",
       "      <td>0.0</td>\n",
       "      <td>{}</td>\n",
       "      <td>True</td>\n",
       "      <td>ICMP admin prohibition</td>\n",
       "      <td>True</td>\n",
       "      <td>Global Religion</td>\n",
       "    </tr>\n",
       "    <tr>\n",
       "      <th>VN</th>\n",
       "      <th>buddhanet.net</th>\n",
       "      <td>2017-01-17T00:49:22.933Z</td>\n",
       "      <td>citizenlab-global</td>\n",
       "      <td>http://www.buddhanet.net</td>\n",
       "      <td>False</td>\n",
       "      <td>sameip</td>\n",
       "      <td>False</td>\n",
       "      <td>NaN</td>\n",
       "      <td>-1.0</td>\n",
       "      <td>False</td>\n",
       "      <td>0.0</td>\n",
       "      <td>{}</td>\n",
       "      <td>True</td>\n",
       "      <td>Data after RST</td>\n",
       "      <td>True</td>\n",
       "      <td>Global Religion</td>\n",
       "    </tr>\n",
       "  </tbody>\n",
       "</table>\n",
       "<p>93 rows × 15 columns</p>\n",
       "</div>"
      ],
      "text/plain": [
       "                                               server_t      schedule_name  \\\n",
       "country site                                                                 \n",
       "AU      atheists.org           2017-05-13T05:26:59.337Z  citizenlab-global   \n",
       "        goarch.org             2017-07-15T20:13:06.090Z  citizenlab-global   \n",
       "BG      buddhanet.net          2017-02-09T04:41:30.879Z  citizenlab-global   \n",
       "BR      jesussaves.cc          2017-03-25T11:35:12.374Z  citizenlab-global   \n",
       "BZ      buddhanet.net          2017-01-03T00:00:42.387Z  citizenlab-global   \n",
       "...                                                 ...                ...   \n",
       "US      christianitytoday.com  2017-01-10T05:30:29.086Z  citizenlab-global   \n",
       "        jesussaves.cc          2017-03-25T01:58:48.819Z  citizenlab-global   \n",
       "        pcusa.org              2017-01-16T19:12:09.571Z  citizenlab-global   \n",
       "        wcicc.org              2018-02-20T17:12:15.660Z  citizenlab-global   \n",
       "VN      buddhanet.net          2017-01-17T00:49:22.933Z  citizenlab-global   \n",
       "\n",
       "                                                            url    dns  \\\n",
       "country site                                                             \n",
       "AU      atheists.org                   http://www.atheists.org/    NaN   \n",
       "        goarch.org                       http://www.goarch.org/  False   \n",
       "BG      buddhanet.net                  http://www.buddhanet.net  False   \n",
       "BR      jesussaves.cc                 http://www.jesussaves.cc/   True   \n",
       "BZ      buddhanet.net                  http://www.buddhanet.net  False   \n",
       "...                                                         ...    ...   \n",
       "US      christianitytoday.com  http://www.christianitytoday.com  False   \n",
       "        jesussaves.cc                 http://www.jesussaves.cc/  False   \n",
       "        pcusa.org                          http://www.pcusa.org  False   \n",
       "        wcicc.org                         http://www.wcicc.org/    NaN   \n",
       "VN      buddhanet.net                  http://www.buddhanet.net  False   \n",
       "\n",
       "                                        dns_reason dns_all  \\\n",
       "country site                                                 \n",
       "AU      atheists.org                           NaN     NaN   \n",
       "        goarch.org                          sameas   False   \n",
       "BG      buddhanet.net                       sameip   False   \n",
       "BR      jesussaves.cc          ip_in_other_regions    True   \n",
       "BZ      buddhanet.net                       sameip   False   \n",
       "...                                            ...     ...   \n",
       "US      christianitytoday.com               sameip   False   \n",
       "        jesussaves.cc          ip_in_other_regions    True   \n",
       "        pcusa.org                           sameip   False   \n",
       "        wcicc.org                              NaN      -2   \n",
       "VN      buddhanet.net                       sameip   False   \n",
       "\n",
       "                                    dns_reason_all  http_status  block  \\\n",
       "country site                                                             \n",
       "AU      atheists.org                           NaN        403.0  False   \n",
       "        goarch.org                             NaN        200.0  False   \n",
       "BG      buddhanet.net                          NaN        200.0  False   \n",
       "BR      jesussaves.cc          ip_in_other_regions         -1.0  False   \n",
       "BZ      buddhanet.net                          NaN        200.0  False   \n",
       "...                                            ...          ...    ...   \n",
       "US      christianitytoday.com                  NaN         -1.0  False   \n",
       "        jesussaves.cc          ip_in_other_regions        200.0  False   \n",
       "        pcusa.org                              NaN        200.0  False   \n",
       "        wcicc.org                  no_control_node         -1.0  False   \n",
       "VN      buddhanet.net                          NaN         -1.0  False   \n",
       "\n",
       "                               body_len http_reason packet_updated  \\\n",
       "country site                                                         \n",
       "AU      atheists.org             3293.0          {}           True   \n",
       "        goarch.org             106762.0          {}           True   \n",
       "BG      buddhanet.net           29280.0          {}           True   \n",
       "BR      jesussaves.cc               0.0          {}            NaN   \n",
       "BZ      buddhanet.net           29280.0         NaN           True   \n",
       "...                                 ...         ...            ...   \n",
       "US      christianitytoday.com       0.0          {}           True   \n",
       "        jesussaves.cc           53316.0          {}            NaN   \n",
       "        pcusa.org               33796.0         NaN           True   \n",
       "        wcicc.org                   0.0          {}           True   \n",
       "VN      buddhanet.net               0.0          {}           True   \n",
       "\n",
       "                                        packet_reason  censored_updated  \\\n",
       "country site                                                              \n",
       "AU      atheists.org                   Data after RST              True   \n",
       "        goarch.org                     Data after RST              True   \n",
       "BG      buddhanet.net                  Data after RST              True   \n",
       "BR      jesussaves.cc                             NaN              True   \n",
       "BZ      buddhanet.net                  Data after RST              True   \n",
       "...                                               ...               ...   \n",
       "US      christianitytoday.com          Data after RST              True   \n",
       "        jesussaves.cc                             NaN              True   \n",
       "        pcusa.org                      Data after RST              True   \n",
       "        wcicc.org              ICMP admin prohibition              True   \n",
       "VN      buddhanet.net                  Data after RST              True   \n",
       "\n",
       "                                      category  \n",
       "country site                                    \n",
       "AU      atheists.org           Global Religion  \n",
       "        goarch.org             Global Religion  \n",
       "BG      buddhanet.net          Global Religion  \n",
       "BR      jesussaves.cc          Global Religion  \n",
       "BZ      buddhanet.net          Global Religion  \n",
       "...                                        ...  \n",
       "US      christianitytoday.com  Global Religion  \n",
       "        jesussaves.cc          Global Religion  \n",
       "        pcusa.org              Global Religion  \n",
       "        wcicc.org              Global Religion  \n",
       "VN      buddhanet.net          Global Religion  \n",
       "\n",
       "[93 rows x 15 columns]"
      ]
     },
     "execution_count": 34,
     "metadata": {},
     "output_type": "execute_result"
    }
   ],
   "source": [
    "iclabCLEAN[ (iclabCLEAN['category'].isin(['Global Religion','Alternative Beliefs'])) & \n",
    "           (blocked_indices) ].groupby(['country', 'site']).first()"
   ]
  },
  {
   "cell_type": "markdown",
   "metadata": {
    "colab_type": "text",
    "id": "U0IUy6TCJQ1D"
   },
   "source": [
    "## Experiment 3: Blocking by content category (our final metric)\n"
   ]
  },
  {
   "cell_type": "code",
   "execution_count": 29,
   "metadata": {
    "colab": {},
    "colab_type": "code",
    "id": "LwZjRHH1JQ1D"
   },
   "outputs": [],
   "source": [
    "def Category_contributions(cc):\n",
    "    '''\n",
    "    Computes contribution of each category in a countries blocked sites*\n",
    "    '''\n",
    "    catDataCC = iclabCLEAN[(iclabCLEAN['country']==cc) & (blocked_indices) ]\n",
    "    catDataCC= catDataCC.drop(['server_t', 'censored_updated','site','dns_all','packet_reason','url','dns','dns_reason','dns_reason_all','schedule_name','http_status','block','body_len','http_reason','packet_updated'], axis=1)\n",
    "    catDataCC = catDataCC.groupby('category').count()\n",
    "    catDataCC['%Cat'] = (catDataCC['country']*100)/(catDataCC['country'].sum())\n",
    "    catDataCC= catDataCC.reset_index().drop('country',axis=1)\n",
    "    catDataCC= catDataCC.rename(columns={'country':'Number of sites in' + str(cc),'%Cat':cc})\n",
    "    return catDataCC"
   ]
  },
  {
   "cell_type": "code",
   "execution_count": 30,
   "metadata": {
    "colab": {},
    "colab_type": "code",
    "id": "x7bFbB9DJQ1F"
   },
   "outputs": [
    {
     "data": {
      "text/html": [
       "<div>\n",
       "<style scoped>\n",
       "    .dataframe tbody tr th:only-of-type {\n",
       "        vertical-align: middle;\n",
       "    }\n",
       "\n",
       "    .dataframe tbody tr th {\n",
       "        vertical-align: top;\n",
       "    }\n",
       "\n",
       "    .dataframe thead th {\n",
       "        text-align: right;\n",
       "    }\n",
       "</style>\n",
       "<table border=\"1\" class=\"dataframe\">\n",
       "  <thead>\n",
       "    <tr style=\"text-align: right;\">\n",
       "      <th></th>\n",
       "      <th>category</th>\n",
       "      <th>VN</th>\n",
       "    </tr>\n",
       "  </thead>\n",
       "  <tbody>\n",
       "    <tr>\n",
       "      <th>0</th>\n",
       "      <td>Advocacy Organizations</td>\n",
       "      <td>4.477612</td>\n",
       "    </tr>\n",
       "    <tr>\n",
       "      <th>1</th>\n",
       "      <td>Brokerage and Trading</td>\n",
       "      <td>4.477612</td>\n",
       "    </tr>\n",
       "    <tr>\n",
       "      <th>2</th>\n",
       "      <td>Education</td>\n",
       "      <td>11.940299</td>\n",
       "    </tr>\n",
       "    <tr>\n",
       "      <th>3</th>\n",
       "      <td>Entertainment</td>\n",
       "      <td>4.975124</td>\n",
       "    </tr>\n",
       "    <tr>\n",
       "      <th>4</th>\n",
       "      <td>Games</td>\n",
       "      <td>10.447761</td>\n",
       "    </tr>\n",
       "    <tr>\n",
       "      <th>5</th>\n",
       "      <td>Global Religion</td>\n",
       "      <td>0.995025</td>\n",
       "    </tr>\n",
       "    <tr>\n",
       "      <th>6</th>\n",
       "      <td>Government and Legal Organizations</td>\n",
       "      <td>0.497512</td>\n",
       "    </tr>\n",
       "    <tr>\n",
       "      <th>7</th>\n",
       "      <td>Health and Wellness</td>\n",
       "      <td>5.970149</td>\n",
       "    </tr>\n",
       "    <tr>\n",
       "      <th>8</th>\n",
       "      <td>Illegal or Unethical</td>\n",
       "      <td>1.492537</td>\n",
       "    </tr>\n",
       "    <tr>\n",
       "      <th>9</th>\n",
       "      <td>Internet Telephony</td>\n",
       "      <td>2.985075</td>\n",
       "    </tr>\n",
       "    <tr>\n",
       "      <th>10</th>\n",
       "      <td>Lingerie and Swimsuit</td>\n",
       "      <td>6.965174</td>\n",
       "    </tr>\n",
       "    <tr>\n",
       "      <th>11</th>\n",
       "      <td>News and Media</td>\n",
       "      <td>1.492537</td>\n",
       "    </tr>\n",
       "    <tr>\n",
       "      <th>12</th>\n",
       "      <td>Newsgroups and Message Boards</td>\n",
       "      <td>0.995025</td>\n",
       "    </tr>\n",
       "    <tr>\n",
       "      <th>13</th>\n",
       "      <td>Peer-to-peer File Sharing</td>\n",
       "      <td>11.940299</td>\n",
       "    </tr>\n",
       "    <tr>\n",
       "      <th>14</th>\n",
       "      <td>Pornography</td>\n",
       "      <td>0.995025</td>\n",
       "    </tr>\n",
       "    <tr>\n",
       "      <th>15</th>\n",
       "      <td>Proxy Avoidance</td>\n",
       "      <td>11.940299</td>\n",
       "    </tr>\n",
       "    <tr>\n",
       "      <th>16</th>\n",
       "      <td>Reference</td>\n",
       "      <td>13.930348</td>\n",
       "    </tr>\n",
       "    <tr>\n",
       "      <th>17</th>\n",
       "      <td>Search Engines and Portals</td>\n",
       "      <td>1.990050</td>\n",
       "    </tr>\n",
       "    <tr>\n",
       "      <th>18</th>\n",
       "      <td>Shopping</td>\n",
       "      <td>0.497512</td>\n",
       "    </tr>\n",
       "    <tr>\n",
       "      <th>19</th>\n",
       "      <td>Travel</td>\n",
       "      <td>0.497512</td>\n",
       "    </tr>\n",
       "    <tr>\n",
       "      <th>20</th>\n",
       "      <td>Web-based Email</td>\n",
       "      <td>0.497512</td>\n",
       "    </tr>\n",
       "  </tbody>\n",
       "</table>\n",
       "</div>"
      ],
      "text/plain": [
       "                              category         VN\n",
       "0               Advocacy Organizations   4.477612\n",
       "1                Brokerage and Trading   4.477612\n",
       "2                            Education  11.940299\n",
       "3                        Entertainment   4.975124\n",
       "4                                Games  10.447761\n",
       "5                      Global Religion   0.995025\n",
       "6   Government and Legal Organizations   0.497512\n",
       "7                  Health and Wellness   5.970149\n",
       "8                 Illegal or Unethical   1.492537\n",
       "9                   Internet Telephony   2.985075\n",
       "10               Lingerie and Swimsuit   6.965174\n",
       "11                      News and Media   1.492537\n",
       "12       Newsgroups and Message Boards   0.995025\n",
       "13           Peer-to-peer File Sharing  11.940299\n",
       "14                         Pornography   0.995025\n",
       "15                     Proxy Avoidance  11.940299\n",
       "16                           Reference  13.930348\n",
       "17          Search Engines and Portals   1.990050\n",
       "18                            Shopping   0.497512\n",
       "19                              Travel   0.497512\n",
       "20                     Web-based Email   0.497512"
      ]
     },
     "execution_count": 30,
     "metadata": {},
     "output_type": "execute_result"
    }
   ],
   "source": [
    "# Category_contributions('CA')\n",
    "Category_contributions('VN')"
   ]
  },
  {
   "cell_type": "code",
   "execution_count": 31,
   "metadata": {
    "colab": {},
    "colab_type": "code",
    "id": "x7bFbB9DJQ1F"
   },
   "outputs": [],
   "source": [
    "# Category_contributions('CA')\n",
    "sk = Category_contributions('SK')"
   ]
  },
  {
   "cell_type": "code",
   "execution_count": 32,
   "metadata": {},
   "outputs": [],
   "source": [
    "sa = Category_contributions('SA')"
   ]
  },
  {
   "cell_type": "code",
   "execution_count": 33,
   "metadata": {},
   "outputs": [
    {
     "data": {
      "text/html": [
       "<div>\n",
       "<style scoped>\n",
       "    .dataframe tbody tr th:only-of-type {\n",
       "        vertical-align: middle;\n",
       "    }\n",
       "\n",
       "    .dataframe tbody tr th {\n",
       "        vertical-align: top;\n",
       "    }\n",
       "\n",
       "    .dataframe thead th {\n",
       "        text-align: right;\n",
       "    }\n",
       "</style>\n",
       "<table border=\"1\" class=\"dataframe\">\n",
       "  <thead>\n",
       "    <tr style=\"text-align: right;\">\n",
       "      <th></th>\n",
       "      <th>category</th>\n",
       "      <th>SK</th>\n",
       "      <th>SA</th>\n",
       "    </tr>\n",
       "  </thead>\n",
       "  <tbody>\n",
       "    <tr>\n",
       "      <th>0</th>\n",
       "      <td>Advocacy Organizations</td>\n",
       "      <td>1.636189</td>\n",
       "      <td>0.996966</td>\n",
       "    </tr>\n",
       "    <tr>\n",
       "      <th>1</th>\n",
       "      <td>Business</td>\n",
       "      <td>0.192493</td>\n",
       "      <td>0.332322</td>\n",
       "    </tr>\n",
       "    <tr>\n",
       "      <th>2</th>\n",
       "      <td>Domain Parking</td>\n",
       "      <td>1.154957</td>\n",
       "      <td>0.895824</td>\n",
       "    </tr>\n",
       "    <tr>\n",
       "      <th>3</th>\n",
       "      <td>Education</td>\n",
       "      <td>7.218479</td>\n",
       "      <td>1.343736</td>\n",
       "    </tr>\n",
       "    <tr>\n",
       "      <th>4</th>\n",
       "      <td>Entertainment</td>\n",
       "      <td>10.587103</td>\n",
       "      <td>0.671868</td>\n",
       "    </tr>\n",
       "    <tr>\n",
       "      <th>5</th>\n",
       "      <td>File Sharing and Storage</td>\n",
       "      <td>0.096246</td>\n",
       "      <td>0.679093</td>\n",
       "    </tr>\n",
       "    <tr>\n",
       "      <th>6</th>\n",
       "      <td>Gambling</td>\n",
       "      <td>3.464870</td>\n",
       "      <td>11.038867</td>\n",
       "    </tr>\n",
       "    <tr>\n",
       "      <th>7</th>\n",
       "      <td>Games</td>\n",
       "      <td>10.202117</td>\n",
       "      <td>0.101141</td>\n",
       "    </tr>\n",
       "    <tr>\n",
       "      <th>8</th>\n",
       "      <td>General Organizations</td>\n",
       "      <td>0.288739</td>\n",
       "      <td>2.701922</td>\n",
       "    </tr>\n",
       "    <tr>\n",
       "      <th>9</th>\n",
       "      <td>Global Religion</td>\n",
       "      <td>0.096246</td>\n",
       "      <td>3.063141</td>\n",
       "    </tr>\n",
       "    <tr>\n",
       "      <th>10</th>\n",
       "      <td>Government and Legal Organizations</td>\n",
       "      <td>1.443696</td>\n",
       "      <td>0.050571</td>\n",
       "    </tr>\n",
       "    <tr>\n",
       "      <th>11</th>\n",
       "      <td>Health and Wellness</td>\n",
       "      <td>15.303176</td>\n",
       "      <td>0.332322</td>\n",
       "    </tr>\n",
       "    <tr>\n",
       "      <th>12</th>\n",
       "      <td>Illegal or Unethical</td>\n",
       "      <td>0.288739</td>\n",
       "      <td>2.355151</td>\n",
       "    </tr>\n",
       "    <tr>\n",
       "      <th>13</th>\n",
       "      <td>Information Technology</td>\n",
       "      <td>0.096246</td>\n",
       "      <td>2.398497</td>\n",
       "    </tr>\n",
       "    <tr>\n",
       "      <th>14</th>\n",
       "      <td>Internet Telephony</td>\n",
       "      <td>0.866218</td>\n",
       "      <td>0.332322</td>\n",
       "    </tr>\n",
       "    <tr>\n",
       "      <th>15</th>\n",
       "      <td>Lingerie and Swimsuit</td>\n",
       "      <td>7.410972</td>\n",
       "      <td>3.633868</td>\n",
       "    </tr>\n",
       "    <tr>\n",
       "      <th>16</th>\n",
       "      <td>News and Media</td>\n",
       "      <td>12.415784</td>\n",
       "      <td>10.121370</td>\n",
       "    </tr>\n",
       "    <tr>\n",
       "      <th>17</th>\n",
       "      <td>Newsgroups and Message Boards</td>\n",
       "      <td>2.598653</td>\n",
       "      <td>1.192024</td>\n",
       "    </tr>\n",
       "    <tr>\n",
       "      <th>18</th>\n",
       "      <td>Proxy Avoidance</td>\n",
       "      <td>11.838306</td>\n",
       "      <td>7.982950</td>\n",
       "    </tr>\n",
       "    <tr>\n",
       "      <th>19</th>\n",
       "      <td>Reference</td>\n",
       "      <td>1.732435</td>\n",
       "      <td>0.671868</td>\n",
       "    </tr>\n",
       "    <tr>\n",
       "      <th>20</th>\n",
       "      <td>Search Engines and Portals</td>\n",
       "      <td>0.481232</td>\n",
       "      <td>0.664644</td>\n",
       "    </tr>\n",
       "  </tbody>\n",
       "</table>\n",
       "</div>"
      ],
      "text/plain": [
       "                              category         SK         SA\n",
       "0               Advocacy Organizations   1.636189   0.996966\n",
       "1                             Business   0.192493   0.332322\n",
       "2                       Domain Parking   1.154957   0.895824\n",
       "3                            Education   7.218479   1.343736\n",
       "4                        Entertainment  10.587103   0.671868\n",
       "5             File Sharing and Storage   0.096246   0.679093\n",
       "6                             Gambling   3.464870  11.038867\n",
       "7                                Games  10.202117   0.101141\n",
       "8                General Organizations   0.288739   2.701922\n",
       "9                      Global Religion   0.096246   3.063141\n",
       "10  Government and Legal Organizations   1.443696   0.050571\n",
       "11                 Health and Wellness  15.303176   0.332322\n",
       "12                Illegal or Unethical   0.288739   2.355151\n",
       "13              Information Technology   0.096246   2.398497\n",
       "14                  Internet Telephony   0.866218   0.332322\n",
       "15               Lingerie and Swimsuit   7.410972   3.633868\n",
       "16                      News and Media  12.415784  10.121370\n",
       "17       Newsgroups and Message Boards   2.598653   1.192024\n",
       "18                     Proxy Avoidance  11.838306   7.982950\n",
       "19                           Reference   1.732435   0.671868\n",
       "20          Search Engines and Portals   0.481232   0.664644"
      ]
     },
     "execution_count": 33,
     "metadata": {},
     "output_type": "execute_result"
    }
   ],
   "source": [
    "sk.merge(sa)"
   ]
  },
  {
   "cell_type": "code",
   "execution_count": 34,
   "metadata": {},
   "outputs": [
    {
     "data": {
      "text/html": [
       "<div>\n",
       "<style scoped>\n",
       "    .dataframe tbody tr th:only-of-type {\n",
       "        vertical-align: middle;\n",
       "    }\n",
       "\n",
       "    .dataframe tbody tr th {\n",
       "        vertical-align: top;\n",
       "    }\n",
       "\n",
       "    .dataframe thead th {\n",
       "        text-align: right;\n",
       "    }\n",
       "</style>\n",
       "<table border=\"1\" class=\"dataframe\">\n",
       "  <thead>\n",
       "    <tr style=\"text-align: right;\">\n",
       "      <th></th>\n",
       "      <th>category</th>\n",
       "      <th>CN</th>\n",
       "    </tr>\n",
       "  </thead>\n",
       "  <tbody>\n",
       "    <tr>\n",
       "      <th>0</th>\n",
       "      <td>Advocacy Organizations</td>\n",
       "      <td>3.188880</td>\n",
       "    </tr>\n",
       "    <tr>\n",
       "      <th>1</th>\n",
       "      <td>Brokerage and Trading</td>\n",
       "      <td>1.635323</td>\n",
       "    </tr>\n",
       "    <tr>\n",
       "      <th>2</th>\n",
       "      <td>Business</td>\n",
       "      <td>0.081766</td>\n",
       "    </tr>\n",
       "    <tr>\n",
       "      <th>3</th>\n",
       "      <td>Dating</td>\n",
       "      <td>0.081766</td>\n",
       "    </tr>\n",
       "    <tr>\n",
       "      <th>4</th>\n",
       "      <td>Education</td>\n",
       "      <td>3.515944</td>\n",
       "    </tr>\n",
       "    <tr>\n",
       "      <th>5</th>\n",
       "      <td>Entertainment</td>\n",
       "      <td>1.798855</td>\n",
       "    </tr>\n",
       "    <tr>\n",
       "      <th>6</th>\n",
       "      <td>Finance and Banking</td>\n",
       "      <td>0.081766</td>\n",
       "    </tr>\n",
       "    <tr>\n",
       "      <th>7</th>\n",
       "      <td>Games</td>\n",
       "      <td>2.780049</td>\n",
       "    </tr>\n",
       "    <tr>\n",
       "      <th>8</th>\n",
       "      <td>Global Religion</td>\n",
       "      <td>6.459526</td>\n",
       "    </tr>\n",
       "    <tr>\n",
       "      <th>9</th>\n",
       "      <td>Government and Legal Organizations</td>\n",
       "      <td>0.245298</td>\n",
       "    </tr>\n",
       "    <tr>\n",
       "      <th>10</th>\n",
       "      <td>Health and Wellness</td>\n",
       "      <td>1.717089</td>\n",
       "    </tr>\n",
       "    <tr>\n",
       "      <th>11</th>\n",
       "      <td>Illegal or Unethical</td>\n",
       "      <td>0.163532</td>\n",
       "    </tr>\n",
       "    <tr>\n",
       "      <th>12</th>\n",
       "      <td>Information Technology</td>\n",
       "      <td>0.981194</td>\n",
       "    </tr>\n",
       "    <tr>\n",
       "      <th>13</th>\n",
       "      <td>Internet Telephony</td>\n",
       "      <td>1.062960</td>\n",
       "    </tr>\n",
       "    <tr>\n",
       "      <th>14</th>\n",
       "      <td>Job Search</td>\n",
       "      <td>0.163532</td>\n",
       "    </tr>\n",
       "    <tr>\n",
       "      <th>15</th>\n",
       "      <td>Lingerie and Swimsuit</td>\n",
       "      <td>1.962388</td>\n",
       "    </tr>\n",
       "    <tr>\n",
       "      <th>16</th>\n",
       "      <td>News and Media</td>\n",
       "      <td>57.399836</td>\n",
       "    </tr>\n",
       "    <tr>\n",
       "      <th>17</th>\n",
       "      <td>Newsgroups and Message Boards</td>\n",
       "      <td>1.144726</td>\n",
       "    </tr>\n",
       "    <tr>\n",
       "      <th>18</th>\n",
       "      <td>Peer-to-peer File Sharing</td>\n",
       "      <td>3.597711</td>\n",
       "    </tr>\n",
       "    <tr>\n",
       "      <th>19</th>\n",
       "      <td>Pornography</td>\n",
       "      <td>0.081766</td>\n",
       "    </tr>\n",
       "    <tr>\n",
       "      <th>20</th>\n",
       "      <td>Proxy Avoidance</td>\n",
       "      <td>3.515944</td>\n",
       "    </tr>\n",
       "    <tr>\n",
       "      <th>21</th>\n",
       "      <td>Reference</td>\n",
       "      <td>6.868357</td>\n",
       "    </tr>\n",
       "    <tr>\n",
       "      <th>22</th>\n",
       "      <td>Search Engines and Portals</td>\n",
       "      <td>0.654129</td>\n",
       "    </tr>\n",
       "    <tr>\n",
       "      <th>23</th>\n",
       "      <td>Shopping</td>\n",
       "      <td>0.081766</td>\n",
       "    </tr>\n",
       "    <tr>\n",
       "      <th>24</th>\n",
       "      <td>Social Networking</td>\n",
       "      <td>0.408831</td>\n",
       "    </tr>\n",
       "    <tr>\n",
       "      <th>25</th>\n",
       "      <td>Society and Lifestyles</td>\n",
       "      <td>0.081766</td>\n",
       "    </tr>\n",
       "    <tr>\n",
       "      <th>26</th>\n",
       "      <td>Travel</td>\n",
       "      <td>0.081766</td>\n",
       "    </tr>\n",
       "    <tr>\n",
       "      <th>27</th>\n",
       "      <td>Web Hosting</td>\n",
       "      <td>0.163532</td>\n",
       "    </tr>\n",
       "  </tbody>\n",
       "</table>\n",
       "</div>"
      ],
      "text/plain": [
       "                              category         CN\n",
       "0               Advocacy Organizations   3.188880\n",
       "1                Brokerage and Trading   1.635323\n",
       "2                             Business   0.081766\n",
       "3                               Dating   0.081766\n",
       "4                            Education   3.515944\n",
       "5                        Entertainment   1.798855\n",
       "6                  Finance and Banking   0.081766\n",
       "7                                Games   2.780049\n",
       "8                      Global Religion   6.459526\n",
       "9   Government and Legal Organizations   0.245298\n",
       "10                 Health and Wellness   1.717089\n",
       "11                Illegal or Unethical   0.163532\n",
       "12              Information Technology   0.981194\n",
       "13                  Internet Telephony   1.062960\n",
       "14                          Job Search   0.163532\n",
       "15               Lingerie and Swimsuit   1.962388\n",
       "16                      News and Media  57.399836\n",
       "17       Newsgroups and Message Boards   1.144726\n",
       "18           Peer-to-peer File Sharing   3.597711\n",
       "19                         Pornography   0.081766\n",
       "20                     Proxy Avoidance   3.515944\n",
       "21                           Reference   6.868357\n",
       "22          Search Engines and Portals   0.654129\n",
       "23                            Shopping   0.081766\n",
       "24                   Social Networking   0.408831\n",
       "25              Society and Lifestyles   0.081766\n",
       "26                              Travel   0.081766\n",
       "27                         Web Hosting   0.163532"
      ]
     },
     "execution_count": 34,
     "metadata": {},
     "output_type": "execute_result"
    }
   ],
   "source": [
    "Category_contributions('CN')"
   ]
  },
  {
   "cell_type": "code",
   "execution_count": 35,
   "metadata": {
    "colab": {},
    "colab_type": "code",
    "id": "rjAzM0MuJQ1I"
   },
   "outputs": [],
   "source": [
    "INplot = Category_contributions('IN')\n",
    "TRplot =Category_contributions('TR')\n",
    "RUplot = Category_contributions('RU')\n",
    "KRplot= Category_contributions('KR')\n",
    "USplot = Category_contributions('US')\n",
    "CNplot = Category_contributions('CN')\n",
    "CAplot  = Category_contributions('CA')\n",
    "ZAplot  = Category_contributions('ZA')"
   ]
  },
  {
   "cell_type": "markdown",
   "metadata": {
    "colab_type": "text",
    "id": "eFSOy3U3JQ1K"
   },
   "source": [
    " Plotting the graph below:"
   ]
  },
  {
   "cell_type": "code",
   "execution_count": 53,
   "metadata": {
    "colab": {},
    "colab_type": "code",
    "id": "Lh5dyDvUJQ1K"
   },
   "outputs": [],
   "source": [
    "graphcompare1 = pd.merge(INplot,TRplot, on='category', how='outer')\n",
    "graphcompare2 = pd.merge(graphcompare1,KRplot, on='category', how='outer')\n",
    "graphcompare3 = pd.merge(graphcompare2,RUplot, on='category', how='outer')\n",
    "graphcompare4 = pd.merge(graphcompare3,USplot, on='category', how='outer')\n",
    "graphcompare5 = pd.merge(graphcompare4,CNplot, on='category', how='outer')"
   ]
  },
  {
   "cell_type": "code",
   "execution_count": 55,
   "metadata": {},
   "outputs": [
    {
     "data": {
      "text/html": [
       "<div>\n",
       "<style scoped>\n",
       "    .dataframe tbody tr th:only-of-type {\n",
       "        vertical-align: middle;\n",
       "    }\n",
       "\n",
       "    .dataframe tbody tr th {\n",
       "        vertical-align: top;\n",
       "    }\n",
       "\n",
       "    .dataframe thead th {\n",
       "        text-align: right;\n",
       "    }\n",
       "</style>\n",
       "<table border=\"1\" class=\"dataframe\">\n",
       "  <thead>\n",
       "    <tr style=\"text-align: right;\">\n",
       "      <th></th>\n",
       "      <th>category</th>\n",
       "      <th>IN</th>\n",
       "      <th>TR</th>\n",
       "      <th>KR</th>\n",
       "      <th>RU</th>\n",
       "    </tr>\n",
       "  </thead>\n",
       "  <tbody>\n",
       "    <tr>\n",
       "      <th>20</th>\n",
       "      <td>Gambling</td>\n",
       "      <td>0.009176</td>\n",
       "      <td>3.848268</td>\n",
       "      <td>3.420045</td>\n",
       "      <td>18.406593</td>\n",
       "    </tr>\n",
       "    <tr>\n",
       "      <th>27</th>\n",
       "      <td>Illegal or Unethical</td>\n",
       "      <td>4.634090</td>\n",
       "      <td>8.081363</td>\n",
       "      <td>1.033276</td>\n",
       "      <td>1.373626</td>\n",
       "    </tr>\n",
       "    <tr>\n",
       "      <th>36</th>\n",
       "      <td>News and Media</td>\n",
       "      <td>8.866713</td>\n",
       "      <td>22.429907</td>\n",
       "      <td>9.712135</td>\n",
       "      <td>8.406593</td>\n",
       "    </tr>\n",
       "    <tr>\n",
       "      <th>45</th>\n",
       "      <td>Pornography</td>\n",
       "      <td>1.121817</td>\n",
       "      <td>24.573942</td>\n",
       "      <td>39.683745</td>\n",
       "      <td>7.884615</td>\n",
       "    </tr>\n",
       "    <tr>\n",
       "      <th>52</th>\n",
       "      <td>Shopping</td>\n",
       "      <td>0.089470</td>\n",
       "      <td>0.109951</td>\n",
       "      <td>8.774594</td>\n",
       "      <td>1.318681</td>\n",
       "    </tr>\n",
       "    <tr>\n",
       "      <th>53</th>\n",
       "      <td>Social Networking</td>\n",
       "      <td>26.636843</td>\n",
       "      <td>NaN</td>\n",
       "      <td>0.135349</td>\n",
       "      <td>0.274725</td>\n",
       "    </tr>\n",
       "    <tr>\n",
       "      <th>56</th>\n",
       "      <td>Streaming Media and Download</td>\n",
       "      <td>9.199358</td>\n",
       "      <td>3.848268</td>\n",
       "      <td>2.829130</td>\n",
       "      <td>1.291209</td>\n",
       "    </tr>\n",
       "  </tbody>\n",
       "</table>\n",
       "</div>"
      ],
      "text/plain": [
       "                        category         IN         TR         KR         RU\n",
       "20                      Gambling   0.009176   3.848268   3.420045  18.406593\n",
       "27          Illegal or Unethical   4.634090   8.081363   1.033276   1.373626\n",
       "36                News and Media   8.866713  22.429907   9.712135   8.406593\n",
       "45                   Pornography   1.121817  24.573942  39.683745   7.884615\n",
       "52                      Shopping   0.089470   0.109951   8.774594   1.318681\n",
       "53             Social Networking  26.636843        NaN   0.135349   0.274725\n",
       "56  Streaming Media and Download   9.199358   3.848268   2.829130   1.291209"
      ]
     },
     "execution_count": 55,
     "metadata": {},
     "output_type": "execute_result"
    }
   ],
   "source": [
    "def subset_of_categories (df):\n",
    "    return df[\n",
    "        (df.category=='Pornography') |\n",
    "        (df.category=='Social Networking') |\n",
    "        (df.category=='Shopping') |\n",
    "        (df.category=='Streaming Media and Download') |\n",
    "        (df.category=='News and Media') |\n",
    "        (df.category=='Gambling') |\n",
    "        (df.category=='Illegal or Unethical')\n",
    "             ]\n",
    "    \n",
    "graphcompare3 = subset_of_categories(graphcompare3)\n",
    "graphcompare3"
   ]
  },
  {
   "cell_type": "code",
   "execution_count": 57,
   "metadata": {
    "colab": {},
    "colab_type": "code",
    "id": "XJJkFBz5JQ1M"
   },
   "outputs": [
    {
     "data": {
      "image/png": "[encoded data removed]",
      "text/plain": [
       "<Figure size 1440x864 with 1 Axes>"
      ]
     },
     "metadata": {
      "needs_background": "light"
     },
     "output_type": "display_data"
    }
   ],
   "source": [
    "# set width of bar\n",
    "barWidth = 0.15\n",
    " \n",
    "# set height of bar\n",
    "TR = graphcompare3['TR']\n",
    "RU = graphcompare3['RU']\n",
    "IN = graphcompare3['IN']\n",
    "KR = graphcompare3['KR']\n",
    " \n",
    "# Set position of bar on X axis\n",
    "r1 = np.arange(len(TR))\n",
    "r2 = [x + barWidth for x in r1]\n",
    "r3 = [x + barWidth for x in r2]\n",
    "r4 = [x + barWidth for x in r3]\n",
    " \n",
    "# Make the plot\n",
    "plt.figure(figsize = (20,12))\n",
    "plt.bar(r1, TR, color='green', width=barWidth, edgecolor='dimgrey', label='Turkey')\n",
    "plt.bar(r2, RU, color='red', width=barWidth ,  edgecolor='dimgrey',label='RU')\n",
    "plt.bar(r3, IN, color='blue', width=barWidth,  edgecolor='dimgrey',label='India')\n",
    "plt.bar(r4, KR, color='darkorange', width=barWidth,  edgecolor= 'dimgrey',label='South Korea') \n",
    "\n",
    "# Add xticks on the middle of the group bars\n",
    "plt.ylabel(\"Percentage\", size=15)\n",
    "# plt.ylim(0,100)\n",
    "plt.xticks([r for r in range(len(TR))], graphcompare3['category'].tolist() ,rotation=-45, size=16)\n",
    "\n",
    "# Create legend & Show graphic\n",
    "plt.legend(loc = 'upper left', fontsize = 15)\n",
    "plt.title(\"\\n Category-wise blocking in countries \\n\", size = 15)\n",
    "plt.show()"
   ]
  },
  {
   "cell_type": "code",
   "execution_count": null,
   "metadata": {},
   "outputs": [],
   "source": []
  },
  {
   "cell_type": "markdown",
   "metadata": {
    "colab_type": "text",
    "id": "5SBW-hF_XIOv"
   },
   "source": [
    "### Producing a proxy from blocking by category\n",
    "\n",
    "Here, we describe each country by the proportions of categories in which they block websites (e.g., 30% pornography, 70% gambling).\n",
    "\n",
    "We then interpret these blocking cateogries as coordinates, and find the spatial cosine distance between any pair of two countries to produce a distance metric."
   ]
  },
  {
   "cell_type": "code",
   "execution_count": 40,
   "metadata": {
    "colab": {},
    "colab_type": "code",
    "id": "Qv6OIUGFJQ1N"
   },
   "outputs": [],
   "source": [
    "graphcompare5.fillna(0,inplace=True)\n",
    "\n",
    "KRvals = graphcompare5['KR']\n",
    "RUvals = graphcompare5['RU']\n",
    "INvals = graphcompare5['IN']\n",
    "TRvals = graphcompare5['TR']"
   ]
  },
  {
   "cell_type": "code",
   "execution_count": 41,
   "metadata": {
    "colab": {},
    "colab_type": "code",
    "id": "FwvtiJXKJQ1Q"
   },
   "outputs": [
    {
     "name": "stdout",
     "output_type": "stream",
     "text": [
      "india/russia 38.31183471508919\n",
      "india/turkey 39.73482676318654\n",
      "india/korea 16.051639330065427\n",
      "india/russia 35.065106293355456\n",
      "korea/turkey 76.82279136463254\n",
      "russia/turkey 67.90118297322356\n"
     ]
    }
   ],
   "source": [
    "KRsimilarityRU = (1 - spatial.distance.cosine(KRvals, RUvals))*100\n",
    "print('india/russia', KRsimilarityRU)\n",
    "\n",
    "INsimilarityTR = (1 - spatial.distance.cosine(INvals, TRvals))*100\n",
    "print('india/turkey', INsimilarityTR)\n",
    "\n",
    "INsimilarityKR = (1 - spatial.distance.cosine(INvals, KRvals))*100\n",
    "print('india/korea', INsimilarityKR)\n",
    "\n",
    "INsimilarityRU = (1 - spatial.distance.cosine(INvals, RUvals))*100\n",
    "print('india/russia', INsimilarityRU)\n",
    "\n",
    "KRsimilarityTR = (1 - spatial.distance.cosine(KRvals, TRvals))*100\n",
    "print('korea/turkey', KRsimilarityTR)\n",
    "\n",
    "RUsimilarityTR = (1 - spatial.distance.cosine(RUvals, TRvals))*100\n",
    "print('russia/turkey', RUsimilarityTR)"
   ]
  },
  {
   "cell_type": "markdown",
   "metadata": {
    "colab_type": "text",
    "id": "5SBW-hF_XIOv"
   },
   "source": [
    "### Computing pairwise distance across all countries\n",
    "\n",
    "We find the spatial cosine distance between **every** pair of two countries."
   ]
  },
  {
   "cell_type": "code",
   "execution_count": 42,
   "metadata": {
    "colab": {
     "base_uri": "https://localhost:8080/",
     "height": 35
    },
    "colab_type": "code",
    "id": "MgGtSoTxJQ1l",
    "outputId": "99742bf0-ec45-4a14-ad77-0aabaa28a023"
   },
   "outputs": [
    {
     "name": "stdout",
     "output_type": "stream",
     "text": [
      "The total countries we have in our clean dataset are 55\n"
     ]
    }
   ],
   "source": [
    "allCountries = (iclabCLEAN['country'].unique())\n",
    "print(\"The total countries we have in our clean dataset are {}\".format(len(allCountries)))"
   ]
  },
  {
   "cell_type": "code",
   "execution_count": 43,
   "metadata": {
    "colab": {
     "base_uri": "https://localhost:8080/",
     "height": 35
    },
    "colab_type": "code",
    "id": "FhTJ0GL9JQ1m",
    "outputId": "09203ff5-a56e-42b9-f405-38a3645a61e4"
   },
   "outputs": [
    {
     "name": "stdout",
     "output_type": "stream",
     "text": [
      "The total unique categories we have in our clean dataset are 78\n"
     ]
    }
   ],
   "source": [
    "allCategories = (iclabCLEAN['category'].unique())\n",
    "print(\"The total unique categories we have in our clean dataset are {}\".format(len(allCategories)))"
   ]
  },
  {
   "cell_type": "code",
   "execution_count": 44,
   "metadata": {
    "colab": {
     "base_uri": "https://localhost:8080/",
     "height": 204
    },
    "colab_type": "code",
    "id": "EweJ1Fg9JQ1p",
    "outputId": "ae58ffd4-0f4f-4bbf-8325-63826b573b74"
   },
   "outputs": [
    {
     "data": {
      "text/html": [
       "<div>\n",
       "<style scoped>\n",
       "    .dataframe tbody tr th:only-of-type {\n",
       "        vertical-align: middle;\n",
       "    }\n",
       "\n",
       "    .dataframe tbody tr th {\n",
       "        vertical-align: top;\n",
       "    }\n",
       "\n",
       "    .dataframe thead th {\n",
       "        text-align: right;\n",
       "    }\n",
       "</style>\n",
       "<table border=\"1\" class=\"dataframe\">\n",
       "  <thead>\n",
       "    <tr style=\"text-align: right;\">\n",
       "      <th></th>\n",
       "      <th>category</th>\n",
       "      <th>dummy</th>\n",
       "    </tr>\n",
       "  </thead>\n",
       "  <tbody>\n",
       "    <tr>\n",
       "      <th>0</th>\n",
       "      <td>File Sharing and Storage</td>\n",
       "      <td>NaN</td>\n",
       "    </tr>\n",
       "    <tr>\n",
       "      <th>1</th>\n",
       "      <td>Reference</td>\n",
       "      <td>NaN</td>\n",
       "    </tr>\n",
       "    <tr>\n",
       "      <th>2</th>\n",
       "      <td>Information Technology</td>\n",
       "      <td>NaN</td>\n",
       "    </tr>\n",
       "    <tr>\n",
       "      <th>3</th>\n",
       "      <td>Instant Messaging</td>\n",
       "      <td>NaN</td>\n",
       "    </tr>\n",
       "    <tr>\n",
       "      <th>4</th>\n",
       "      <td>News and Media</td>\n",
       "      <td>NaN</td>\n",
       "    </tr>\n",
       "  </tbody>\n",
       "</table>\n",
       "</div>"
      ],
      "text/plain": [
       "                   category  dummy\n",
       "0  File Sharing and Storage    NaN\n",
       "1                 Reference    NaN\n",
       "2    Information Technology    NaN\n",
       "3         Instant Messaging    NaN\n",
       "4            News and Media    NaN"
      ]
     },
     "execution_count": 44,
     "metadata": {},
     "output_type": "execute_result"
    }
   ],
   "source": [
    "simMetricDF = pd.DataFrame(index = allCategories, columns=None)\n",
    "simMetricDF['dummy']= pd.Series(np.zeros(len(simMetricDF)))\n",
    "simMetricDF.reset_index(inplace=True)\n",
    "simMetricDF.rename(columns={'index':'category'},inplace=True)\n",
    "simMetricDF.head()"
   ]
  },
  {
   "cell_type": "code",
   "execution_count": 45,
   "metadata": {
    "colab": {},
    "colab_type": "code",
    "id": "BfbaQNJ3JQ1r"
   },
   "outputs": [
    {
     "name": "stdout",
     "output_type": "stream",
     "text": [
      "UA CO KR US BG BZ AU JP NL HK LT RO KE ES VN MX PE SE NZ FR ID ZA HU SK CL CN LU IN SG TW MD NO RU AD CA RS FI MY BE IS VE PT DK CZ IL TR PL DZ BR SC SA AT GR CR LI "
     ]
    }
   ],
   "source": [
    "for country in allCountries:\n",
    "    print(country, end=' ')\n",
    "    simMetricDF = pd.merge(simMetricDF,Category_contributions(country), on= 'category', how='outer')"
   ]
  },
  {
   "cell_type": "code",
   "execution_count": 46,
   "metadata": {},
   "outputs": [
    {
     "data": {
      "text/html": [
       "<div>\n",
       "<style scoped>\n",
       "    .dataframe tbody tr th:only-of-type {\n",
       "        vertical-align: middle;\n",
       "    }\n",
       "\n",
       "    .dataframe tbody tr th {\n",
       "        vertical-align: top;\n",
       "    }\n",
       "\n",
       "    .dataframe thead th {\n",
       "        text-align: right;\n",
       "    }\n",
       "</style>\n",
       "<table border=\"1\" class=\"dataframe\">\n",
       "  <thead>\n",
       "    <tr style=\"text-align: right;\">\n",
       "      <th></th>\n",
       "      <th>category</th>\n",
       "      <th>dummy</th>\n",
       "      <th>UA</th>\n",
       "      <th>CO</th>\n",
       "      <th>KR</th>\n",
       "      <th>US</th>\n",
       "      <th>BG</th>\n",
       "      <th>BZ</th>\n",
       "      <th>AU</th>\n",
       "      <th>JP</th>\n",
       "      <th>...</th>\n",
       "      <th>TR</th>\n",
       "      <th>PL</th>\n",
       "      <th>DZ</th>\n",
       "      <th>BR</th>\n",
       "      <th>SC</th>\n",
       "      <th>SA</th>\n",
       "      <th>AT</th>\n",
       "      <th>GR</th>\n",
       "      <th>CR</th>\n",
       "      <th>LI</th>\n",
       "    </tr>\n",
       "  </thead>\n",
       "  <tbody>\n",
       "    <tr>\n",
       "      <th>0</th>\n",
       "      <td>File Sharing and Storage</td>\n",
       "      <td>NaN</td>\n",
       "      <td>NaN</td>\n",
       "      <td>NaN</td>\n",
       "      <td>1.891589</td>\n",
       "      <td>0.002475</td>\n",
       "      <td>NaN</td>\n",
       "      <td>NaN</td>\n",
       "      <td>0.143678</td>\n",
       "      <td>0.029886</td>\n",
       "      <td>...</td>\n",
       "      <td>1.594283</td>\n",
       "      <td>NaN</td>\n",
       "      <td>NaN</td>\n",
       "      <td>NaN</td>\n",
       "      <td>NaN</td>\n",
       "      <td>0.679093</td>\n",
       "      <td>NaN</td>\n",
       "      <td>NaN</td>\n",
       "      <td>NaN</td>\n",
       "      <td>NaN</td>\n",
       "    </tr>\n",
       "    <tr>\n",
       "      <th>1</th>\n",
       "      <td>Reference</td>\n",
       "      <td>NaN</td>\n",
       "      <td>1.443124</td>\n",
       "      <td>1.430615</td>\n",
       "      <td>1.079493</td>\n",
       "      <td>1.398428</td>\n",
       "      <td>0.692841</td>\n",
       "      <td>0.917431</td>\n",
       "      <td>0.779967</td>\n",
       "      <td>1.554094</td>\n",
       "      <td>...</td>\n",
       "      <td>1.319406</td>\n",
       "      <td>1.353180</td>\n",
       "      <td>1.574803</td>\n",
       "      <td>1.887840</td>\n",
       "      <td>0.945946</td>\n",
       "      <td>0.671868</td>\n",
       "      <td>0.972222</td>\n",
       "      <td>NaN</td>\n",
       "      <td>NaN</td>\n",
       "      <td>9.876543</td>\n",
       "    </tr>\n",
       "    <tr>\n",
       "      <th>2</th>\n",
       "      <td>Information Technology</td>\n",
       "      <td>NaN</td>\n",
       "      <td>2.037351</td>\n",
       "      <td>0.286123</td>\n",
       "      <td>2.003829</td>\n",
       "      <td>0.222758</td>\n",
       "      <td>0.307929</td>\n",
       "      <td>NaN</td>\n",
       "      <td>0.389984</td>\n",
       "      <td>0.567842</td>\n",
       "      <td>...</td>\n",
       "      <td>NaN</td>\n",
       "      <td>0.135318</td>\n",
       "      <td>NaN</td>\n",
       "      <td>0.166574</td>\n",
       "      <td>0.270270</td>\n",
       "      <td>2.398497</td>\n",
       "      <td>NaN</td>\n",
       "      <td>NaN</td>\n",
       "      <td>0.877193</td>\n",
       "      <td>NaN</td>\n",
       "    </tr>\n",
       "    <tr>\n",
       "      <th>3</th>\n",
       "      <td>Instant Messaging</td>\n",
       "      <td>NaN</td>\n",
       "      <td>NaN</td>\n",
       "      <td>NaN</td>\n",
       "      <td>0.036313</td>\n",
       "      <td>0.001238</td>\n",
       "      <td>NaN</td>\n",
       "      <td>NaN</td>\n",
       "      <td>NaN</td>\n",
       "      <td>0.059773</td>\n",
       "      <td>...</td>\n",
       "      <td>NaN</td>\n",
       "      <td>NaN</td>\n",
       "      <td>NaN</td>\n",
       "      <td>NaN</td>\n",
       "      <td>NaN</td>\n",
       "      <td>NaN</td>\n",
       "      <td>NaN</td>\n",
       "      <td>NaN</td>\n",
       "      <td>NaN</td>\n",
       "      <td>NaN</td>\n",
       "    </tr>\n",
       "    <tr>\n",
       "      <th>4</th>\n",
       "      <td>News and Media</td>\n",
       "      <td>NaN</td>\n",
       "      <td>13.921902</td>\n",
       "      <td>13.590844</td>\n",
       "      <td>9.712135</td>\n",
       "      <td>12.771487</td>\n",
       "      <td>9.160893</td>\n",
       "      <td>4.587156</td>\n",
       "      <td>10.775862</td>\n",
       "      <td>12.044232</td>\n",
       "      <td>...</td>\n",
       "      <td>22.429907</td>\n",
       "      <td>11.231394</td>\n",
       "      <td>9.842520</td>\n",
       "      <td>13.381455</td>\n",
       "      <td>12.972973</td>\n",
       "      <td>10.121370</td>\n",
       "      <td>14.305556</td>\n",
       "      <td>11.111111</td>\n",
       "      <td>15.789474</td>\n",
       "      <td>19.753086</td>\n",
       "    </tr>\n",
       "  </tbody>\n",
       "</table>\n",
       "<p>5 rows × 57 columns</p>\n",
       "</div>"
      ],
      "text/plain": [
       "                   category  dummy         UA         CO        KR         US  \\\n",
       "0  File Sharing and Storage    NaN        NaN        NaN  1.891589   0.002475   \n",
       "1                 Reference    NaN   1.443124   1.430615  1.079493   1.398428   \n",
       "2    Information Technology    NaN   2.037351   0.286123  2.003829   0.222758   \n",
       "3         Instant Messaging    NaN        NaN        NaN  0.036313   0.001238   \n",
       "4            News and Media    NaN  13.921902  13.590844  9.712135  12.771487   \n",
       "\n",
       "         BG        BZ         AU         JP  ...         TR         PL  \\\n",
       "0       NaN       NaN   0.143678   0.029886  ...   1.594283        NaN   \n",
       "1  0.692841  0.917431   0.779967   1.554094  ...   1.319406   1.353180   \n",
       "2  0.307929       NaN   0.389984   0.567842  ...        NaN   0.135318   \n",
       "3       NaN       NaN        NaN   0.059773  ...        NaN        NaN   \n",
       "4  9.160893  4.587156  10.775862  12.044232  ...  22.429907  11.231394   \n",
       "\n",
       "         DZ         BR         SC         SA         AT         GR         CR  \\\n",
       "0       NaN        NaN        NaN   0.679093        NaN        NaN        NaN   \n",
       "1  1.574803   1.887840   0.945946   0.671868   0.972222        NaN        NaN   \n",
       "2       NaN   0.166574   0.270270   2.398497        NaN        NaN   0.877193   \n",
       "3       NaN        NaN        NaN        NaN        NaN        NaN        NaN   \n",
       "4  9.842520  13.381455  12.972973  10.121370  14.305556  11.111111  15.789474   \n",
       "\n",
       "          LI  \n",
       "0        NaN  \n",
       "1   9.876543  \n",
       "2        NaN  \n",
       "3        NaN  \n",
       "4  19.753086  \n",
       "\n",
       "[5 rows x 57 columns]"
      ]
     },
     "execution_count": 46,
     "metadata": {},
     "output_type": "execute_result"
    }
   ],
   "source": [
    "simMetricDF.head()"
   ]
  },
  {
   "cell_type": "code",
   "execution_count": 47,
   "metadata": {
    "colab": {},
    "colab_type": "code",
    "id": "rvU1UWESJQ1s"
   },
   "outputs": [
    {
     "data": {
      "text/html": [
       "<div>\n",
       "<style scoped>\n",
       "    .dataframe tbody tr th:only-of-type {\n",
       "        vertical-align: middle;\n",
       "    }\n",
       "\n",
       "    .dataframe tbody tr th {\n",
       "        vertical-align: top;\n",
       "    }\n",
       "\n",
       "    .dataframe thead th {\n",
       "        text-align: right;\n",
       "    }\n",
       "</style>\n",
       "<table border=\"1\" class=\"dataframe\">\n",
       "  <thead>\n",
       "    <tr style=\"text-align: right;\">\n",
       "      <th></th>\n",
       "      <th>UA</th>\n",
       "      <th>CO</th>\n",
       "      <th>KR</th>\n",
       "      <th>US</th>\n",
       "      <th>BG</th>\n",
       "      <th>BZ</th>\n",
       "      <th>AU</th>\n",
       "      <th>JP</th>\n",
       "      <th>NL</th>\n",
       "      <th>HK</th>\n",
       "      <th>...</th>\n",
       "      <th>TR</th>\n",
       "      <th>PL</th>\n",
       "      <th>DZ</th>\n",
       "      <th>BR</th>\n",
       "      <th>SC</th>\n",
       "      <th>SA</th>\n",
       "      <th>AT</th>\n",
       "      <th>GR</th>\n",
       "      <th>CR</th>\n",
       "      <th>LI</th>\n",
       "    </tr>\n",
       "    <tr>\n",
       "      <th>category</th>\n",
       "      <th></th>\n",
       "      <th></th>\n",
       "      <th></th>\n",
       "      <th></th>\n",
       "      <th></th>\n",
       "      <th></th>\n",
       "      <th></th>\n",
       "      <th></th>\n",
       "      <th></th>\n",
       "      <th></th>\n",
       "      <th></th>\n",
       "      <th></th>\n",
       "      <th></th>\n",
       "      <th></th>\n",
       "      <th></th>\n",
       "      <th></th>\n",
       "      <th></th>\n",
       "      <th></th>\n",
       "      <th></th>\n",
       "      <th></th>\n",
       "      <th></th>\n",
       "    </tr>\n",
       "  </thead>\n",
       "  <tbody>\n",
       "    <tr>\n",
       "      <th>File Sharing and Storage</th>\n",
       "      <td>0.000000</td>\n",
       "      <td>0.000000</td>\n",
       "      <td>1.891589</td>\n",
       "      <td>0.002475</td>\n",
       "      <td>0.000000</td>\n",
       "      <td>0.000000</td>\n",
       "      <td>0.143678</td>\n",
       "      <td>0.029886</td>\n",
       "      <td>0.012952</td>\n",
       "      <td>0.032680</td>\n",
       "      <td>...</td>\n",
       "      <td>1.594283</td>\n",
       "      <td>0.000000</td>\n",
       "      <td>0.000000</td>\n",
       "      <td>0.000000</td>\n",
       "      <td>0.000000</td>\n",
       "      <td>0.679093</td>\n",
       "      <td>0.000000</td>\n",
       "      <td>0.000000</td>\n",
       "      <td>0.000000</td>\n",
       "      <td>0.000000</td>\n",
       "    </tr>\n",
       "    <tr>\n",
       "      <th>Reference</th>\n",
       "      <td>1.443124</td>\n",
       "      <td>1.430615</td>\n",
       "      <td>1.079493</td>\n",
       "      <td>1.398428</td>\n",
       "      <td>0.692841</td>\n",
       "      <td>0.917431</td>\n",
       "      <td>0.779967</td>\n",
       "      <td>1.554094</td>\n",
       "      <td>2.188836</td>\n",
       "      <td>0.555556</td>\n",
       "      <td>...</td>\n",
       "      <td>1.319406</td>\n",
       "      <td>1.353180</td>\n",
       "      <td>1.574803</td>\n",
       "      <td>1.887840</td>\n",
       "      <td>0.945946</td>\n",
       "      <td>0.671868</td>\n",
       "      <td>0.972222</td>\n",
       "      <td>0.000000</td>\n",
       "      <td>0.000000</td>\n",
       "      <td>9.876543</td>\n",
       "    </tr>\n",
       "    <tr>\n",
       "      <th>Information Technology</th>\n",
       "      <td>2.037351</td>\n",
       "      <td>0.286123</td>\n",
       "      <td>2.003829</td>\n",
       "      <td>0.222758</td>\n",
       "      <td>0.307929</td>\n",
       "      <td>0.000000</td>\n",
       "      <td>0.389984</td>\n",
       "      <td>0.567842</td>\n",
       "      <td>0.246082</td>\n",
       "      <td>0.196078</td>\n",
       "      <td>...</td>\n",
       "      <td>0.000000</td>\n",
       "      <td>0.135318</td>\n",
       "      <td>0.000000</td>\n",
       "      <td>0.166574</td>\n",
       "      <td>0.270270</td>\n",
       "      <td>2.398497</td>\n",
       "      <td>0.000000</td>\n",
       "      <td>0.000000</td>\n",
       "      <td>0.877193</td>\n",
       "      <td>0.000000</td>\n",
       "    </tr>\n",
       "    <tr>\n",
       "      <th>Instant Messaging</th>\n",
       "      <td>0.000000</td>\n",
       "      <td>0.000000</td>\n",
       "      <td>0.036313</td>\n",
       "      <td>0.001238</td>\n",
       "      <td>0.000000</td>\n",
       "      <td>0.000000</td>\n",
       "      <td>0.000000</td>\n",
       "      <td>0.059773</td>\n",
       "      <td>0.000000</td>\n",
       "      <td>0.000000</td>\n",
       "      <td>...</td>\n",
       "      <td>0.000000</td>\n",
       "      <td>0.000000</td>\n",
       "      <td>0.000000</td>\n",
       "      <td>0.000000</td>\n",
       "      <td>0.000000</td>\n",
       "      <td>0.000000</td>\n",
       "      <td>0.000000</td>\n",
       "      <td>0.000000</td>\n",
       "      <td>0.000000</td>\n",
       "      <td>0.000000</td>\n",
       "    </tr>\n",
       "    <tr>\n",
       "      <th>News and Media</th>\n",
       "      <td>13.921902</td>\n",
       "      <td>13.590844</td>\n",
       "      <td>9.712135</td>\n",
       "      <td>12.771487</td>\n",
       "      <td>9.160893</td>\n",
       "      <td>4.587156</td>\n",
       "      <td>10.775862</td>\n",
       "      <td>12.044232</td>\n",
       "      <td>12.278202</td>\n",
       "      <td>35.196078</td>\n",
       "      <td>...</td>\n",
       "      <td>22.429907</td>\n",
       "      <td>11.231394</td>\n",
       "      <td>9.842520</td>\n",
       "      <td>13.381455</td>\n",
       "      <td>12.972973</td>\n",
       "      <td>10.121370</td>\n",
       "      <td>14.305556</td>\n",
       "      <td>11.111111</td>\n",
       "      <td>15.789474</td>\n",
       "      <td>19.753086</td>\n",
       "    </tr>\n",
       "  </tbody>\n",
       "</table>\n",
       "<p>5 rows × 55 columns</p>\n",
       "</div>"
      ],
      "text/plain": [
       "                                 UA         CO        KR         US        BG  \\\n",
       "category                                                                        \n",
       "File Sharing and Storage   0.000000   0.000000  1.891589   0.002475  0.000000   \n",
       "Reference                  1.443124   1.430615  1.079493   1.398428  0.692841   \n",
       "Information Technology     2.037351   0.286123  2.003829   0.222758  0.307929   \n",
       "Instant Messaging          0.000000   0.000000  0.036313   0.001238  0.000000   \n",
       "News and Media            13.921902  13.590844  9.712135  12.771487  9.160893   \n",
       "\n",
       "                                BZ         AU         JP         NL  \\\n",
       "category                                                              \n",
       "File Sharing and Storage  0.000000   0.143678   0.029886   0.012952   \n",
       "Reference                 0.917431   0.779967   1.554094   2.188836   \n",
       "Information Technology    0.000000   0.389984   0.567842   0.246082   \n",
       "Instant Messaging         0.000000   0.000000   0.059773   0.000000   \n",
       "News and Media            4.587156  10.775862  12.044232  12.278202   \n",
       "\n",
       "                                 HK  ...         TR         PL        DZ  \\\n",
       "category                             ...                                   \n",
       "File Sharing and Storage   0.032680  ...   1.594283   0.000000  0.000000   \n",
       "Reference                  0.555556  ...   1.319406   1.353180  1.574803   \n",
       "Information Technology     0.196078  ...   0.000000   0.135318  0.000000   \n",
       "Instant Messaging          0.000000  ...   0.000000   0.000000  0.000000   \n",
       "News and Media            35.196078  ...  22.429907  11.231394  9.842520   \n",
       "\n",
       "                                 BR         SC         SA         AT  \\\n",
       "category                                                               \n",
       "File Sharing and Storage   0.000000   0.000000   0.679093   0.000000   \n",
       "Reference                  1.887840   0.945946   0.671868   0.972222   \n",
       "Information Technology     0.166574   0.270270   2.398497   0.000000   \n",
       "Instant Messaging          0.000000   0.000000   0.000000   0.000000   \n",
       "News and Media            13.381455  12.972973  10.121370  14.305556   \n",
       "\n",
       "                                 GR         CR         LI  \n",
       "category                                                   \n",
       "File Sharing and Storage   0.000000   0.000000   0.000000  \n",
       "Reference                  0.000000   0.000000   9.876543  \n",
       "Information Technology     0.000000   0.877193   0.000000  \n",
       "Instant Messaging          0.000000   0.000000   0.000000  \n",
       "News and Media            11.111111  15.789474  19.753086  \n",
       "\n",
       "[5 rows x 55 columns]"
      ]
     },
     "execution_count": 47,
     "metadata": {},
     "output_type": "execute_result"
    }
   ],
   "source": [
    "simMetricDF.set_index('category',inplace = True)\n",
    "simMetricDF.fillna(0,inplace=True)\n",
    "simMetricDF.drop(\"dummy\",axis=1,inplace = True)\n",
    "simMetricDF.head()"
   ]
  },
  {
   "cell_type": "markdown",
   "metadata": {},
   "source": [
    "## Metadata files\n",
    "Create a metadata file showing each country's blocking proportions, and the number of websites blocked in each country."
   ]
  },
  {
   "cell_type": "code",
   "execution_count": 48,
   "metadata": {},
   "outputs": [
    {
     "data": {
      "text/plain": [
       "{'num_observations': 252983,\n",
       " 'num_observations_blocked': 3640,\n",
       " 'num_unique_sites_measured': 7077,\n",
       " 'num_unique_sites_blocked': 340}"
      ]
     },
     "execution_count": 48,
     "metadata": {},
     "output_type": "execute_result"
    }
   ],
   "source": [
    "def blocking_stats (cc2):\n",
    "    q = iclabCLEAN[(iclabCLEAN['country']==cc2)]['url']\n",
    "    return {\n",
    "        'num_observations': len(q),\n",
    "        'num_observations_blocked': len(q[blocked_indices]),\n",
    "        'num_unique_sites_measured': len(q.unique()),\n",
    "        'num_unique_sites_blocked': len(q[blocked_indices].unique()),\n",
    "    }\n",
    "\n",
    "blocking_stats('RU')"
   ]
  },
  {
   "cell_type": "code",
   "execution_count": 49,
   "metadata": {},
   "outputs": [
    {
     "data": {
      "text/html": [
       "<div>\n",
       "<style scoped>\n",
       "    .dataframe tbody tr th:only-of-type {\n",
       "        vertical-align: middle;\n",
       "    }\n",
       "\n",
       "    .dataframe tbody tr th {\n",
       "        vertical-align: top;\n",
       "    }\n",
       "\n",
       "    .dataframe thead th {\n",
       "        text-align: right;\n",
       "    }\n",
       "</style>\n",
       "<table border=\"1\" class=\"dataframe\">\n",
       "  <thead>\n",
       "    <tr style=\"text-align: right;\">\n",
       "      <th>category</th>\n",
       "      <th>alpha2</th>\n",
       "      <th>File Sharing and Storage</th>\n",
       "      <th>Reference</th>\n",
       "      <th>Information Technology</th>\n",
       "      <th>Instant Messaging</th>\n",
       "      <th>News and Media</th>\n",
       "      <th>Shopping</th>\n",
       "      <th>Advertising</th>\n",
       "      <th>Streaming Media and Download</th>\n",
       "      <th>Search Engines and Portals</th>\n",
       "      <th>...</th>\n",
       "      <th>Dynamic DNS</th>\n",
       "      <th>Tobacco</th>\n",
       "      <th>Alcohol</th>\n",
       "      <th>Abortion</th>\n",
       "      <th>Online Meeting</th>\n",
       "      <th>Brokerage and Trading</th>\n",
       "      <th>Alternative Beliefs</th>\n",
       "      <th>Medicine</th>\n",
       "      <th>Child Education</th>\n",
       "      <th>Remote Access</th>\n",
       "    </tr>\n",
       "  </thead>\n",
       "  <tbody>\n",
       "    <tr>\n",
       "      <th>0</th>\n",
       "      <td>UA</td>\n",
       "      <td>0.000000</td>\n",
       "      <td>1.443124</td>\n",
       "      <td>2.037351</td>\n",
       "      <td>0.000000</td>\n",
       "      <td>13.921902</td>\n",
       "      <td>0.000000</td>\n",
       "      <td>0.000000</td>\n",
       "      <td>0.000000</td>\n",
       "      <td>0.084890</td>\n",
       "      <td>...</td>\n",
       "      <td>0.000000</td>\n",
       "      <td>0.000000</td>\n",
       "      <td>0.000000</td>\n",
       "      <td>0.000000</td>\n",
       "      <td>0.0</td>\n",
       "      <td>2.631579</td>\n",
       "      <td>0.0</td>\n",
       "      <td>0.0</td>\n",
       "      <td>0.0</td>\n",
       "      <td>0.0</td>\n",
       "    </tr>\n",
       "    <tr>\n",
       "      <th>1</th>\n",
       "      <td>CO</td>\n",
       "      <td>0.000000</td>\n",
       "      <td>1.430615</td>\n",
       "      <td>0.286123</td>\n",
       "      <td>0.000000</td>\n",
       "      <td>13.590844</td>\n",
       "      <td>1.001431</td>\n",
       "      <td>0.000000</td>\n",
       "      <td>0.000000</td>\n",
       "      <td>1.144492</td>\n",
       "      <td>...</td>\n",
       "      <td>0.000000</td>\n",
       "      <td>0.000000</td>\n",
       "      <td>0.000000</td>\n",
       "      <td>0.000000</td>\n",
       "      <td>0.0</td>\n",
       "      <td>3.719599</td>\n",
       "      <td>0.0</td>\n",
       "      <td>0.0</td>\n",
       "      <td>0.0</td>\n",
       "      <td>0.0</td>\n",
       "    </tr>\n",
       "    <tr>\n",
       "      <th>2</th>\n",
       "      <td>KR</td>\n",
       "      <td>1.891589</td>\n",
       "      <td>1.079493</td>\n",
       "      <td>2.003829</td>\n",
       "      <td>0.036313</td>\n",
       "      <td>9.712135</td>\n",
       "      <td>8.774594</td>\n",
       "      <td>0.049518</td>\n",
       "      <td>2.829130</td>\n",
       "      <td>1.426119</td>\n",
       "      <td>...</td>\n",
       "      <td>0.703156</td>\n",
       "      <td>0.019807</td>\n",
       "      <td>0.013205</td>\n",
       "      <td>0.003301</td>\n",
       "      <td>0.0</td>\n",
       "      <td>0.194771</td>\n",
       "      <td>0.0</td>\n",
       "      <td>0.0</td>\n",
       "      <td>0.0</td>\n",
       "      <td>0.0</td>\n",
       "    </tr>\n",
       "    <tr>\n",
       "      <th>3</th>\n",
       "      <td>US</td>\n",
       "      <td>0.002475</td>\n",
       "      <td>1.398428</td>\n",
       "      <td>0.222758</td>\n",
       "      <td>0.001238</td>\n",
       "      <td>12.771487</td>\n",
       "      <td>0.837819</td>\n",
       "      <td>0.001238</td>\n",
       "      <td>0.464080</td>\n",
       "      <td>0.584122</td>\n",
       "      <td>...</td>\n",
       "      <td>0.000000</td>\n",
       "      <td>0.007425</td>\n",
       "      <td>0.001238</td>\n",
       "      <td>0.001238</td>\n",
       "      <td>0.0</td>\n",
       "      <td>2.744880</td>\n",
       "      <td>0.0</td>\n",
       "      <td>0.0</td>\n",
       "      <td>0.0</td>\n",
       "      <td>0.0</td>\n",
       "    </tr>\n",
       "    <tr>\n",
       "      <th>4</th>\n",
       "      <td>BG</td>\n",
       "      <td>0.000000</td>\n",
       "      <td>0.692841</td>\n",
       "      <td>0.307929</td>\n",
       "      <td>0.000000</td>\n",
       "      <td>9.160893</td>\n",
       "      <td>0.307929</td>\n",
       "      <td>0.000000</td>\n",
       "      <td>0.076982</td>\n",
       "      <td>0.153965</td>\n",
       "      <td>...</td>\n",
       "      <td>0.000000</td>\n",
       "      <td>0.000000</td>\n",
       "      <td>0.000000</td>\n",
       "      <td>0.000000</td>\n",
       "      <td>0.0</td>\n",
       "      <td>2.232487</td>\n",
       "      <td>0.0</td>\n",
       "      <td>0.0</td>\n",
       "      <td>0.0</td>\n",
       "      <td>0.0</td>\n",
       "    </tr>\n",
       "  </tbody>\n",
       "</table>\n",
       "<p>5 rows × 78 columns</p>\n",
       "</div>"
      ],
      "text/plain": [
       "category alpha2  File Sharing and Storage  Reference  Information Technology  \\\n",
       "0            UA                  0.000000   1.443124                2.037351   \n",
       "1            CO                  0.000000   1.430615                0.286123   \n",
       "2            KR                  1.891589   1.079493                2.003829   \n",
       "3            US                  0.002475   1.398428                0.222758   \n",
       "4            BG                  0.000000   0.692841                0.307929   \n",
       "\n",
       "category  Instant Messaging  News and Media  Shopping  Advertising  \\\n",
       "0                  0.000000       13.921902  0.000000     0.000000   \n",
       "1                  0.000000       13.590844  1.001431     0.000000   \n",
       "2                  0.036313        9.712135  8.774594     0.049518   \n",
       "3                  0.001238       12.771487  0.837819     0.001238   \n",
       "4                  0.000000        9.160893  0.307929     0.000000   \n",
       "\n",
       "category  Streaming Media and Download  Search Engines and Portals  ...  \\\n",
       "0                             0.000000                    0.084890  ...   \n",
       "1                             0.000000                    1.144492  ...   \n",
       "2                             2.829130                    1.426119  ...   \n",
       "3                             0.464080                    0.584122  ...   \n",
       "4                             0.076982                    0.153965  ...   \n",
       "\n",
       "category  Dynamic DNS   Tobacco   Alcohol  Abortion  Online Meeting  \\\n",
       "0            0.000000  0.000000  0.000000  0.000000             0.0   \n",
       "1            0.000000  0.000000  0.000000  0.000000             0.0   \n",
       "2            0.703156  0.019807  0.013205  0.003301             0.0   \n",
       "3            0.000000  0.007425  0.001238  0.001238             0.0   \n",
       "4            0.000000  0.000000  0.000000  0.000000             0.0   \n",
       "\n",
       "category  Brokerage and Trading  Alternative Beliefs  Medicine  \\\n",
       "0                      2.631579                  0.0       0.0   \n",
       "1                      3.719599                  0.0       0.0   \n",
       "2                      0.194771                  0.0       0.0   \n",
       "3                      2.744880                  0.0       0.0   \n",
       "4                      2.232487                  0.0       0.0   \n",
       "\n",
       "category  Child Education  Remote Access  \n",
       "0                     0.0            0.0  \n",
       "1                     0.0            0.0  \n",
       "2                     0.0            0.0  \n",
       "3                     0.0            0.0  \n",
       "4                     0.0            0.0  \n",
       "\n",
       "[5 rows x 78 columns]"
      ]
     },
     "execution_count": 49,
     "metadata": {},
     "output_type": "execute_result"
    }
   ],
   "source": [
    "metadata_pre = simMetricDF.transpose()\n",
    "metadata_pre = metadata_pre.drop(columns=['Undefined'])\n",
    "metadata_pre = metadata_pre.reset_index()\n",
    "metadata_pre = metadata_pre.rename(columns={'index': 'alpha2'} )\n",
    "\n",
    "metadata_pre.head()"
   ]
  },
  {
   "cell_type": "code",
   "execution_count": 50,
   "metadata": {},
   "outputs": [
    {
     "name": "stdout",
     "output_type": "stream",
     "text": [
      "UA CO KR US BG BZ AU JP NL HK LT RO KE ES VN MX PE SE NZ FR ID ZA HU SK CL CN LU IN SG TW MD NO RU AD CA RS FI MY BE IS VE PT DK CZ IL TR PL DZ BR SC SA AT GR CR LI "
     ]
    }
   ],
   "source": [
    "def get_alpha3 (alpha2):\n",
    "    for country in pycountry.countries:\n",
    "        if country.alpha_2==alpha2:\n",
    "            return country.alpha_3\n",
    "\n",
    "# add alpha 3 code\n",
    "# and add # of websites blocked\n",
    "new_df_lst = []\n",
    "for alpha2 in metadata_pre['alpha2']:\n",
    "    print(alpha2, end=' ')\n",
    "    stats = blocking_stats(alpha2)\n",
    "    stats['alpha2'] =  alpha2\n",
    "    stats['alpha3'] =  get_alpha3(alpha2)\n",
    "    new_df_lst.append(stats)\n",
    "\n",
    "new_metadata_df = pd.DataFrame(new_df_lst)"
   ]
  },
  {
   "cell_type": "code",
   "execution_count": 51,
   "metadata": {},
   "outputs": [
    {
     "data": {
      "text/html": [
       "<div>\n",
       "<style scoped>\n",
       "    .dataframe tbody tr th:only-of-type {\n",
       "        vertical-align: middle;\n",
       "    }\n",
       "\n",
       "    .dataframe tbody tr th {\n",
       "        vertical-align: top;\n",
       "    }\n",
       "\n",
       "    .dataframe thead th {\n",
       "        text-align: right;\n",
       "    }\n",
       "</style>\n",
       "<table border=\"1\" class=\"dataframe\">\n",
       "  <thead>\n",
       "    <tr style=\"text-align: right;\">\n",
       "      <th></th>\n",
       "      <th>num_observations</th>\n",
       "      <th>num_observations_blocked</th>\n",
       "      <th>num_unique_sites_measured</th>\n",
       "      <th>num_unique_sites_blocked</th>\n",
       "      <th>alpha2</th>\n",
       "      <th>File Sharing and Storage</th>\n",
       "      <th>Reference</th>\n",
       "      <th>Information Technology</th>\n",
       "      <th>Instant Messaging</th>\n",
       "      <th>News and Media</th>\n",
       "      <th>...</th>\n",
       "      <th>Dynamic DNS</th>\n",
       "      <th>Tobacco</th>\n",
       "      <th>Alcohol</th>\n",
       "      <th>Abortion</th>\n",
       "      <th>Online Meeting</th>\n",
       "      <th>Brokerage and Trading</th>\n",
       "      <th>Alternative Beliefs</th>\n",
       "      <th>Medicine</th>\n",
       "      <th>Child Education</th>\n",
       "      <th>Remote Access</th>\n",
       "    </tr>\n",
       "    <tr>\n",
       "      <th>alpha3</th>\n",
       "      <th></th>\n",
       "      <th></th>\n",
       "      <th></th>\n",
       "      <th></th>\n",
       "      <th></th>\n",
       "      <th></th>\n",
       "      <th></th>\n",
       "      <th></th>\n",
       "      <th></th>\n",
       "      <th></th>\n",
       "      <th></th>\n",
       "      <th></th>\n",
       "      <th></th>\n",
       "      <th></th>\n",
       "      <th></th>\n",
       "      <th></th>\n",
       "      <th></th>\n",
       "      <th></th>\n",
       "      <th></th>\n",
       "      <th></th>\n",
       "      <th></th>\n",
       "    </tr>\n",
       "  </thead>\n",
       "  <tbody>\n",
       "    <tr>\n",
       "      <th>UKR</th>\n",
       "      <td>509629</td>\n",
       "      <td>1178</td>\n",
       "      <td>10258</td>\n",
       "      <td>49</td>\n",
       "      <td>UA</td>\n",
       "      <td>0.000000</td>\n",
       "      <td>1.443124</td>\n",
       "      <td>2.037351</td>\n",
       "      <td>0.000000</td>\n",
       "      <td>13.921902</td>\n",
       "      <td>...</td>\n",
       "      <td>0.000000</td>\n",
       "      <td>0.000000</td>\n",
       "      <td>0.000000</td>\n",
       "      <td>0.000000</td>\n",
       "      <td>0.0</td>\n",
       "      <td>2.631579</td>\n",
       "      <td>0.0</td>\n",
       "      <td>0.0</td>\n",
       "      <td>0.0</td>\n",
       "      <td>0.0</td>\n",
       "    </tr>\n",
       "    <tr>\n",
       "      <th>COL</th>\n",
       "      <td>272241</td>\n",
       "      <td>699</td>\n",
       "      <td>6964</td>\n",
       "      <td>60</td>\n",
       "      <td>CO</td>\n",
       "      <td>0.000000</td>\n",
       "      <td>1.430615</td>\n",
       "      <td>0.286123</td>\n",
       "      <td>0.000000</td>\n",
       "      <td>13.590844</td>\n",
       "      <td>...</td>\n",
       "      <td>0.000000</td>\n",
       "      <td>0.000000</td>\n",
       "      <td>0.000000</td>\n",
       "      <td>0.000000</td>\n",
       "      <td>0.0</td>\n",
       "      <td>3.719599</td>\n",
       "      <td>0.0</td>\n",
       "      <td>0.0</td>\n",
       "      <td>0.0</td>\n",
       "      <td>0.0</td>\n",
       "    </tr>\n",
       "    <tr>\n",
       "      <th>KOR</th>\n",
       "      <td>1290323</td>\n",
       "      <td>30292</td>\n",
       "      <td>8333</td>\n",
       "      <td>1294</td>\n",
       "      <td>KR</td>\n",
       "      <td>1.891589</td>\n",
       "      <td>1.079493</td>\n",
       "      <td>2.003829</td>\n",
       "      <td>0.036313</td>\n",
       "      <td>9.712135</td>\n",
       "      <td>...</td>\n",
       "      <td>0.703156</td>\n",
       "      <td>0.019807</td>\n",
       "      <td>0.013205</td>\n",
       "      <td>0.003301</td>\n",
       "      <td>0.0</td>\n",
       "      <td>0.194771</td>\n",
       "      <td>0.0</td>\n",
       "      <td>0.0</td>\n",
       "      <td>0.0</td>\n",
       "      <td>0.0</td>\n",
       "    </tr>\n",
       "    <tr>\n",
       "      <th>USA</th>\n",
       "      <td>27107680</td>\n",
       "      <td>80805</td>\n",
       "      <td>19065</td>\n",
       "      <td>447</td>\n",
       "      <td>US</td>\n",
       "      <td>0.002475</td>\n",
       "      <td>1.398428</td>\n",
       "      <td>0.222758</td>\n",
       "      <td>0.001238</td>\n",
       "      <td>12.771487</td>\n",
       "      <td>...</td>\n",
       "      <td>0.000000</td>\n",
       "      <td>0.007425</td>\n",
       "      <td>0.001238</td>\n",
       "      <td>0.001238</td>\n",
       "      <td>0.0</td>\n",
       "      <td>2.744880</td>\n",
       "      <td>0.0</td>\n",
       "      <td>0.0</td>\n",
       "      <td>0.0</td>\n",
       "      <td>0.0</td>\n",
       "    </tr>\n",
       "    <tr>\n",
       "      <th>BGR</th>\n",
       "      <td>470325</td>\n",
       "      <td>1299</td>\n",
       "      <td>6319</td>\n",
       "      <td>53</td>\n",
       "      <td>BG</td>\n",
       "      <td>0.000000</td>\n",
       "      <td>0.692841</td>\n",
       "      <td>0.307929</td>\n",
       "      <td>0.000000</td>\n",
       "      <td>9.160893</td>\n",
       "      <td>...</td>\n",
       "      <td>0.000000</td>\n",
       "      <td>0.000000</td>\n",
       "      <td>0.000000</td>\n",
       "      <td>0.000000</td>\n",
       "      <td>0.0</td>\n",
       "      <td>2.232487</td>\n",
       "      <td>0.0</td>\n",
       "      <td>0.0</td>\n",
       "      <td>0.0</td>\n",
       "      <td>0.0</td>\n",
       "    </tr>\n",
       "  </tbody>\n",
       "</table>\n",
       "<p>5 rows × 82 columns</p>\n",
       "</div>"
      ],
      "text/plain": [
       "        num_observations  num_observations_blocked  num_unique_sites_measured  \\\n",
       "alpha3                                                                          \n",
       "UKR               509629                      1178                      10258   \n",
       "COL               272241                       699                       6964   \n",
       "KOR              1290323                     30292                       8333   \n",
       "USA             27107680                     80805                      19065   \n",
       "BGR               470325                      1299                       6319   \n",
       "\n",
       "        num_unique_sites_blocked alpha2  File Sharing and Storage  Reference  \\\n",
       "alpha3                                                                         \n",
       "UKR                           49     UA                  0.000000   1.443124   \n",
       "COL                           60     CO                  0.000000   1.430615   \n",
       "KOR                         1294     KR                  1.891589   1.079493   \n",
       "USA                          447     US                  0.002475   1.398428   \n",
       "BGR                           53     BG                  0.000000   0.692841   \n",
       "\n",
       "        Information Technology  Instant Messaging  News and Media  ...  \\\n",
       "alpha3                                                             ...   \n",
       "UKR                   2.037351           0.000000       13.921902  ...   \n",
       "COL                   0.286123           0.000000       13.590844  ...   \n",
       "KOR                   2.003829           0.036313        9.712135  ...   \n",
       "USA                   0.222758           0.001238       12.771487  ...   \n",
       "BGR                   0.307929           0.000000        9.160893  ...   \n",
       "\n",
       "        Dynamic DNS   Tobacco   Alcohol  Abortion  Online Meeting  \\\n",
       "alpha3                                                              \n",
       "UKR        0.000000  0.000000  0.000000  0.000000             0.0   \n",
       "COL        0.000000  0.000000  0.000000  0.000000             0.0   \n",
       "KOR        0.703156  0.019807  0.013205  0.003301             0.0   \n",
       "USA        0.000000  0.007425  0.001238  0.001238             0.0   \n",
       "BGR        0.000000  0.000000  0.000000  0.000000             0.0   \n",
       "\n",
       "        Brokerage and Trading  Alternative Beliefs  Medicine  Child Education  \\\n",
       "alpha3                                                                          \n",
       "UKR                  2.631579                  0.0       0.0              0.0   \n",
       "COL                  3.719599                  0.0       0.0              0.0   \n",
       "KOR                  0.194771                  0.0       0.0              0.0   \n",
       "USA                  2.744880                  0.0       0.0              0.0   \n",
       "BGR                  2.232487                  0.0       0.0              0.0   \n",
       "\n",
       "        Remote Access  \n",
       "alpha3                 \n",
       "UKR               0.0  \n",
       "COL               0.0  \n",
       "KOR               0.0  \n",
       "USA               0.0  \n",
       "BGR               0.0  \n",
       "\n",
       "[5 rows x 82 columns]"
      ]
     },
     "execution_count": 51,
     "metadata": {},
     "output_type": "execute_result"
    }
   ],
   "source": [
    "metadata = new_metadata_df.merge(metadata_pre, on='alpha2').set_index('alpha3')\n",
    "metadata.head()"
   ]
  },
  {
   "cell_type": "code",
   "execution_count": 52,
   "metadata": {},
   "outputs": [],
   "source": [
    "metadata.to_csv('../output/metadata.csv')"
   ]
  },
  {
   "cell_type": "markdown",
   "metadata": {},
   "source": [
    "## Produce proxy metric\n",
    "Continue producing proxy metric."
   ]
  },
  {
   "cell_type": "code",
   "execution_count": 53,
   "metadata": {
    "colab": {},
    "colab_type": "code",
    "id": "wi_tcC7sJQ1y"
   },
   "outputs": [],
   "source": [
    "countryList =  allCountries.tolist()\n",
    "numCatBlock = []\n",
    "for item in countryList:\n",
    "    numCatBlock.append(len(simMetricDF[simMetricDF[item]!=0]))"
   ]
  },
  {
   "cell_type": "code",
   "execution_count": 54,
   "metadata": {
    "colab": {},
    "colab_type": "code",
    "id": "KExj7Ma-JQ1z"
   },
   "outputs": [],
   "source": [
    "tempDF = pd.DataFrame(index=countryList)\n",
    "tempDF['numCatBlock'] =numCatBlock\n",
    "tempDF = tempDF.sort_values(by='numCatBlock',ascending = False)"
   ]
  },
  {
   "cell_type": "code",
   "execution_count": 55,
   "metadata": {
    "colab": {
     "base_uri": "https://localhost:8080/",
     "height": 35
    },
    "colab_type": "code",
    "id": "0MHEiEemJQ12",
    "outputId": "13afc308-af48-4edc-8a79-7f92a1974c7e"
   },
   "outputs": [
    {
     "name": "stdout",
     "output_type": "stream",
     "text": [
      "We have 55 unique countries\n"
     ]
    }
   ],
   "source": [
    "#Getting all columns i.e. countries\n",
    "simCols=[]\n",
    "for i in range(len(simMetricDF.columns)):\n",
    "    simCols.append(simMetricDF.columns[i])\n",
    "print(\"We have {} unique countries\".format(len(simCols)))"
   ]
  },
  {
   "cell_type": "code",
   "execution_count": 56,
   "metadata": {
    "colab": {
     "base_uri": "https://localhost:8080/",
     "height": 35
    },
    "colab_type": "code",
    "id": "ZIRh_w6mJQ14",
    "outputId": "50db8986-194a-476e-a9c2-0354c0771209"
   },
   "outputs": [
    {
     "name": "stdout",
     "output_type": "stream",
     "text": [
      "We have 1485 unique pairs from these countries including dummy\n"
     ]
    }
   ],
   "source": [
    "#Creating pairs to do calculation of spatial distance\n",
    "from itertools import combinations\n",
    "pairs = [comb for comb in sorted(combinations(simCols, 2))]\n",
    "print(\"We have {} unique pairs from these countries including dummy\".format(len(pairs)))"
   ]
  },
  {
   "cell_type": "code",
   "execution_count": 57,
   "metadata": {
    "colab": {
     "base_uri": "https://localhost:8080/",
     "height": 53
    },
    "colab_type": "code",
    "id": "pKS5fVC9JQ15",
    "outputId": "787c1340-17d8-4386-d351-654edc56dd07"
   },
   "outputs": [
    {
     "name": "stdout",
     "output_type": "stream",
     "text": [
      " **** Similarity is 0.24665160587382973 ****\n",
      " **** Similarity is 0.9936831196804038 ****\n"
     ]
    }
   ],
   "source": [
    "def dist (country1, country2):\n",
    "    c1vec = simMetricDF[country1].values\n",
    "    c2vec = simMetricDF[country2].values\n",
    "    # if both scores are 0,\n",
    "    if np.sum(c1vec)==0 and np.sum(c2vec)==0:\n",
    "        # the two countries have a 100% overlap\n",
    "        return 1\n",
    "    # if only 1 score is 0 and the other isn't,\n",
    "    elif np.sum(c1vec)==0 or np.sum(c2vec)==0:\n",
    "        # countries have a 0% overlap\n",
    "        return 0\n",
    "    # if both scores are nonzero,\n",
    "    # distance is 1 minus the cosine distance.\n",
    "    return 1 - (\n",
    "        spatial.distance.cosine(\n",
    "            c1vec,\n",
    "            c2vec,\n",
    "        )\n",
    "    )\n",
    "    \n",
    "#Both vectors are non zeroes\n",
    "print(\" **** Similarity is {} ****\".format(\n",
    "    dist('AU', 'IN')))\n",
    "\n",
    "# When even one vector is completeley a zero vector\n",
    "print(\" **** Similarity is {} ****\".format(\n",
    "    dist('US', 'AU')))"
   ]
  },
  {
   "cell_type": "code",
   "execution_count": 58,
   "metadata": {
    "colab": {},
    "colab_type": "code",
    "id": "Te_cnhVHJQ17"
   },
   "outputs": [],
   "source": [
    "#NewSimVal will store the similarity value calculated from the spatial cosine distance formula\n",
    "NewSimVals = []\n",
    "for item in pairs:\n",
    "    (country1, country2) = item\n",
    "    NewSimVals.append((item, \n",
    "        dist(country1, country2)))"
   ]
  },
  {
   "cell_type": "code",
   "execution_count": 59,
   "metadata": {
    "colab": {},
    "colab_type": "code",
    "id": "Isr5ZalUJQ18"
   },
   "outputs": [
    {
     "data": {
      "text/html": [
       "<div>\n",
       "<style scoped>\n",
       "    .dataframe tbody tr th:only-of-type {\n",
       "        vertical-align: middle;\n",
       "    }\n",
       "\n",
       "    .dataframe tbody tr th {\n",
       "        vertical-align: top;\n",
       "    }\n",
       "\n",
       "    .dataframe thead th {\n",
       "        text-align: right;\n",
       "    }\n",
       "</style>\n",
       "<table border=\"1\" class=\"dataframe\">\n",
       "  <thead>\n",
       "    <tr style=\"text-align: right;\">\n",
       "      <th></th>\n",
       "      <th>pair</th>\n",
       "      <th>country_code_alpha2_A</th>\n",
       "      <th>country_code_alpha2_B</th>\n",
       "      <th>similarity</th>\n",
       "    </tr>\n",
       "  </thead>\n",
       "  <tbody>\n",
       "    <tr>\n",
       "      <th>0</th>\n",
       "      <td>(AD, AT)</td>\n",
       "      <td>AD</td>\n",
       "      <td>AT</td>\n",
       "      <td>0.646825</td>\n",
       "    </tr>\n",
       "    <tr>\n",
       "      <th>1</th>\n",
       "      <td>(AD, BE)</td>\n",
       "      <td>AD</td>\n",
       "      <td>BE</td>\n",
       "      <td>0.711054</td>\n",
       "    </tr>\n",
       "    <tr>\n",
       "      <th>2</th>\n",
       "      <td>(AD, BR)</td>\n",
       "      <td>AD</td>\n",
       "      <td>BR</td>\n",
       "      <td>0.671948</td>\n",
       "    </tr>\n",
       "    <tr>\n",
       "      <th>3</th>\n",
       "      <td>(AD, CA)</td>\n",
       "      <td>AD</td>\n",
       "      <td>CA</td>\n",
       "      <td>0.692612</td>\n",
       "    </tr>\n",
       "    <tr>\n",
       "      <th>4</th>\n",
       "      <td>(AD, CR)</td>\n",
       "      <td>AD</td>\n",
       "      <td>CR</td>\n",
       "      <td>0.622709</td>\n",
       "    </tr>\n",
       "  </tbody>\n",
       "</table>\n",
       "</div>"
      ],
      "text/plain": [
       "       pair country_code_alpha2_A country_code_alpha2_B  similarity\n",
       "0  (AD, AT)                    AD                    AT    0.646825\n",
       "1  (AD, BE)                    AD                    BE    0.711054\n",
       "2  (AD, BR)                    AD                    BR    0.671948\n",
       "3  (AD, CA)                    AD                    CA    0.692612\n",
       "4  (AD, CR)                    AD                    CR    0.622709"
      ]
     },
     "execution_count": 59,
     "metadata": {},
     "output_type": "execute_result"
    }
   ],
   "source": [
    "simMetricVals = pd.DataFrame(index=pairs, columns = None )\n",
    "simMetricVals['similarity'] = [j for (i,j) in NewSimVals]\n",
    "simMetricVals.reset_index(inplace=True)\n",
    "simMetricVals.rename(columns={'index':'pair'},inplace=True)\n",
    "simMetricVals[['country_code_alpha2_A', 'country_code_alpha2_B']] = pd.DataFrame(simMetricVals['pair'].tolist(), index=simMetricVals.index)\n",
    "simMetricVals = simMetricVals[['pair','country_code_alpha2_A','country_code_alpha2_B','similarity']]\n",
    "simMetricVals.head()"
   ]
  },
  {
   "cell_type": "code",
   "execution_count": 60,
   "metadata": {
    "colab": {
     "base_uri": "https://localhost:8080/",
     "height": 433
    },
    "colab_type": "code",
    "id": "tCDXAKldJQ1-",
    "outputId": "b390fb29-2a19-44dc-8b15-6bfb4a33eabf"
   },
   "outputs": [
    {
     "data": {
      "text/plain": [
       "<matplotlib.axes._subplots.AxesSubplot at 0x7f0c01018c18>"
      ]
     },
     "execution_count": 60,
     "metadata": {},
     "output_type": "execute_result"
    },
    {
     "data": {
      "image/png": "[encoded data removed]",
      "text/plain": [
       "<Figure size 432x288 with 1 Axes>"
      ]
     },
     "metadata": {
      "needs_background": "light"
     },
     "output_type": "display_data"
    }
   ],
   "source": [
    "simMetricVals['similarity'].plot.hist(bins=15)"
   ]
  },
  {
   "cell_type": "markdown",
   "metadata": {
    "colab_type": "text",
    "id": "ixUEoPHaJQ2C"
   },
   "source": [
    "### Introducing blocking *volume* into metric.\n",
    "\n",
    "While our first metric (above) gives us a good sense of blocking overlaps,\n",
    "it fails to show us variation in the *volume* of blocking. Some countries have more blocking than others. We want to account for that.\n",
    "\n",
    "We'll measure the volume of blocking in each country. We'll do that by measuring, for each country, the *proportion* of observations where `censored=True`.\n",
    "\n",
    "We'll also measure the proportion of unique websites blocked (over unique websites tested).\n",
    "\n",
    "We'll then take the average of the normalized scores of these two measurements.\n",
    "\n",
    "By finding similarities in these scores, we'll produce a metric of similarity in website blocking volume."
   ]
  },
  {
   "cell_type": "markdown",
   "metadata": {
    "colab_type": "text",
    "id": "NWcWeQScJQ2G"
   },
   "source": [
    "Now we can compute the similarity in proportions between two countries."
   ]
  },
  {
   "cell_type": "code",
   "execution_count": 345,
   "metadata": {
    "colab": {},
    "colab_type": "code",
    "id": "GaegmRaLJQ2H"
   },
   "outputs": [],
   "source": [
    "# def get_proportion (cc2, \n",
    "#                     numerator='num_observations_blocked',\n",
    "#                     denominator='num_observations',\n",
    "#                    ):\n",
    "#     row = metadata[metadata['alpha2']==cc2]\n",
    "#     return (row[numerator]/row[denominator]).values[0]\n",
    "\n",
    "# def compute_similarity(proportion1, proportion2):\n",
    "#     if proportion1==0 or proportion2 ==0 and (proportion1 != proportion2):\n",
    "#         return 0\n",
    "#     return 1 - abs(proportion1 - proportion3)\n",
    "\n",
    "# def min_max_norm(series):\n",
    "#     return (series-series.min())/(series.max()-series.min())\n",
    "\n",
    "# def compute_similarity_df (**kwargs):\n",
    "#     CountSimilarity = []\n",
    "#     for item in pairs:\n",
    "#         (country1, country2) = item\n",
    "#         similarity = compute_similarity(get_proportion(country1, **kwargs), get_proportion(country2, **kwargs))\n",
    "#         CountSimilarity.append((item, similarity))\n",
    "        \n",
    "#     similarities =\\\n",
    "#         pd.DataFrame(CountSimilarity, columns=[\n",
    "#             'pair',\n",
    "#             'similarity'\n",
    "#         ])\n",
    "    \n",
    "#     similarities['similarity-normalized'] =\\\n",
    "#         min_max_norm(similarities['similarity'])\\\n",
    "    \n",
    "#     return similarities"
   ]
  },
  {
   "cell_type": "code",
   "execution_count": 61,
   "metadata": {},
   "outputs": [],
   "source": [
    "# sims = compute_similarity_df()\n",
    "# sims['similarity-normalized'].plot.hist()"
   ]
  },
  {
   "cell_type": "code",
   "execution_count": 62,
   "metadata": {},
   "outputs": [],
   "source": [
    "# sims[sims['pair']==('US', 'RU')]"
   ]
  },
  {
   "cell_type": "markdown",
   "metadata": {
    "colab_type": "text",
    "id": "cqW0CImEJQ2M"
   },
   "source": [
    "## 4c. Merging these two"
   ]
  },
  {
   "cell_type": "code",
   "execution_count": 63,
   "metadata": {
    "colab": {
     "base_uri": "https://localhost:8080/",
     "height": 419
    },
    "colab_type": "code",
    "id": "79FDP7bEJQ2N",
    "outputId": "62c82a6a-6b67-498d-b04b-dcabec223505"
   },
   "outputs": [
    {
     "data": {
      "text/html": [
       "<div>\n",
       "<style scoped>\n",
       "    .dataframe tbody tr th:only-of-type {\n",
       "        vertical-align: middle;\n",
       "    }\n",
       "\n",
       "    .dataframe tbody tr th {\n",
       "        vertical-align: top;\n",
       "    }\n",
       "\n",
       "    .dataframe thead th {\n",
       "        text-align: right;\n",
       "    }\n",
       "</style>\n",
       "<table border=\"1\" class=\"dataframe\">\n",
       "  <thead>\n",
       "    <tr style=\"text-align: right;\">\n",
       "      <th></th>\n",
       "      <th>pair</th>\n",
       "      <th>country_code_alpha2_A</th>\n",
       "      <th>country_code_alpha2_B</th>\n",
       "      <th>Overall_Similarity</th>\n",
       "    </tr>\n",
       "  </thead>\n",
       "  <tbody>\n",
       "    <tr>\n",
       "      <th>961</th>\n",
       "      <td>(NO, DK)</td>\n",
       "      <td>NO</td>\n",
       "      <td>DK</td>\n",
       "      <td>0.998885</td>\n",
       "    </tr>\n",
       "    <tr>\n",
       "      <th>308</th>\n",
       "      <td>(CO, PE)</td>\n",
       "      <td>CO</td>\n",
       "      <td>PE</td>\n",
       "      <td>0.998619</td>\n",
       "    </tr>\n",
       "    <tr>\n",
       "      <th>783</th>\n",
       "      <td>(LT, NZ)</td>\n",
       "      <td>LT</td>\n",
       "      <td>NZ</td>\n",
       "      <td>0.998256</td>\n",
       "    </tr>\n",
       "    <tr>\n",
       "      <th>1085</th>\n",
       "      <td>(RO, FR)</td>\n",
       "      <td>RO</td>\n",
       "      <td>FR</td>\n",
       "      <td>0.998055</td>\n",
       "    </tr>\n",
       "    <tr>\n",
       "      <th>417</th>\n",
       "      <td>(FR, BE)</td>\n",
       "      <td>FR</td>\n",
       "      <td>BE</td>\n",
       "      <td>0.997712</td>\n",
       "    </tr>\n",
       "    <tr>\n",
       "      <th>...</th>\n",
       "      <td>...</td>\n",
       "      <td>...</td>\n",
       "      <td>...</td>\n",
       "      <td>...</td>\n",
       "    </tr>\n",
       "    <tr>\n",
       "      <th>1403</th>\n",
       "      <td>(VE, DZ)</td>\n",
       "      <td>VE</td>\n",
       "      <td>DZ</td>\n",
       "      <td>0.000000</td>\n",
       "    </tr>\n",
       "    <tr>\n",
       "      <th>1404</th>\n",
       "      <td>(VE, GR)</td>\n",
       "      <td>VE</td>\n",
       "      <td>GR</td>\n",
       "      <td>0.000000</td>\n",
       "    </tr>\n",
       "    <tr>\n",
       "      <th>20</th>\n",
       "      <td>(AD, VE)</td>\n",
       "      <td>AD</td>\n",
       "      <td>VE</td>\n",
       "      <td>0.000000</td>\n",
       "    </tr>\n",
       "    <tr>\n",
       "      <th>1406</th>\n",
       "      <td>(VE, LI)</td>\n",
       "      <td>VE</td>\n",
       "      <td>LI</td>\n",
       "      <td>0.000000</td>\n",
       "    </tr>\n",
       "    <tr>\n",
       "      <th>1484</th>\n",
       "      <td>(ZA, VE)</td>\n",
       "      <td>ZA</td>\n",
       "      <td>VE</td>\n",
       "      <td>0.000000</td>\n",
       "    </tr>\n",
       "  </tbody>\n",
       "</table>\n",
       "<p>1485 rows × 4 columns</p>\n",
       "</div>"
      ],
      "text/plain": [
       "          pair country_code_alpha2_A country_code_alpha2_B  Overall_Similarity\n",
       "961   (NO, DK)                    NO                    DK            0.998885\n",
       "308   (CO, PE)                    CO                    PE            0.998619\n",
       "783   (LT, NZ)                    LT                    NZ            0.998256\n",
       "1085  (RO, FR)                    RO                    FR            0.998055\n",
       "417   (FR, BE)                    FR                    BE            0.997712\n",
       "...        ...                   ...                   ...                 ...\n",
       "1403  (VE, DZ)                    VE                    DZ            0.000000\n",
       "1404  (VE, GR)                    VE                    GR            0.000000\n",
       "20    (AD, VE)                    AD                    VE            0.000000\n",
       "1406  (VE, LI)                    VE                    LI            0.000000\n",
       "1484  (ZA, VE)                    ZA                    VE            0.000000\n",
       "\n",
       "[1485 rows x 4 columns]"
      ]
     },
     "execution_count": 63,
     "metadata": {},
     "output_type": "execute_result"
    }
   ],
   "source": [
    "# MetricDF = pd.merge(\n",
    "#     simMetricVals,\n",
    "#     sims,\n",
    "#     on='pair',\n",
    "#     how='outer')\n",
    "MetricDF = simMetricVals.rename(columns={\n",
    "    'similarity': 'Overall_Similarity',\n",
    "#     'similarity':'Censored_Category_Similarity',\n",
    "#     'similarity-normalized':'Blocking_Proportion_Similarity',\n",
    "})\n",
    "# MetricDF['Overall_Similarity'] = (MetricDF['Censored_Category_Similarity']+ MetricDF['Blocking_Proportion_Similarity'])/2\n",
    "MetricDF = MetricDF.sort_values(by='Overall_Similarity',ascending=False)\n",
    "MetricDF"
   ]
  },
  {
   "cell_type": "code",
   "execution_count": 64,
   "metadata": {
    "colab": {
     "base_uri": "https://localhost:8080/",
     "height": 430
    },
    "colab_type": "code",
    "id": "UUyXMrogJQ2O",
    "outputId": "2de562b1-3659-4552-a6b4-e45b585a592e"
   },
   "outputs": [
    {
     "data": {
      "image/png": "[encoded data removed]",
      "text/plain": [
       "<Figure size 432x288 with 1 Axes>"
      ]
     },
     "metadata": {
      "needs_background": "light"
     },
     "output_type": "display_data"
    }
   ],
   "source": [
    "MetricDF['Overall_Similarity'].plot.hist()\n",
    "plt.show()"
   ]
  },
  {
   "cell_type": "code",
   "execution_count": 65,
   "metadata": {
    "colab": {},
    "colab_type": "code",
    "id": "xS7e2rdvJQ2U"
   },
   "outputs": [],
   "source": [
    "# Add back in Alpha 3\n",
    "iCA = MetricDF['country_code_alpha2_A']\n",
    "iCB = MetricDF['country_code_alpha2_B']\n",
    "\n",
    "countries = {}\n",
    "for country in pycountry.countries:\n",
    "    countries[country.alpha_2] = country.alpha_3\n",
    "\n",
    "\n",
    "a3A = [countries.get(country, 'Unknown code') for country in iCA]\n",
    "a3B = [countries.get(country, 'Unknown code') for country in iCB]\n",
    "\n",
    "MetricDF['country_code_alpha3_A'] = a3A\n",
    "MetricDF['country_code_alpha3_B'] = a3B\n",
    "\n",
    "MetricDF = MetricDF.reset_index()\n",
    "MetricDF = MetricDF.set_index('pair')\n",
    "\n",
    "MetricDF = MetricDF.drop(columns=['index'])"
   ]
  },
  {
   "cell_type": "markdown",
   "metadata": {
    "colab_type": "text",
    "id": "BrNYT1KMJQ2Y"
   },
   "source": [
    "## Generating CSV output"
   ]
  },
  {
   "cell_type": "code",
   "execution_count": 66,
   "metadata": {},
   "outputs": [],
   "source": [
    "MetricDF.to_csv('../output/metrics.csv')"
   ]
  },
  {
   "cell_type": "markdown",
   "metadata": {
    "colab_type": "text",
    "id": "BrNYT1KMJQ2Y"
   },
   "source": [
    "## Generating JSON output\n",
    "\n",
    "*Dropping other columns for JSON conversion format compliance*"
   ]
  },
  {
   "cell_type": "code",
   "execution_count": 67,
   "metadata": {
    "colab": {},
    "colab_type": "code",
    "id": "V5qIdLe7JQ2b"
   },
   "outputs": [],
   "source": [
    "pairs_of_similarities = {}\n",
    "for _, row in MetricDF.iterrows():\n",
    "    countryA = row['country_code_alpha3_A']\n",
    "    countryB = row['country_code_alpha3_B']\n",
    "    country_pair = countryA +'->'+ countryB\n",
    "    pairs_of_similarities[country_pair] = row.to_dict()"
   ]
  },
  {
   "cell_type": "code",
   "execution_count": 68,
   "metadata": {
    "colab": {
     "base_uri": "https://localhost:8080/",
     "height": 125
    },
    "colab_type": "code",
    "id": "Bz-hDEixJQ2c",
    "outputId": "e4053626-cc64-4e5a-b8bf-a79ae5f8599c"
   },
   "outputs": [],
   "source": [
    "output_json = json.dumps(pairs_of_similarities)"
   ]
  },
  {
   "cell_type": "code",
   "execution_count": 69,
   "metadata": {
    "colab": {},
    "colab_type": "code",
    "id": "M4eGx3gVJQ2d"
   },
   "outputs": [],
   "source": [
    "with open('../output/metrics.json', 'w') as outfile:\n",
    "    json.dump(output_json, outfile)"
   ]
  },
  {
   "cell_type": "code",
   "execution_count": 70,
   "metadata": {},
   "outputs": [],
   "source": [
    "!cp ../output/metrics.json ~/Programs/interoperability-demo/data/data.json"
   ]
  },
  {
   "cell_type": "markdown",
   "metadata": {
    "colab_type": "text",
    "id": "TN50poI7bRp-"
   },
   "source": [
    "# Section 3. Hypothesis testing"
   ]
  },
  {
   "cell_type": "markdown",
   "metadata": {
    "colab_type": "text",
    "id": "k2KccZxOuhQg"
   },
   "source": [
    "## Importing the Data"
   ]
  },
  {
   "cell_type": "markdown",
   "metadata": {
    "colab_type": "text",
    "id": "gdn9EYYtt9Nu"
   },
   "source": [
    "Importing the METRICDFJSON DataFrame"
   ]
  },
  {
   "cell_type": "code",
   "execution_count": 3,
   "metadata": {
    "colab": {
     "base_uri": "https://localhost:8080/",
     "height": 35
    },
    "colab_type": "code",
    "id": "J3_bkKujtkZ6",
    "outputId": "a28a9ef5-9bf8-43b9-8817-cafd3837e3ea"
   },
   "outputs": [
    {
     "data": {
      "text/plain": [
       "(1485, 6)"
      ]
     },
     "execution_count": 3,
     "metadata": {},
     "output_type": "execute_result"
    }
   ],
   "source": [
    "metrics = pd.read_csv(\"../output/metrics.csv\")\n",
    "metrics.shape"
   ]
  },
  {
   "cell_type": "markdown",
   "metadata": {
    "colab_type": "text",
    "id": "n_oWSRVHuYS7"
   },
   "source": [
    "Importing non-Internet proxy data files"
   ]
  },
  {
   "cell_type": "code",
   "execution_count": 4,
   "metadata": {
    "colab": {},
    "colab_type": "code",
    "id": "YI8x3U33ufxV"
   },
   "outputs": [
    {
     "data": {
      "text/plain": [
       "(29, 2)"
      ]
     },
     "execution_count": 4,
     "metadata": {},
     "output_type": "execute_result"
    }
   ],
   "source": [
    "#Reading the NATO data\n",
    "NATO = pd.read_pickle(\"../data/iclabcombined_and_hypothesis_data/NATO.pkl\")\n",
    "NATO.shape"
   ]
  },
  {
   "cell_type": "code",
   "execution_count": 5,
   "metadata": {
    "colab": {},
    "colab_type": "code",
    "id": "9DyFrloYvzAU"
   },
   "outputs": [
    {
     "data": {
      "text/plain": [
       "(141, 2)"
      ]
     },
     "execution_count": 5,
     "metadata": {},
     "output_type": "execute_result"
    }
   ],
   "source": [
    "def change_code(input_countries):\n",
    "    input_countries = input_countries.to_list()\n",
    "    countries = {}\n",
    "    for country in pycountry.countries:\n",
    "        countries[country.name] = country.alpha_3\n",
    "    codes = [countries.get(country, 'Unknown code') for country in input_countries]\n",
    "    return codes\n",
    "\n",
    "#Prepping the WEF Data\n",
    "WEF = pd.read_csv(\"../data/iclabcombined_and_hypothesis_data/WEFCompIndex.csv\",index_col=0)\n",
    "WEF['code'] = change_code(WEF['Country'])\n",
    "missCodes =['TWN','KOR','IRL','CZE','RUS','BRN','VNM','GEO','MDA','IRN','BOL','Unknown code','Unknown code','TZA','CIV','GMB','VEN','COD']\n",
    "missIdxs = WEF[WEF['code']=='Unknown code'].index\n",
    "\n",
    "for i in range(len(missIdxs)):\n",
    "    WEF.at[missIdxs[i],'code']= missCodes[i]\n",
    "\n",
    "WEF = WEF[['code','scores']]\n",
    "\n",
    "WEF.shape"
   ]
  },
  {
   "cell_type": "code",
   "execution_count": 6,
   "metadata": {
    "colab": {},
    "colab_type": "code",
    "id": "BqwcvMpLwRjy"
   },
   "outputs": [
    {
     "data": {
      "text/plain": [
       "(49, 2)"
      ]
     },
     "execution_count": 6,
     "metadata": {},
     "output_type": "execute_result"
    }
   ],
   "source": [
    "#Prepping the Commonwealth Data\n",
    "Commonwealth = pd.read_csv(\"../data/iclabcombined_and_hypothesis_data/CWdata.csv\")\n",
    "code = change_code(Commonwealth['COUNTRY'])\n",
    "Commonwealth['code'] = code\n",
    "Commonwealth.at[6,'code']= 'BRN'\n",
    "Commonwealth.at[11,'code']= 'GMB'\n",
    "Commonwealth.at[31,'code']= 'CYP'\n",
    "Commonwealth.at[50,'code']= 'TZA'\n",
    "Commonwealth = Commonwealth[Commonwealth['code']!='Unknown code']\n",
    "\n",
    "Commonwealth.shape"
   ]
  },
  {
   "cell_type": "code",
   "execution_count": 7,
   "metadata": {
    "colab": {},
    "colab_type": "code",
    "id": "Ks2BmUciwh3b"
   },
   "outputs": [
    {
     "data": {
      "text/plain": [
       "(180, 2)"
      ]
     },
     "execution_count": 7,
     "metadata": {},
     "output_type": "execute_result"
    }
   ],
   "source": [
    "#Prepping the Media Freedom Data\n",
    "MediaDF = pd.read_csv('../data/iclabcombined_and_hypothesis_data/PressFreedomIndex.csv').loc[:,['ISO','Score 2019','Rank 2019']].sort_values(by='Rank 2019',ascending=True).set_index(\"Rank 2019\")\n",
    "MediaDF['Score 2019'] = MediaDF['Score 2019'].apply(lambda x : x.replace(',','.') )\n",
    "MediaDF['Score 2019'] = MediaDF['Score 2019'].astype(float)\n",
    "MediaDF.rename(columns={'ISO':'code','Score 2019':'scores'},inplace=True)\n",
    "MediaDF['scores'] = 100 - MediaDF['scores']\n",
    "\n",
    "MediaDF.shape"
   ]
  },
  {
   "cell_type": "code",
   "execution_count": 8,
   "metadata": {
    "colab": {},
    "colab_type": "code",
    "id": "KIC_dytZw6kC"
   },
   "outputs": [
    {
     "data": {
      "text/plain": [
       "(174, 2)"
      ]
     },
     "execution_count": 8,
     "metadata": {},
     "output_type": "execute_result"
    }
   ],
   "source": [
    "#Prepping the FIW (Freedom in the World) Data\n",
    "Freedom = pd.read_csv('../data/iclabcombined_and_hypothesis_data/FH2018.csv')\n",
    "code = change_code(Freedom['Country/Territory'])\n",
    "Freedom['code'] = code\n",
    "Freedom = Freedom[['code','Total']].rename(columns={'Total':'scores'})\n",
    "Freedom = Freedom.sort_values(by='scores',ascending=False)\n",
    "Freedom = Freedom[Freedom['code']!='Unknown code']\n",
    "Freedom.shape"
   ]
  },
  {
   "cell_type": "markdown",
   "metadata": {
    "colab_type": "text",
    "id": "MgPK89cKXPj7"
   },
   "source": [
    "## General purpose functions to test our hypothesis'."
   ]
  },
  {
   "cell_type": "markdown",
   "metadata": {
    "colab_type": "text",
    "id": "kt7G2G-Bn0IZ"
   },
   "source": [
    "We will be using the Mann Whitney U test to determine if two groups are similar to each other or not. This is a non-parametric test used for samples of at least size 20 when the samples dont originate from normal distributions. To learn more refer the link below:\n",
    "\n",
    "[MannWhitneyUTest](https://machinelearningmastery.com/nonparametric-statistical-significance-tests-in-python/)"
   ]
  },
  {
   "cell_type": "code",
   "execution_count": 9,
   "metadata": {
    "colab": {
     "base_uri": "https://localhost:8080/",
     "height": 71
    },
    "colab_type": "code",
    "id": "lwYIQzJCzxXl",
    "outputId": "5e651de7-6252-4c80-ca42-afb6124d520a"
   },
   "outputs": [],
   "source": [
    "def correlation (df):\n",
    "    blocking_sims = []\n",
    "    wef_sims = []\n",
    "    print('warn! no data on:', end=\" \")\n",
    "    \n",
    "    def get_value (country):\n",
    "        try:\n",
    "            return df[df['code']==country].scores.values[0]\n",
    "        except:\n",
    "            print(country, end=' ')\n",
    "            return 0\n",
    "    \n",
    "    for _, row in metrics.iterrows():\n",
    "        country1 = row['country_code_alpha3_A']\n",
    "        country2 = row['country_code_alpha3_B']\n",
    "        country1_wef = get_value(country1)\n",
    "        country2_wef = get_value(country2)\n",
    "        sim = 100 - abs(country1_wef - country2_wef)\n",
    "        wef_sim = sim/100\n",
    "        wef_sims.append(wef_sim)\n",
    "        blocking_sim = row['Overall_Similarity']\n",
    "        blocking_sims.append(blocking_sim)\n",
    "        \n",
    "    deg_freedom = len(blocking_sims)-2\n",
    "    (corr, p_val) = scipy.stats.pearsonr(blocking_sims, wef_sims)\n",
    "    \n",
    "    return {\n",
    "        'corr': corr, \n",
    "        'p-value': p_val,\n",
    "        'degrees of freedom': deg_freedom,\n",
    "    }"
   ]
  },
  {
   "cell_type": "code",
   "execution_count": 10,
   "metadata": {
    "colab": {},
    "colab_type": "code",
    "id": "6Q0qeWPpecAg"
   },
   "outputs": [],
   "source": [
    "def Hypo_Test_Groups(df):\n",
    "    '''\n",
    "    Parameters:\n",
    "    Dataframe of non-interent proxy\n",
    "    \n",
    "    Used when our proxy measure buckets countries based on their presence or absence in a group e.g. NATO or CommonWealth\n",
    "    Creates 2 buckets\n",
    "    One for an edge where both vertices are countries that are members of a given group\n",
    "    Another for an edge where one vertice belongs to member country and another to a non-member country.\n",
    "    \n",
    "    Returns:\n",
    "    p value for the MannWhitneyU test run on these two buckets\n",
    "    variances for these two buckets\n",
    "    '''\n",
    "    \n",
    "    #List of countries which are in the Affinity group like NATO or Commonwealth\n",
    "    AffinityGroup = df['code'].to_list()\n",
    "    \n",
    "    #Determining indexes of our two buckets\n",
    "    #One bucket is for similar edges i.e. both countries are members of a group\n",
    "    #The other bucket is for dissimilar edges i.e. while one country is a group member the other is not\n",
    "    allIndex = metrics.index.to_list()\n",
    "    nonMembersIndex =  (metrics[~((metrics['country_code_alpha3_A'].isin(AffinityGroup)) | (metrics['country_code_alpha3_B'].isin(AffinityGroup)))]).index.to_list()\n",
    "    bothMembersIndex = (metrics[(metrics['country_code_alpha3_A'].isin(AffinityGroup)) & (metrics['country_code_alpha3_B'].isin(AffinityGroup))]).index.to_list()\n",
    "    oneMemberIndex =  [idx for idx in allIndex if idx not in (nonMembersIndex+bothMembersIndex)]\n",
    "    \n",
    "    #Similarity scores for the two buckets\n",
    "    Member2MemberScores = metrics.loc[bothMembersIndex]['Overall_Similarity'].to_list()\n",
    "    Member2NonMemberScores = metrics.loc[oneMemberIndex]['Overall_Similarity'].to_list()\n",
    "    \n",
    "    #MannWhitneyUTest\n",
    "    tScore,p = scipy.stats.mannwhitneyu(Member2MemberScores,Member2NonMemberScores,use_continuity=True,alternative='greater')\n",
    "    testResults = {'test score':tScore, 'p Value':p}\n",
    "    \n",
    "    variancesDict = {\n",
    "        'Varinace between Similiar Edges' : statistics.variance(Member2MemberScores),\n",
    "        'Variance between Dissimilar Edges' : statistics.variance(Member2NonMemberScores),\n",
    "    }\n",
    "    \n",
    "    mediansDict = {\n",
    "        'Median of hyp. greater group': np.median(Member2MemberScores),\n",
    "        'Median of hyp. less group': np.median(Member2NonMemberScores),\n",
    "    }\n",
    "    \n",
    "    return testResults, variancesDict, mediansDict"
   ]
  },
  {
   "cell_type": "markdown",
   "metadata": {
    "colab_type": "text",
    "id": "TSl2v_JOLLig"
   },
   "source": [
    "## Military Alliance (NATO Members)"
   ]
  },
  {
   "cell_type": "markdown",
   "metadata": {
    "colab_type": "text",
    "id": "4ICFlC26iTvC"
   },
   "source": [
    "The North Atlantic Treaty Organization, also called the North Atlantic Alliance, is an intergovernmental military alliance between 30 North American and European countries\n",
    "\n",
    "Learn More: \n",
    "\n",
    "[About NATO](https://en.wikipedia.org/wiki/Member_states_of_NATO)"
   ]
  },
  {
   "cell_type": "code",
   "execution_count": 11,
   "metadata": {
    "colab": {
     "base_uri": "https://localhost:8080/",
     "height": 142
    },
    "colab_type": "code",
    "id": "37_j44xYoUrW",
    "outputId": "8eb4190f-f197-48a0-e007-272ebe8cea49"
   },
   "outputs": [
    {
     "data": {
      "text/html": [
       "<div>\n",
       "<style scoped>\n",
       "    .dataframe tbody tr th:only-of-type {\n",
       "        vertical-align: middle;\n",
       "    }\n",
       "\n",
       "    .dataframe tbody tr th {\n",
       "        vertical-align: top;\n",
       "    }\n",
       "\n",
       "    .dataframe thead th {\n",
       "        text-align: right;\n",
       "    }\n",
       "</style>\n",
       "<table border=\"1\" class=\"dataframe\">\n",
       "  <thead>\n",
       "    <tr style=\"text-align: right;\">\n",
       "      <th></th>\n",
       "      <th>CNTRY_NAME</th>\n",
       "      <th>code</th>\n",
       "    </tr>\n",
       "  </thead>\n",
       "  <tbody>\n",
       "    <tr>\n",
       "      <th>0</th>\n",
       "      <td>Albania</td>\n",
       "      <td>ALB</td>\n",
       "    </tr>\n",
       "    <tr>\n",
       "      <th>1</th>\n",
       "      <td>Belgium</td>\n",
       "      <td>BEL</td>\n",
       "    </tr>\n",
       "    <tr>\n",
       "      <th>2</th>\n",
       "      <td>Bulgaria</td>\n",
       "      <td>BGR</td>\n",
       "    </tr>\n",
       "  </tbody>\n",
       "</table>\n",
       "</div>"
      ],
      "text/plain": [
       "  CNTRY_NAME code\n",
       "0    Albania  ALB\n",
       "1    Belgium  BEL\n",
       "2   Bulgaria  BGR"
      ]
     },
     "execution_count": 11,
     "metadata": {},
     "output_type": "execute_result"
    }
   ],
   "source": [
    "#Checking the Data\n",
    "NATO.head(3)"
   ]
  },
  {
   "cell_type": "markdown",
   "metadata": {
    "colab_type": "text",
    "id": "zzdAG2ogNi7u"
   },
   "source": [
    "Essentially testing - Countries are more similar to each other in Internet Censorship when they are NATO members as opposed to when one of them is a NATO member and the other isnt\n",
    "\n",
    "**H0** - SIMILARITY SCORE FOR country pairs wherein both are memebers of NATO AND country pairs wherein one country is a member of NATO while the other isnt ARE SIMILIAR \n",
    "                          \n",
    "\n",
    "H1 - SIMILARITY SCORES FOR country pairs wherein both are memebers of NATO IS GREATER THAN country pairs wherein one country is a member of NATO while the other isnt. \n"
   ]
  },
  {
   "cell_type": "code",
   "execution_count": 12,
   "metadata": {
    "colab": {
     "base_uri": "https://localhost:8080/",
     "height": 71
    },
    "colab_type": "code",
    "id": "UdKDtPFXgire",
    "outputId": "650f38b7-8824-4cb0-ed76-b39dd49d8c69"
   },
   "outputs": [
    {
     "data": {
      "text/plain": [
       "({'test score': 93709.0, 'p Value': 2.3951301489966563e-18},\n",
       " {'Varinace between Similiar Edges': 0.044531930749155256,\n",
       "  'Variance between Dissimilar Edges': 0.08457638704727212},\n",
       " {'Median of hyp. greater group': 0.9718409531936592,\n",
       "  'Median of hyp. less group': 0.8962783727756418})"
      ]
     },
     "execution_count": 12,
     "metadata": {},
     "output_type": "execute_result"
    }
   ],
   "source": [
    "Hypo_Test_Groups(NATO)"
   ]
  },
  {
   "cell_type": "markdown",
   "metadata": {
    "colab_type": "text",
    "id": "s3xZHWEkM9ND"
   },
   "source": [
    "Since the above p value is lesser than threshold(0.5), we can reject H0\n",
    "\n",
    "Hence we can conclude that countries which are memebrs of NATO are more similar to each other than to countries which arent members of NATO\n",
    "\n",
    "As expected non-members states have much higher variance than member states"
   ]
  },
  {
   "cell_type": "markdown",
   "metadata": {
    "colab_type": "text",
    "id": "LRU1AaZNRov2"
   },
   "source": [
    "## Economy (WEF Competitiveness Index)"
   ]
  },
  {
   "cell_type": "markdown",
   "metadata": {
    "colab_type": "text",
    "id": "dxM-FnIskmdG"
   },
   "source": [
    "The World Economic Forums Global Competitiveness Index measures the set of institutions, policies, and factors that set the sustainable current and medium-term levels of economic prosperity. The Global Competitiveness Index's annual reports are somewhat similar to the Ease of Doing Business Index.\n",
    "\n",
    "Learn More:\n",
    "\n",
    "[WEF 2019 Report](https://en.wikipedia.org/wiki/Global_Competitiveness_Report)"
   ]
  },
  {
   "cell_type": "code",
   "execution_count": 86,
   "metadata": {
    "colab": {
     "base_uri": "https://localhost:8080/",
     "height": 142
    },
    "colab_type": "code",
    "id": "ONyI_2e-Rurk",
    "outputId": "23cb051d-a1b3-4889-953b-0289f9788fbd"
   },
   "outputs": [],
   "source": [
    "# Reading the Data\n",
    "# WEF.head(3)\n",
    "# wef_subset.head(3)"
   ]
  },
  {
   "cell_type": "markdown",
   "metadata": {
    "colab_type": "text",
    "id": "nh0Dc6S2jmq_"
   },
   "source": [
    "### Test 1: Correlation\n",
    "We compute simliarities between WEF scores across country pairs. "
   ]
  },
  {
   "cell_type": "code",
   "execution_count": 87,
   "metadata": {},
   "outputs": [],
   "source": [
    "# correlation(WEF)"
   ]
  },
  {
   "cell_type": "markdown",
   "metadata": {
    "colab_type": "text",
    "id": "nh0Dc6S2jmq_"
   },
   "source": [
    "### Test 2: High-weight connections\n",
    "Correlate WEF scores with # of high-weight connections for each country."
   ]
  },
  {
   "cell_type": "code",
   "execution_count": 88,
   "metadata": {},
   "outputs": [],
   "source": [
    "# # take only WEF countries for which we have data\n",
    "# wef_subset = WEF.merge(\n",
    "#     metrics.groupby('country_code_alpha3_A').count()['pair'],\n",
    "#     left_on='code',\n",
    "#     right_on='country_code_alpha3_A', \n",
    "#     how='right'\n",
    "# ).drop(columns=['pair']).dropna()\n",
    "\n",
    "# wef_subset.shape"
   ]
  },
  {
   "cell_type": "code",
   "execution_count": 377,
   "metadata": {},
   "outputs": [],
   "source": [
    "# def correlate_by_threshold (thresh):\n",
    "#     '''\n",
    "#     For each country, count the number of weights which are greater than or equal to `thresh`.\n",
    "    \n",
    "#     Compute Pearson correlation between this number and WEF index.\n",
    "#     '''\n",
    "\n",
    "#     num_connections =\\\n",
    "#         metrics[metrics['Overall_Similarity']>=thresh]\\\n",
    "#             .groupby('country_code_alpha3_A')\\\n",
    "#             .count()[['Overall_Similarity']]\n",
    "    \n",
    "    \n",
    "#     # merge WEF left to make sure we don't drop any countries that didn't meet threshold!\n",
    "#     scores_to_conns = wef_subset.merge(num_connections, \n",
    "#                                 left_on='code',\n",
    "#                                 right_on='country_code_alpha3_A', \n",
    "#                                 how='left', # use only keys from left df\n",
    "#                                )\\\n",
    "#         .fillna(0) # any NaN values must have not met threshold above, and have 0 connections\n",
    "    \n",
    "#     deg_freedom = len(scores_to_conns)-2\n",
    "#     (corr, p_val) = scipy.stats.pearsonr(\n",
    "#         scores_to_conns['Overall_Similarity'].values, \n",
    "#         scores_to_conns['scores'].values, \n",
    "#     )\n",
    "#     return {\n",
    "#         'correlation': corr,\n",
    "#         'p-value': p_val,\n",
    "#         'deg-freedom': deg_freedom,\n",
    "#     }"
   ]
  },
  {
   "cell_type": "code",
   "execution_count": 378,
   "metadata": {},
   "outputs": [
    {
     "data": {
      "text/plain": [
       "1.0"
      ]
     },
     "execution_count": 378,
     "metadata": {},
     "output_type": "execute_result"
    }
   ],
   "source": [
    "# quantile95 = metrics['Overall_Similarity'].quantile(0.95)\n",
    "# quantile95"
   ]
  },
  {
   "cell_type": "code",
   "execution_count": 379,
   "metadata": {},
   "outputs": [
    {
     "data": {
      "text/plain": [
       "{'correlation': 0.18214735111244473,\n",
       " 'p-value': 0.19621991257519003,\n",
       " 'deg-freedom': 50}"
      ]
     },
     "execution_count": 379,
     "metadata": {},
     "output_type": "execute_result"
    }
   ],
   "source": [
    "# correlate_by_threshold(quantile95)"
   ]
  },
  {
   "cell_type": "markdown",
   "metadata": {
    "colab_type": "text",
    "id": "g2esjFV4jbi9"
   },
   "source": [
    "## EU"
   ]
  },
  {
   "cell_type": "code",
   "execution_count": 13,
   "metadata": {},
   "outputs": [],
   "source": [
    "def to_country_df (country_list):\n",
    "\n",
    "    ccs = pd.read_csv('../data/utils/countries_codes_and_coordinates.csv')\n",
    "    \n",
    "    cdf = []\n",
    "    for name in country_list:\n",
    "        try:\n",
    "            alpha3cc = ccs[ccs['Country'] == name]['Alpha-3 code'].values[0][2:-1]\n",
    "        except:\n",
    "            pass\n",
    "        cdf.append([name, alpha3cc])\n",
    "    \n",
    "    return pd.DataFrame(cdf, columns=['CNTRY_NAME', 'code'])"
   ]
  },
  {
   "cell_type": "code",
   "execution_count": 14,
   "metadata": {},
   "outputs": [],
   "source": [
    "EU_western_bloc = [\n",
    "'Austria',\n",
    "'Belgium',\n",
    "'Republic of Cyprus',\n",
    "'Denmark',\n",
    "'Finland',\n",
    "'France',\n",
    "'Germany',\n",
    "'Greece',\n",
    "'Ireland',\n",
    "'Italy',\n",
    "'Luxembourg',\n",
    "'Malta',\n",
    "'Netherlands',\n",
    "'Portugal',\n",
    "'Spain',\n",
    "'Iceland',\n",
    "'Norway',\n",
    "'Sweden',\n",
    "]\n",
    "\n",
    "\n",
    "\n",
    "EU_eastern_bloc = [\n",
    "'Croatia',\n",
    "'Bulgaria',\n",
    "'Poland',\n",
    "'Hungary',\n",
    "'Estonia',\n",
    "'Latvia',\n",
    "'Lithuania',\n",
    "'Romania',\n",
    "'Slovakia',\n",
    "'Slovenia',\n",
    "'Czech Republic',\n",
    "]"
   ]
  },
  {
   "cell_type": "code",
   "execution_count": 15,
   "metadata": {},
   "outputs": [],
   "source": [
    "EU = EU_western_bloc + EU_eastern_bloc"
   ]
  },
  {
   "cell_type": "code",
   "execution_count": 16,
   "metadata": {},
   "outputs": [],
   "source": [
    "EU = to_country_df(EU)"
   ]
  },
  {
   "cell_type": "code",
   "execution_count": 17,
   "metadata": {},
   "outputs": [
    {
     "data": {
      "text/plain": [
       "({'test score': 99666.0, 'p Value': 2.436867818297719e-26},\n",
       " {'Varinace between Similiar Edges': 0.004004621794242238,\n",
       "  'Variance between Dissimilar Edges': 0.08347596193500928},\n",
       " {'Median of hyp. greater group': 0.9714044190122644,\n",
       "  'Median of hyp. less group': 0.8975208589707833})"
      ]
     },
     "execution_count": 17,
     "metadata": {},
     "output_type": "execute_result"
    }
   ],
   "source": [
    "Hypo_Test_Groups(EU)"
   ]
  },
  {
   "cell_type": "code",
   "execution_count": 18,
   "metadata": {},
   "outputs": [
    {
     "data": {
      "text/plain": [
       "({'test score': 32701.0, 'p Value': 9.385629492817328e-15},\n",
       " {'Varinace between Similiar Edges': 0.0006587075095761508,\n",
       "  'Variance between Dissimilar Edges': 0.0765169394161586},\n",
       " {'Median of hyp. greater group': 0.9763936656212899,\n",
       "  'Median of hyp. less group': 0.9258044676803503})"
      ]
     },
     "execution_count": 18,
     "metadata": {},
     "output_type": "execute_result"
    }
   ],
   "source": [
    "Hypo_Test_Groups(to_country_df(EU_western_bloc))"
   ]
  },
  {
   "cell_type": "code",
   "execution_count": 19,
   "metadata": {},
   "outputs": [
    {
     "data": {
      "text/plain": [
       "({'test score': 4327.0, 'p Value': 0.040895925351540095},\n",
       " {'Varinace between Similiar Edges': 0.008129016293259479,\n",
       "  'Variance between Dissimilar Edges': 0.0670128207045829},\n",
       " {'Median of hyp. greater group': 0.96855711861864,\n",
       "  'Median of hyp. less group': 0.9257906662066757})"
      ]
     },
     "execution_count": 19,
     "metadata": {},
     "output_type": "execute_result"
    }
   ],
   "source": [
    "Hypo_Test_Groups(to_country_df(EU_eastern_bloc))"
   ]
  },
  {
   "cell_type": "code",
   "execution_count": null,
   "metadata": {},
   "outputs": [],
   "source": [
    "# test directional hypothesis "
   ]
  },
  {
   "cell_type": "markdown",
   "metadata": {
    "colab_type": "text",
    "id": "g2esjFV4jbi9"
   },
   "source": [
    "## ASEAN"
   ]
  },
  {
   "cell_type": "code",
   "execution_count": 112,
   "metadata": {},
   "outputs": [
    {
     "data": {
      "text/html": [
       "<div>\n",
       "<style scoped>\n",
       "    .dataframe tbody tr th:only-of-type {\n",
       "        vertical-align: middle;\n",
       "    }\n",
       "\n",
       "    .dataframe tbody tr th {\n",
       "        vertical-align: top;\n",
       "    }\n",
       "\n",
       "    .dataframe thead th {\n",
       "        text-align: right;\n",
       "    }\n",
       "</style>\n",
       "<table border=\"1\" class=\"dataframe\">\n",
       "  <thead>\n",
       "    <tr style=\"text-align: right;\">\n",
       "      <th></th>\n",
       "      <th>CNTRY_NAME</th>\n",
       "      <th>code</th>\n",
       "    </tr>\n",
       "  </thead>\n",
       "  <tbody>\n",
       "    <tr>\n",
       "      <th>0</th>\n",
       "      <td>Indonesia</td>\n",
       "      <td>IDN</td>\n",
       "    </tr>\n",
       "    <tr>\n",
       "      <th>1</th>\n",
       "      <td>Thailand</td>\n",
       "      <td>THA</td>\n",
       "    </tr>\n",
       "    <tr>\n",
       "      <th>2</th>\n",
       "      <td>Malaysia</td>\n",
       "      <td>MYS</td>\n",
       "    </tr>\n",
       "    <tr>\n",
       "      <th>3</th>\n",
       "      <td>Singapore</td>\n",
       "      <td>SGP</td>\n",
       "    </tr>\n",
       "    <tr>\n",
       "      <th>4</th>\n",
       "      <td>Philippines</td>\n",
       "      <td>PHL</td>\n",
       "    </tr>\n",
       "    <tr>\n",
       "      <th>5</th>\n",
       "      <td>Vietnam</td>\n",
       "      <td>VNM</td>\n",
       "    </tr>\n",
       "    <tr>\n",
       "      <th>6</th>\n",
       "      <td>Brunei</td>\n",
       "      <td>BRN</td>\n",
       "    </tr>\n",
       "    <tr>\n",
       "      <th>7</th>\n",
       "      <td>Cambodia</td>\n",
       "      <td>KHM</td>\n",
       "    </tr>\n",
       "    <tr>\n",
       "      <th>8</th>\n",
       "      <td>Myanmar</td>\n",
       "      <td>MMR</td>\n",
       "    </tr>\n",
       "    <tr>\n",
       "      <th>9</th>\n",
       "      <td>Laos</td>\n",
       "      <td>MMR</td>\n",
       "    </tr>\n",
       "  </tbody>\n",
       "</table>\n",
       "</div>"
      ],
      "text/plain": [
       "    CNTRY_NAME code\n",
       "0    Indonesia  IDN\n",
       "1     Thailand  THA\n",
       "2     Malaysia  MYS\n",
       "3    Singapore  SGP\n",
       "4  Philippines  PHL\n",
       "5      Vietnam  VNM\n",
       "6       Brunei  BRN\n",
       "7     Cambodia  KHM\n",
       "8      Myanmar  MMR\n",
       "9         Laos  MMR"
      ]
     },
     "execution_count": 112,
     "metadata": {},
     "output_type": "execute_result"
    }
   ],
   "source": [
    "ASEAN = to_country_df([\n",
    "'Indonesia', \n",
    "'Thailand', \n",
    "'Malaysia', \n",
    "'Singapore', \n",
    "'Philippines', \n",
    "'Vietnam', \n",
    "'Brunei', \n",
    "'Cambodia', \n",
    "'Myanmar', \n",
    "'Laos',\n",
    "])\n",
    "ASEAN"
   ]
  },
  {
   "cell_type": "code",
   "execution_count": 113,
   "metadata": {},
   "outputs": [
    {
     "data": {
      "text/plain": [
       "({'test score': 814.0, 'p Value': 0.08479598840191321},\n",
       " {'Varinace between Similiar Edges': 0.004172228145725306,\n",
       "  'Variance between Dissimilar Edges': 0.05104646471750351},\n",
       " {'Median of hyp. greater group': 0.8183288786858869,\n",
       "  'Median of hyp. less group': 0.7621204846061269})"
      ]
     },
     "execution_count": 113,
     "metadata": {},
     "output_type": "execute_result"
    }
   ],
   "source": [
    "Hypo_Test_Groups(ASEAN)"
   ]
  },
  {
   "cell_type": "markdown",
   "metadata": {
    "colab_type": "text",
    "id": "yJvpa_PVirs8"
   },
   "source": [
    "## Historical relationships (Commonwealth Members)"
   ]
  },
  {
   "cell_type": "markdown",
   "metadata": {
    "colab_type": "text",
    "id": "6AfF0X5wleAn"
   },
   "source": [
    "The Commonwealth of Nations is a political association of 54 member states, nearly all former territories of the British Empire. Member states have no legal obligations to one another, but are connected through their use of the English language and historical ties.\n",
    "\n",
    "Learn More:\n",
    "[Commonwealth of Nations](https://en.wikipedia.org/wiki/Commonwealth_of_Nations)"
   ]
  },
  {
   "cell_type": "code",
   "execution_count": 91,
   "metadata": {
    "colab": {
     "base_uri": "https://localhost:8080/",
     "height": 142
    },
    "colab_type": "code",
    "id": "8QBTPPfLVAcN",
    "outputId": "e3cdd14b-159e-4760-840c-b0eb301ccf02"
   },
   "outputs": [
    {
     "data": {
      "text/html": [
       "<div>\n",
       "<style scoped>\n",
       "    .dataframe tbody tr th:only-of-type {\n",
       "        vertical-align: middle;\n",
       "    }\n",
       "\n",
       "    .dataframe tbody tr th {\n",
       "        vertical-align: top;\n",
       "    }\n",
       "\n",
       "    .dataframe thead th {\n",
       "        text-align: right;\n",
       "    }\n",
       "</style>\n",
       "<table border=\"1\" class=\"dataframe\">\n",
       "  <thead>\n",
       "    <tr style=\"text-align: right;\">\n",
       "      <th></th>\n",
       "      <th>COUNTRY</th>\n",
       "      <th>code</th>\n",
       "    </tr>\n",
       "  </thead>\n",
       "  <tbody>\n",
       "    <tr>\n",
       "      <th>0</th>\n",
       "      <td>Antigua and Barbuda</td>\n",
       "      <td>ATG</td>\n",
       "    </tr>\n",
       "    <tr>\n",
       "      <th>1</th>\n",
       "      <td>Australia</td>\n",
       "      <td>AUS</td>\n",
       "    </tr>\n",
       "    <tr>\n",
       "      <th>2</th>\n",
       "      <td>Bangladesh</td>\n",
       "      <td>BGD</td>\n",
       "    </tr>\n",
       "  </tbody>\n",
       "</table>\n",
       "</div>"
      ],
      "text/plain": [
       "               COUNTRY code\n",
       "0  Antigua and Barbuda  ATG\n",
       "1            Australia  AUS\n",
       "2           Bangladesh  BGD"
      ]
     },
     "execution_count": 91,
     "metadata": {},
     "output_type": "execute_result"
    }
   ],
   "source": [
    "#Reading the Data\n",
    "Commonwealth.head(3)"
   ]
  },
  {
   "cell_type": "markdown",
   "metadata": {
    "colab_type": "text",
    "id": "F19w2wP04A0a"
   },
   "source": [
    "Essentially testing - Countries are more similar to each other in Internet Censorship when they are culturally aligned (e.g. both are Commonwealth nations) as opposed to when one of them is a Commonwealth member and the other isnt\n",
    "\n",
    "**H0** - SIMILARITY SCORE FOR country pairs wherein both are memebers of Commonwealth AND country pairs wherein one country is a member of Commonwealth while the other isnt ARE SIMILIAR \n",
    "                          \n",
    "\n",
    "H1 - SIMILARITY SCORES FOR country pairs wherein both are memebers of Commonwealth IS GREATER THAN country pairs wherein one country is a member of Commonwealth while the other isnt. \n"
   ]
  },
  {
   "cell_type": "code",
   "execution_count": 92,
   "metadata": {
    "colab": {
     "base_uri": "https://localhost:8080/",
     "height": 71
    },
    "colab_type": "code",
    "id": "FLP_JuPkjDOp",
    "outputId": "f1e58a0b-28a6-483e-e79e-3fb1acae0b0d"
   },
   "outputs": [
    {
     "data": {
      "text/plain": [
       "({'test score': 9922.0, 'p Value': 0.5880120810986699},\n",
       " {'Varinace between Similiar Edges': 0.08164443947702109,\n",
       "  'Variance between Dissimilar Edges': 0.0871937823666309},\n",
       " {'Median of hyp. greater group': 0.8888904498201586,\n",
       "  'Median of hyp. less group': 0.8905603352785265})"
      ]
     },
     "execution_count": 92,
     "metadata": {},
     "output_type": "execute_result"
    }
   ],
   "source": [
    "Hypo_Test_Groups(Commonwealth)"
   ]
  },
  {
   "cell_type": "markdown",
   "metadata": {
    "colab_type": "text",
    "id": "Co4F93DybZmX"
   },
   "source": [
    "Since the above p value is greater than threshold(0.5), we CAN NOT reject H0\n",
    "\n",
    "Hence we CAN NOT SAY that countries which are memebrs of commonwealth are more similar to each other than to countries which arent members of COMMONWEALTH.\n",
    "\n",
    "Chances are a country could be as similar to a member of commonwealth in terms of its internet censorship as it could be to a non member\n",
    "\n",
    "The variance calculated for these two buckets also demonstrates the same"
   ]
  },
  {
   "cell_type": "markdown",
   "metadata": {
    "colab_type": "text",
    "id": "IvijQ-Lxbusz"
   },
   "source": [
    "## Media Freedom (World Freedom of Press Index)"
   ]
  },
  {
   "cell_type": "markdown",
   "metadata": {
    "colab_type": "text",
    "id": "sy0VTSIOxXW0"
   },
   "source": [
    "The WORLD PRESS FREEDOM INDEX by Reporters Without Borders ranks 180 countries and regions according to the level of freedom available to journalists. It is a snapshot of the media freedom situation based on an evaluation of pluralism, independence of the media, quality of legislative framework and safety of journalists in each country and region.\n",
    "\n",
    "Learn More:\n",
    "\n",
    "Reporters Without Borders Report [2019 Ranking](https://rsf.org/en/ranking/2019)\n",
    "\n"
   ]
  },
  {
   "cell_type": "code",
   "execution_count": 93,
   "metadata": {
    "colab": {
     "base_uri": "https://localhost:8080/",
     "height": 173
    },
    "colab_type": "code",
    "id": "HViBsQCSb0Ek",
    "outputId": "332c16ff-7b89-44df-faba-69408663203c"
   },
   "outputs": [
    {
     "data": {
      "text/html": [
       "<div>\n",
       "<style scoped>\n",
       "    .dataframe tbody tr th:only-of-type {\n",
       "        vertical-align: middle;\n",
       "    }\n",
       "\n",
       "    .dataframe tbody tr th {\n",
       "        vertical-align: top;\n",
       "    }\n",
       "\n",
       "    .dataframe thead th {\n",
       "        text-align: right;\n",
       "    }\n",
       "</style>\n",
       "<table border=\"1\" class=\"dataframe\">\n",
       "  <thead>\n",
       "    <tr style=\"text-align: right;\">\n",
       "      <th></th>\n",
       "      <th>code</th>\n",
       "      <th>scores</th>\n",
       "    </tr>\n",
       "    <tr>\n",
       "      <th>Rank 2019</th>\n",
       "      <th></th>\n",
       "      <th></th>\n",
       "    </tr>\n",
       "  </thead>\n",
       "  <tbody>\n",
       "    <tr>\n",
       "      <th>1</th>\n",
       "      <td>NOR</td>\n",
       "      <td>92.18</td>\n",
       "    </tr>\n",
       "    <tr>\n",
       "      <th>2</th>\n",
       "      <td>FIN</td>\n",
       "      <td>92.10</td>\n",
       "    </tr>\n",
       "    <tr>\n",
       "      <th>3</th>\n",
       "      <td>SWE</td>\n",
       "      <td>91.69</td>\n",
       "    </tr>\n",
       "  </tbody>\n",
       "</table>\n",
       "</div>"
      ],
      "text/plain": [
       "          code  scores\n",
       "Rank 2019             \n",
       "1          NOR   92.18\n",
       "2          FIN   92.10\n",
       "3          SWE   91.69"
      ]
     },
     "execution_count": 93,
     "metadata": {},
     "output_type": "execute_result"
    }
   ],
   "source": [
    "#Reading the Data\n",
    "MediaDF.head(3)"
   ]
  },
  {
   "cell_type": "code",
   "execution_count": 94,
   "metadata": {},
   "outputs": [
    {
     "name": "stdout",
     "output_type": "stream",
     "text": [
      "warn! no data on: "
     ]
    },
    {
     "data": {
      "text/plain": [
       "{'corr': 0.36011982117527797,\n",
       " 'p-value': 1.0654525946750461e-46,\n",
       " 'degrees of freedom': 1483}"
      ]
     },
     "execution_count": 94,
     "metadata": {},
     "output_type": "execute_result"
    }
   ],
   "source": [
    "correlation(MediaDF)"
   ]
  },
  {
   "cell_type": "markdown",
   "metadata": {
    "colab_type": "text",
    "id": "V36DLT4yu6cj"
   },
   "source": [
    "## Civil Rights and Freedom  (Freedom in the World Index)"
   ]
  },
  {
   "cell_type": "markdown",
   "metadata": {
    "colab_type": "text",
    "id": "kkAuQdqovUFE"
   },
   "source": [
    "The Quality of Nationality Index (QNI) ranks the objective quality of nationalities worldwide. It explores three internal factors (economic strength, human development, and peace and stability) and four external factors (diversity and weight of travel freedom and diversity and weight of settlement freedom) which are used to measure the value of virtually all nationalities worldwide\n",
    "\n",
    "Learn More:\n",
    "\n",
    "[QNI website](https://www.nationalityindex.com/)\n",
    "\n",
    "[Wiki Page](https://en.wikipedia.org/wiki/The_Quality_of_Nationality_Index)"
   ]
  },
  {
   "cell_type": "markdown",
   "metadata": {
    "colab_type": "text",
    "id": "AvU9wJ3Fih6q"
   },
   "source": [
    "Freedom in the World is Freedom House's flagship annual report, assessing the condition of political rights and civil liberties around the world. For each country and territory, Freedom in the World analyzes the electoral process, political pluralism and participation, the functioning of the government, freedom of expression and of belief, associational and organizational rights, the rule of law, and personal autonomy and individual rights.\n",
    "\n",
    "Learn More:\n",
    "\n",
    "[FIW 2018 Report](https://freedomhouse.org/sites/default/files/2020-02/FreedomintheWorld2018COMPLETEBOOK.pdf)"
   ]
  },
  {
   "cell_type": "code",
   "execution_count": 95,
   "metadata": {
    "colab": {
     "base_uri": "https://localhost:8080/",
     "height": 142
    },
    "colab_type": "code",
    "id": "0RIAtMiy3p0u",
    "outputId": "2c6b6ad9-c846-4312-b250-a791a7bd1cf1"
   },
   "outputs": [
    {
     "data": {
      "text/html": [
       "<div>\n",
       "<style scoped>\n",
       "    .dataframe tbody tr th:only-of-type {\n",
       "        vertical-align: middle;\n",
       "    }\n",
       "\n",
       "    .dataframe tbody tr th {\n",
       "        vertical-align: top;\n",
       "    }\n",
       "\n",
       "    .dataframe thead th {\n",
       "        text-align: right;\n",
       "    }\n",
       "</style>\n",
       "<table border=\"1\" class=\"dataframe\">\n",
       "  <thead>\n",
       "    <tr style=\"text-align: right;\">\n",
       "      <th></th>\n",
       "      <th>code</th>\n",
       "      <th>scores</th>\n",
       "    </tr>\n",
       "  </thead>\n",
       "  <tbody>\n",
       "    <tr>\n",
       "      <th>135</th>\n",
       "      <td>NOR</td>\n",
       "      <td>100</td>\n",
       "    </tr>\n",
       "    <tr>\n",
       "      <th>61</th>\n",
       "      <td>FIN</td>\n",
       "      <td>100</td>\n",
       "    </tr>\n",
       "    <tr>\n",
       "      <th>176</th>\n",
       "      <td>SWE</td>\n",
       "      <td>100</td>\n",
       "    </tr>\n",
       "  </tbody>\n",
       "</table>\n",
       "</div>"
      ],
      "text/plain": [
       "    code  scores\n",
       "135  NOR     100\n",
       "61   FIN     100\n",
       "176  SWE     100"
      ]
     },
     "execution_count": 95,
     "metadata": {},
     "output_type": "execute_result"
    }
   ],
   "source": [
    "#Reading the Data\n",
    "Freedom.head(3)"
   ]
  },
  {
   "cell_type": "code",
   "execution_count": 96,
   "metadata": {
    "colab": {
     "base_uri": "https://localhost:8080/",
     "height": 71
    },
    "colab_type": "code",
    "id": "xLsGjRxKt-jg",
    "outputId": "a2603398-9e4e-440d-a86f-9026ac4fc781"
   },
   "outputs": [
    {
     "name": "stdout",
     "output_type": "stream",
     "text": [
      "warn! no data on: MDA MDA MDA MDA MDA MDA MDA MDA MDA MDA MDA CZE MDA MDA MDA MDA CZE MDA MDA MDA CZE CZE MDA MDA CZE MDA CZE CZE MDA CZE MDA CZE MDA MDA CZE CZE CZE MDA CZE CZE MDA CZE CZE MDA CZE MDA CZE CZE CZE MDA MDA CZE CZE CZE MDA CZE MDA CZE CZE CZE CZE CZE CZE CZE CZE CZE MDA CZE VNM CZE MDA CZE VNM TWN MDA TWN MDA TWN TWN MDA TWN TWN TWN KOR TWN CZE TWN TWN TWN TWN TWN TWN TWN TWN TWN TWN CZE TWN MDA TWN TWN TWN TWN TWN TWN TWN TWN VNM TWN TWN VNM VNM TWN TWN CZE TWN VNM TWN VNM TWN CZE VNM TWN TWN TWN VNM VNM CZE TWN CZE TWN MDA VNM VNM VNM VNM VNM VNM VNM MDA VNM VNM VNM VNM VNM MDA VNM TWN MDA VNM CZE VNM VNM VNM VNM VNM VNM VNM CZE KOR CZE CZE MDA VNM VNM VNM VNM VNM VNM VNM VNM VNM VNM TWN TWN MDA MDA VNM VNM CZE TWN TWN TWN RUS MDA VNM VNM TWN TWN VNM CZE RUS MDA VNM KOR RUS TWN RUS RUS CZE RUS RUS MDA RUS RUS CZE KOR CZE KOR RUS KOR MDA MDA RUS RUS RUS VNM RUS RUS RUS CZE RUS TWN RUS RUS RUS RUS RUS RUS RUS RUS RUS RUS RUS RUS TWN RUS MDA RUS RUS RUS RUS RUS RUS TWN RUS VNM RUS RUS TWN RUS KOR KOR KOR RUS RUS KOR RUS RUS KOR RUS KOR RUS KOR KOR KOR KOR RUS KOR RUS KOR CZE KOR KOR KOR KOR KOR KOR KOR KOR RUS KOR KOR KOR KOR KOR MDA KOR KOR KOR KOR KOR KOR KOR RUS VEN RUS KOR KOR RUS KOR TWN VNM RUS KOR KOR KOR KOR KOR VNM KOR KOR TWN VEN KOR VNM VNM VEN KOR KOR RUS KOR VEN VNM VEN VEN KOR VEN VEN VEN VEN MDA VEN KOR VEN VEN VEN VEN VEN VEN VEN VEN VEN VEN VEN VEN VEN VEN VEN VEN VEN VEN CZE VEN VEN VEN VEN VEN VEN VEN VEN VEN VEN VEN VEN VEN VEN VEN VEN VEN VEN VEN VEN VEN VEN VEN VEN VEN "
     ]
    },
    {
     "data": {
      "text/plain": [
       "{'corr': 0.42507787274426784,\n",
       " 'p-value': 3.220493082523334e-66,\n",
       " 'degrees of freedom': 1483}"
      ]
     },
     "execution_count": 96,
     "metadata": {},
     "output_type": "execute_result"
    }
   ],
   "source": [
    "correlation(Freedom)"
   ]
  },
  {
   "cell_type": "code",
   "execution_count": 103,
   "metadata": {},
   "outputs": [
    {
     "data": {
      "text/plain": [
       "(156, 0.8466930457797548, 1.3442786113729712e-44)"
      ]
     },
     "execution_count": 103,
     "metadata": {},
     "output_type": "execute_result"
    }
   ],
   "source": [
    "media_freedom = MediaDF.merge(Freedom, on='code')\n",
    "a = media_freedom['scores_x']\n",
    "b = media_freedom['scores_y']\n",
    "deg_freedom = len(a)-2\n",
    "(corr, p_val) = scipy.stats.pearsonr(a, b)\n",
    "\n",
    "deg_freedom, corr, p_val"
   ]
  },
  {
   "cell_type": "markdown",
   "metadata": {},
   "source": [
    "# Section 4. Popularity-weighted proxy"
   ]
  },
  {
   "cell_type": "code",
   "execution_count": 2,
   "metadata": {},
   "outputs": [],
   "source": [
    "newproxy = pd.read_csv(\"../output/NewProxy.csv\")"
   ]
  },
  {
   "cell_type": "code",
   "execution_count": 3,
   "metadata": {},
   "outputs": [
    {
     "data": {
      "text/html": [
       "<div>\n",
       "<style scoped>\n",
       "    .dataframe tbody tr th:only-of-type {\n",
       "        vertical-align: middle;\n",
       "    }\n",
       "\n",
       "    .dataframe tbody tr th {\n",
       "        vertical-align: top;\n",
       "    }\n",
       "\n",
       "    .dataframe thead th {\n",
       "        text-align: right;\n",
       "    }\n",
       "</style>\n",
       "<table border=\"1\" class=\"dataframe\">\n",
       "  <thead>\n",
       "    <tr style=\"text-align: right;\">\n",
       "      <th></th>\n",
       "      <th>Unnamed: 0</th>\n",
       "      <th>pair</th>\n",
       "      <th>country_code_alpha2_A</th>\n",
       "      <th>country_code_alpha2_B</th>\n",
       "      <th>Overall_Similarity</th>\n",
       "      <th>country_code_alpha3_A</th>\n",
       "      <th>country_code_alpha3_B</th>\n",
       "    </tr>\n",
       "  </thead>\n",
       "  <tbody>\n",
       "    <tr>\n",
       "      <th>0</th>\n",
       "      <td>0</td>\n",
       "      <td>('AD', 'AT')</td>\n",
       "      <td>AD</td>\n",
       "      <td>AT</td>\n",
       "      <td>1.0</td>\n",
       "      <td>AND</td>\n",
       "      <td>AUT</td>\n",
       "    </tr>\n",
       "    <tr>\n",
       "      <th>1</th>\n",
       "      <td>1</td>\n",
       "      <td>('AD', 'BE')</td>\n",
       "      <td>AD</td>\n",
       "      <td>BE</td>\n",
       "      <td>1.0</td>\n",
       "      <td>AND</td>\n",
       "      <td>BEL</td>\n",
       "    </tr>\n",
       "    <tr>\n",
       "      <th>2</th>\n",
       "      <td>2</td>\n",
       "      <td>('AD', 'BR')</td>\n",
       "      <td>AD</td>\n",
       "      <td>BR</td>\n",
       "      <td>1.0</td>\n",
       "      <td>AND</td>\n",
       "      <td>BRA</td>\n",
       "    </tr>\n",
       "    <tr>\n",
       "      <th>3</th>\n",
       "      <td>3</td>\n",
       "      <td>('AD', 'CA')</td>\n",
       "      <td>AD</td>\n",
       "      <td>CA</td>\n",
       "      <td>1.0</td>\n",
       "      <td>AND</td>\n",
       "      <td>CAN</td>\n",
       "    </tr>\n",
       "    <tr>\n",
       "      <th>4</th>\n",
       "      <td>4</td>\n",
       "      <td>('AD', 'CR')</td>\n",
       "      <td>AD</td>\n",
       "      <td>CR</td>\n",
       "      <td>1.0</td>\n",
       "      <td>AND</td>\n",
       "      <td>CRI</td>\n",
       "    </tr>\n",
       "  </tbody>\n",
       "</table>\n",
       "</div>"
      ],
      "text/plain": [
       "   Unnamed: 0          pair country_code_alpha2_A country_code_alpha2_B  \\\n",
       "0           0  ('AD', 'AT')                    AD                    AT   \n",
       "1           1  ('AD', 'BE')                    AD                    BE   \n",
       "2           2  ('AD', 'BR')                    AD                    BR   \n",
       "3           3  ('AD', 'CA')                    AD                    CA   \n",
       "4           4  ('AD', 'CR')                    AD                    CR   \n",
       "\n",
       "   Overall_Similarity country_code_alpha3_A country_code_alpha3_B  \n",
       "0                 1.0                   AND                   AUT  \n",
       "1                 1.0                   AND                   BEL  \n",
       "2                 1.0                   AND                   BRA  \n",
       "3                 1.0                   AND                   CAN  \n",
       "4                 1.0                   AND                   CRI  "
      ]
     },
     "execution_count": 3,
     "metadata": {},
     "output_type": "execute_result"
    }
   ],
   "source": [
    "newproxy.head()"
   ]
  },
  {
   "cell_type": "code",
   "execution_count": 6,
   "metadata": {},
   "outputs": [
    {
     "data": {
      "text/plain": [
       "<matplotlib.axes._subplots.AxesSubplot at 0x7fc9bec02470>"
      ]
     },
     "execution_count": 6,
     "metadata": {},
     "output_type": "execute_result"
    },
    {
     "data": {
      "image/png": "[encoded data removed]",
      "text/plain": [
       "<Figure size 432x288 with 1 Axes>"
      ]
     },
     "metadata": {
      "needs_background": "light"
     },
     "output_type": "display_data"
    }
   ],
   "source": [
    "newproxy['Overall_Similarity'].plot.hist()"
   ]
  },
  {
   "cell_type": "code",
   "execution_count": 24,
   "metadata": {},
   "outputs": [
    {
     "data": {
      "text/plain": [
       "array([0.08333333])"
      ]
     },
     "execution_count": 24,
     "metadata": {},
     "output_type": "execute_result"
    }
   ],
   "source": [
    "def find_similarity (countryA, countryB):\n",
    "    return newproxy[\n",
    "            (newproxy['country_code_alpha2_A']==countryA) &\n",
    "            (newproxy['country_code_alpha2_B']==countryB)\n",
    "        ].Overall_Similarity.values\n",
    "\n",
    "find_similarity('US', 'NO')"
   ]
  },
  {
   "cell_type": "code",
   "execution_count": 7,
   "metadata": {},
   "outputs": [],
   "source": [
    "# create a symmetrical score\n",
    "metrics = pd.read_csv(\"../output/metrics.csv\")"
   ]
  },
  {
   "cell_type": "code",
   "execution_count": 16,
   "metadata": {},
   "outputs": [
    {
     "name": "stdout",
     "output_type": "stream",
     "text": [
      "Series([], Name: Overall_Similarity, dtype: float64)\n"
     ]
    },
    {
     "ename": "RuntimeError",
     "evalue": "No active exception to reraise",
     "output_type": "error",
     "traceback": [
      "\u001b[0;31m---------------------------------------------------------------------------\u001b[0m",
      "\u001b[0;31mRuntimeError\u001b[0m                              Traceback (most recent call last)",
      "\u001b[0;32m<ipython-input-16-af9c08eca84c>\u001b[0m in \u001b[0;36m<module>\u001b[0;34m()\u001b[0m\n\u001b[1;32m     11\u001b[0m         ].Overall_Similarity\n\u001b[1;32m     12\u001b[0m     \u001b[0mprint\u001b[0m\u001b[0;34m(\u001b[0m\u001b[0mweightBA\u001b[0m\u001b[0;34m)\u001b[0m\u001b[0;34m\u001b[0m\u001b[0;34m\u001b[0m\u001b[0m\n\u001b[0;32m---> 13\u001b[0;31m     \u001b[0;32mraise\u001b[0m\u001b[0;34m\u001b[0m\u001b[0;34m\u001b[0m\u001b[0m\n\u001b[0m",
      "\u001b[0;31mRuntimeError\u001b[0m: No active exception to reraise"
     ]
    }
   ],
   "source": [
    "for i, row in metrics.iterrows():\n",
    "    countryA = row['country_code_alpha2_A']\n",
    "    countryB = row['country_code_alpha2_B']\n",
    "    weightAB =\\\n",
    "        newproxy[\n",
    "            (newproxy['country_code_alpha2_A']==countryA) &\n",
    "            (newproxy['country_code_alpha2_B']==countryB)\n",
    "        ].Overall_Similarity\n",
    "    weightBA =\\\n",
    "        newproxy[\n",
    "            (newproxy['country_code_alpha2_A']==countryB) &\n",
    "            (newproxy['country_code_alpha2_B']==countryA)\n",
    "        ].Overall_Similarity\n",
    "    print(weightBA)\n",
    "    raise"
   ]
  }
 ],
 "metadata": {
  "accelerator": "TPU",
  "colab": {
   "collapsed_sections": [
    "wwmBWSLLJQzJ",
    "0UcXBgj9MwJl",
    "nY8uVQYwJQzZ",
    "O2XBbOfVJQzm",
    "nHfBC3U_JQzy",
    "RQYfLRm6JQz0",
    "OLDSUbdNJQ0F",
    "WFyd7MMPJQ0V",
    "1fINWfo6JQ0b",
    "CHmStC83RD53",
    "Z-Iix1x_JQ0i",
    "U0IUy6TCJQ1D",
    "Rl4-MRMgJQ1k",
    "5SBW-hF_XIOv",
    "ixUEoPHaJQ2C",
    "cqW0CImEJQ2M",
    "BrNYT1KMJQ2Y",
    "cJaZwE6EIW-5",
    "mxWYz9Q4lWsn",
    "WA4MsodRlQXc",
    "k2KccZxOuhQg",
    "MgPK89cKXPj7",
    "TSl2v_JOLLig",
    "LRU1AaZNRov2",
    "yJvpa_PVirs8",
    "IvijQ-Lxbusz",
    "i-PkEfHqfAxn",
    "V36DLT4yu6cj"
   ],
   "machine_shape": "hm",
   "name": "ICLAB_Data_Cleaning_and_Analysis.ipynb",
   "provenance": []
  },
  "kernelspec": {
   "display_name": "Python 3",
   "language": "python",
   "name": "python3"
  },
  "language_info": {
   "codemirror_mode": {
    "name": "ipython",
    "version": 3
   },
   "file_extension": ".py",
   "mimetype": "text/x-python",
   "name": "python",
   "nbconvert_exporter": "python",
   "pygments_lexer": "ipython3",
   "version": "3.6.9"
  }
 },
 "nbformat": 4,
 "nbformat_minor": 1
}
